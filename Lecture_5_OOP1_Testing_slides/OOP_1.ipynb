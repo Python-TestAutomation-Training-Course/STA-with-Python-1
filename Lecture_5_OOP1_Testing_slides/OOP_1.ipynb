{
 "cells": [
  {
   "cell_type": "code",
   "execution_count": 63,
   "metadata": {},
   "outputs": [],
   "source": [
    "class MyClass:\n",
    "    pass\n",
    "\n",
    "class OtherClass:\n",
    "    \"\"\"Description\"\"\"\n",
    "    \n",
    "class OtherClass:\n",
    "    ..."
   ]
  },
  {
   "cell_type": "code",
   "execution_count": 354,
   "metadata": {},
   "outputs": [],
   "source": [
    "class Customer:\n",
    "    \"\"\"Created when new customer registers\"\"\"\n",
    "    \n",
    "    def __init__(self, first_name, last_name, age=None):\n",
    "        self.first_name = first_name\n",
    "        self.last_name = last_name\n",
    "        self.age = age\n",
    "        self.full_name = f'{first_name} {last_name}'"
   ]
  },
  {
   "cell_type": "code",
   "execution_count": 355,
   "metadata": {},
   "outputs": [],
   "source": [
    "customer = Customer('Joe', 'Adams', 25)\n",
    "customer.first_name  # 'Joe'\n",
    "customer.age  # 25\n",
    "customer.full_name  #  'Joe Adams'\n",
    "\n",
    "another_customer = Customer('Maria', 'Smith')\n",
    "another_customer.age  # None"
   ]
  },
  {
   "cell_type": "code",
   "execution_count": 360,
   "metadata": {},
   "outputs": [
    {
     "data": {
      "text/plain": [
       "{<__main__.Customer at 0x7f2bf3c2f860>: 5,\n",
       " <__main__.Customer at 0x7f2bf3c2f828>: 6}"
      ]
     },
     "execution_count": 360,
     "metadata": {},
     "output_type": "execute_result"
    }
   ],
   "source": [
    "{customer: 5, another_customer:6}"
   ]
  },
  {
   "cell_type": "code",
   "execution_count": 87,
   "metadata": {},
   "outputs": [
    {
     "data": {
      "text/plain": [
       "'Customer'"
      ]
     },
     "execution_count": 87,
     "metadata": {},
     "output_type": "execute_result"
    }
   ],
   "source": [
    "Customer.__doc__  # 'Created when new customer registers'\n",
    "Customer.__module__  # '__main__'\n",
    "Customer.__base__  # parent class\n",
    "Customer.__name__  # 'Customer'"
   ]
  },
  {
   "cell_type": "code",
   "execution_count": 4,
   "metadata": {},
   "outputs": [],
   "source": [
    "class ClassWithPrivateAttrs:\n",
    "    def __init__(self, arg):\n",
    "        self._arg = arg\n",
    "        \n",
    "    def _private_method(self):\n",
    "        pass\n",
    "    \n",
    "    def __private_method(self):\n",
    "        pass\n",
    "\n",
    "instance = ClassWithPrivateAttrs(42)\n",
    "instance._arg\n",
    "instance._private_method()\n",
    "instance._ClassWithPrivateAttrs__private_method()\n"
   ]
  },
  {
   "cell_type": "code",
   "execution_count": 5,
   "metadata": {},
   "outputs": [
    {
     "name": "stdout",
     "output_type": "stream",
     "text": [
      "Text from App Window\n"
     ]
    }
   ],
   "source": [
    "# Примеры полиморфизма в питоне\n",
    "\n",
    "class Window:\n",
    "    def get_text(self):\n",
    "        return \"Text from Base Window\"\n",
    "    \n",
    "class ApplicationWindow(Window):\n",
    "    def get_text(self):\n",
    "        return \"Text from App Window\"\n",
    "    \n",
    "\n",
    "def read_from_window(window: Window):\n",
    "    print(window.get_text())\n",
    "    \n",
    "    \n",
    "read_from_window(ApplicationWindow())"
   ]
  },
  {
   "cell_type": "code",
   "execution_count": 8,
   "metadata": {},
   "outputs": [
    {
     "data": {
      "text/plain": [
       "'String Representation for ClassWithStr'"
      ]
     },
     "execution_count": 8,
     "metadata": {},
     "output_type": "execute_result"
    }
   ],
   "source": [
    "# Полиморфизм везде\n",
    "\n",
    "class ClassWithStr:\n",
    "    def __str__(self):\n",
    "        return \"String Representation for %s\" % self.__class__.__name__\n",
    "    \n",
    "str(ClassWithStr())"
   ]
  },
  {
   "cell_type": "code",
   "execution_count": 69,
   "metadata": {},
   "outputs": [],
   "source": [
    "# Attributes"
   ]
  },
  {
   "cell_type": "code",
   "execution_count": 5,
   "metadata": {},
   "outputs": [
    {
     "data": {
      "text/plain": [
       "'!!!'"
      ]
     },
     "execution_count": 5,
     "metadata": {},
     "output_type": "execute_result"
    }
   ],
   "source": [
    "class MyClass:\n",
    "    class_attribute = 'Python is awesome!'\n",
    "\n",
    "foo = MyClass()\n",
    "bar = MyClass()\n",
    "foo.class_attribute  # 'Python is awesome!'\n",
    "bar.class_attribute  # 'Python is awesome!'\n",
    "foo.class_attribute = 'new value'\n",
    "bar.class_attribute  # ???\n",
    "\n",
    "MyClass.class_attribute = '!!!'\n",
    "foo.class_attribute  # ???\n",
    "bar.class_attribute  # ???"
   ]
  },
  {
   "cell_type": "code",
   "execution_count": 72,
   "metadata": {},
   "outputs": [
    {
     "data": {
      "text/plain": [
       "mappingproxy({'__module__': '__main__',\n",
       "              'class_attribute': '!!!',\n",
       "              '__dict__': <attribute '__dict__' of 'MyClass' objects>,\n",
       "              '__weakref__': <attribute '__weakref__' of 'MyClass' objects>,\n",
       "              '__doc__': None})"
      ]
     },
     "execution_count": 72,
     "metadata": {},
     "output_type": "execute_result"
    }
   ],
   "source": [
    "foo.__dict__  # {'class_attribute': 'new value'}\n",
    "bar.__dict__  # {}\n",
    "MyClass.__dict__  # mappingproxy('class_attribute': '!!!', ..."
   ]
  },
  {
   "cell_type": "code",
   "execution_count": 172,
   "metadata": {},
   "outputs": [
    {
     "ename": "AttributeError",
     "evalue": "'MyClass' object has no attribute '__dict__'",
     "output_type": "error",
     "traceback": [
      "\u001b[0;31m---------------------------------------------------------------------------\u001b[0m",
      "\u001b[0;31mAttributeError\u001b[0m                            Traceback (most recent call last)",
      "\u001b[0;32m<ipython-input-172-79c6e441a218>\u001b[0m in \u001b[0;36m<module>\u001b[0;34m\u001b[0m\n\u001b[1;32m      8\u001b[0m \u001b[0mfoo\u001b[0m \u001b[0;34m=\u001b[0m \u001b[0mMyClass\u001b[0m\u001b[0;34m(\u001b[0m\u001b[0;36m222\u001b[0m\u001b[0;34m)\u001b[0m\u001b[0;34m\u001b[0m\u001b[0;34m\u001b[0m\u001b[0m\n\u001b[1;32m      9\u001b[0m \u001b[0mfoo\u001b[0m\u001b[0;34m.\u001b[0m\u001b[0mjust_one\u001b[0m  \u001b[0;31m# 222\u001b[0m\u001b[0;34m\u001b[0m\u001b[0;34m\u001b[0m\u001b[0m\n\u001b[0;32m---> 10\u001b[0;31m \u001b[0mfoo\u001b[0m\u001b[0;34m.\u001b[0m\u001b[0m__dict__\u001b[0m  \u001b[0;31m# AttributeError: 'MyClass' object has no attribute '__dict__'\u001b[0m\u001b[0;34m\u001b[0m\u001b[0;34m\u001b[0m\u001b[0m\n\u001b[0m\u001b[1;32m     11\u001b[0m \u001b[0mfoo\u001b[0m\u001b[0;34m.\u001b[0m\u001b[0msome_attr\u001b[0m \u001b[0;34m=\u001b[0m \u001b[0;36m5\u001b[0m  \u001b[0;31m# AttributeError: 'MyClass' object has no attribute 'some_attr'\u001b[0m\u001b[0;34m\u001b[0m\u001b[0;34m\u001b[0m\u001b[0m\n\u001b[1;32m     12\u001b[0m \u001b[0mfoo\u001b[0m\u001b[0;34m.\u001b[0m\u001b[0mjust_one\u001b[0m \u001b[0;34m=\u001b[0m \u001b[0;34m'It works'\u001b[0m\u001b[0;34m\u001b[0m\u001b[0;34m\u001b[0m\u001b[0m\n",
      "\u001b[0;31mAttributeError\u001b[0m: 'MyClass' object has no attribute '__dict__'"
     ]
    }
   ],
   "source": [
    "class MyClass:\n",
    "    __slots__ = ['just_one']\n",
    "    \n",
    "    def __init__(self, number):\n",
    "        self.just_one = number\n",
    "\n",
    "\n",
    "foo = MyClass(222)\n",
    "foo.just_one  # 222\n",
    "foo.__dict__  # AttributeError\n",
    "foo.some_attr = 5  # AttributeError\n",
    "foo.just_one = 'It works'"
   ]
  },
  {
   "cell_type": "code",
   "execution_count": 204,
   "metadata": {},
   "outputs": [
    {
     "data": {
      "text/plain": [
       "<bound method MyClass.bound_method of <__main__.MyClass object at 0x7f2bf3db5a58>>"
      ]
     },
     "execution_count": 204,
     "metadata": {},
     "output_type": "execute_result"
    }
   ],
   "source": [
    "'''Функция и метод. Отличие терминов в Питоне. Метод существует при каком то классе, связаная функция bound пример из консоли.\n",
    "метод классса может не получать self\n",
    "'''\n",
    "def just_func():\n",
    "    pass\n",
    "\n",
    "class MyClass:\n",
    "    def bound_method(self):\n",
    "        pass\n",
    "\n",
    "\n",
    "just_func  # <function __main__.just_func()>\n",
    "MyClass().bound_method  # <bound method ..."
   ]
  },
  {
   "cell_type": "code",
   "execution_count": 202,
   "metadata": {},
   "outputs": [],
   "source": [
    "class SomeClass:\n",
    "    \n",
    "    # bound_method\n",
    "    def __init__(self, number):\n",
    "        self.number = number\n",
    "    \n",
    "    # function\n",
    "    @staticmethod\n",
    "    def just_function():\n",
    "        return \"I cannot change class instance\"\n",
    "    \n",
    "    # bound_method\n",
    "    @classmethod\n",
    "    def create_new_object(cls, *args, **kwargs):\n",
    "        return cls(*args, **kwargs)\n",
    "\n",
    "\n",
    "foo = SomeClass(5)\n",
    "bar = foo.create_new_object(10)\n",
    "foo is bar  # False"
   ]
  },
  {
   "cell_type": "code",
   "execution_count": 6,
   "metadata": {},
   "outputs": [
    {
     "ename": "AttributeError",
     "evalue": "can't set attribute",
     "output_type": "error",
     "traceback": [
      "\u001b[1;31m---------------------------------------------------------------------------\u001b[0m",
      "\u001b[1;31mAttributeError\u001b[0m                            Traceback (most recent call last)",
      "\u001b[1;32m<ipython-input-6-69841ef62c58>\u001b[0m in \u001b[0;36m<module>\u001b[1;34m\u001b[0m\n\u001b[0;32m     19\u001b[0m \u001b[0mt\u001b[0m \u001b[1;33m=\u001b[0m \u001b[0mTemperature\u001b[0m\u001b[1;33m(\u001b[0m\u001b[1;36m305.7\u001b[0m\u001b[1;33m)\u001b[0m\u001b[1;33m\u001b[0m\u001b[1;33m\u001b[0m\u001b[0m\n\u001b[0;32m     20\u001b[0m \u001b[0mt\u001b[0m\u001b[1;33m.\u001b[0m\u001b[0mcelsius\u001b[0m  \u001b[1;31m# 32.55\u001b[0m\u001b[1;33m\u001b[0m\u001b[1;33m\u001b[0m\u001b[0m\n\u001b[1;32m---> 21\u001b[1;33m \u001b[0mt\u001b[0m\u001b[1;33m.\u001b[0m\u001b[0mcelsius\u001b[0m \u001b[1;33m=\u001b[0m \u001b[1;36m1\u001b[0m\u001b[1;33m\u001b[0m\u001b[1;33m\u001b[0m\u001b[0m\n\u001b[0m",
      "\u001b[1;31mAttributeError\u001b[0m: can't set attribute"
     ]
    }
   ],
   "source": [
    "'''\n",
    "Декоратор @property Изменяет поведение при get, в основе его лежат дескрипторы, подробно в следующих лекциях.\n",
    "Это метод, который предоставляет интерфейс атрибута и рассчитывается при каждом вызове\n",
    "Например для подсчета чего то на основе атрибутов класса\n",
    "можно так же изменить поведение при set и delete\n",
    "'''\n",
    "class Temperature:\n",
    "    \n",
    "    # temperature kelvin\n",
    "    def __init__(self, kelvin: float):\n",
    "        self.kelvin = kelvin\n",
    "    \n",
    "    @property\n",
    "    def celsius(self):\n",
    "        celsius = self.kelvin - 273.15\n",
    "        return round(celsius, 2)\n",
    "    \n",
    "\n",
    "t = Temperature(305.7)\n",
    "t.celsius  # 32.55\n",
    "t.celsius = 1"
   ]
  },
  {
   "cell_type": "code",
   "execution_count": 235,
   "metadata": {},
   "outputs": [],
   "source": [
    "class Temperature:\n",
    "    \n",
    "    # temperature kelvin\n",
    "    def __init__(self, kelvin: float):\n",
    "        self.kelvin = kelvin\n",
    "    \n",
    "    @property\n",
    "    def celsius(self):\n",
    "        celsius = self.kelvin - 273.15\n",
    "        return round(celsius, 2)\n",
    "        \n",
    "    @celsius.setter\n",
    "    def celsius(self, celsius):\n",
    "        self.kelvin = celsius + 273.15\n",
    "\n",
    "    @celsius.deleter\n",
    "    def celsius(self):\n",
    "        self.kelvin = None\n",
    "\n",
    "t = Temperature(305.7)\n",
    "\n",
    "t.celsius = 40\n",
    "t.kelvin  # 313.15\n",
    "t.celsius # 40.0\n",
    "\n",
    "del t.celsius\n",
    "t.kelvin  # None"
   ]
  },
  {
   "cell_type": "code",
   "execution_count": 237,
   "metadata": {},
   "outputs": [],
   "source": [
    "class Temperature:\n",
    "    \n",
    "    # temperature kelvin\n",
    "    def __init__(self, kelvin: float):\n",
    "        self.kelvin = kelvin\n",
    "    \n",
    "    def _get_celsius(self):\n",
    "        celsius = self.kelvin - 273.15\n",
    "        return round(celsius, 2)\n",
    "        \n",
    "    def _set_celsius(self, celsius):\n",
    "        self.kelvin = celsius + 273.15\n",
    "\n",
    "    def _delete_celsius(self):\n",
    "        self.kelvin = None\n",
    "    \n",
    "    celsius = property(_get_celsius, _set_celsius, _delete_celsius)"
   ]
  }
 ],
 "metadata": {
  "kernelspec": {
   "display_name": "Python 3",
   "language": "python",
   "name": "python3"
  },
  "language_info": {
   "codemirror_mode": {
    "name": "ipython",
    "version": 3
   },
   "file_extension": ".py",
   "mimetype": "text/x-python",
   "name": "python",
   "nbconvert_exporter": "python",
   "pygments_lexer": "ipython3",
   "version": "3.6.8"
  }
 },
 "nbformat": 4,
 "nbformat_minor": 2
}
