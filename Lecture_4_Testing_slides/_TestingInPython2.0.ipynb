{
 "cells": [
  {
   "cell_type": "markdown",
   "id": "f9f58cc6",
   "metadata": {
    "slideshow": {
     "slide_type": "slide"
    }
   },
   "source": [
    "# Testing in Python"
   ]
  },
  {
   "cell_type": "markdown",
   "id": "93806753",
   "metadata": {
    "slideshow": {
     "slide_type": "slide"
    }
   },
   "source": [
    "# Agenda\n",
    "\n",
    "* Testing pyramid\n",
    "* Test runner characteristics\n",
    "* Test structure\n",
    "* Tests best practices\n",
    "* Unittest\n",
    "* Pytest\n",
    "* RobotFramework"
   ]
  },
  {
   "cell_type": "markdown",
   "id": "ca41b836",
   "metadata": {
    "slideshow": {
     "slide_type": "slide"
    }
   },
   "source": [
    "# Testing pyramid\n",
    "\n"
   ]
  },
  {
   "cell_type": "markdown",
   "id": "0b9f0098",
   "metadata": {
    "slideshow": {
     "slide_type": "fragment"
    }
   },
   "source": [
    "![test_pyramid.png](images/test_pyramid.png)"
   ]
  },
  {
   "cell_type": "markdown",
   "id": "d3625d69",
   "metadata": {
    "slideshow": {
     "slide_type": "slide"
    }
   },
   "source": [
    "# Testing pyramid vs Runners\n",
    "\n"
   ]
  },
  {
   "cell_type": "markdown",
   "id": "27bed546",
   "metadata": {
    "slideshow": {
     "slide_type": "fragment"
    }
   },
   "source": [
    "![test_pyramid.png](images/test_pyramid2.png)"
   ]
  },
  {
   "cell_type": "markdown",
   "id": "a9aeb17f",
   "metadata": {
    "slideshow": {
     "slide_type": "slide"
    }
   },
   "source": [
    "# Test runner characteristics"
   ]
  },
  {
   "cell_type": "markdown",
   "id": "9c4c44fa",
   "metadata": {
    "slideshow": {
     "slide_type": "fragment"
    }
   },
   "source": [
    "1. **Structure**: test case structure, test naming, config files"
   ]
  },
  {
   "cell_type": "markdown",
   "id": "24a26f08",
   "metadata": {
    "slideshow": {
     "slide_type": "fragment"
    }
   },
   "source": [
    "2. **Launcher**: run parameters, command line or CI/CD"
   ]
  },
  {
   "cell_type": "markdown",
   "id": "4f8c5f15",
   "metadata": {
    "slideshow": {
     "slide_type": "fragment"
    }
   },
   "source": [
    "3. **Setup/teardown and fixtures**: scope, parameters, fixtures"
   ]
  },
  {
   "cell_type": "markdown",
   "id": "f3b2e8f3",
   "metadata": {
    "slideshow": {
     "slide_type": "fragment"
    }
   },
   "source": [
    "4. **Parametrization**: direct, indirect"
   ]
  },
  {
   "cell_type": "markdown",
   "id": "7af045a4",
   "metadata": {
    "slideshow": {
     "slide_type": "fragment"
    }
   },
   "source": [
    "5. **Asserts**: flexible, informative"
   ]
  },
  {
   "cell_type": "markdown",
   "id": "6a8c74d5",
   "metadata": {
    "slideshow": {
     "slide_type": "fragment"
    }
   },
   "source": [
    "6. **Reporting**: single file, available online"
   ]
  },
  {
   "cell_type": "markdown",
   "id": "1d60a92d",
   "metadata": {
    "slideshow": {
     "slide_type": "fragment"
    }
   },
   "source": [
    "7. **Userful features**: marks/tags/keywords, mocks"
   ]
  },
  {
   "cell_type": "markdown",
   "id": "27c0836e",
   "metadata": {
    "slideshow": {
     "slide_type": "fragment"
    }
   },
   "source": [
    "8. **Popular methodolodies**: data driven testing, business driven testing, keyword driven testing"
   ]
  },
  {
   "cell_type": "markdown",
   "id": "9f782b8c",
   "metadata": {
    "slideshow": {
     "slide_type": "fragment"
    }
   },
   "source": [
    "9. **Plugins**: additional capabilities (e.g. reruns)"
   ]
  },
  {
   "cell_type": "markdown",
   "id": "1dcec32d",
   "metadata": {
    "slideshow": {
     "slide_type": "fragment"
    }
   },
   "source": [
    "10. **Concurrent execution**"
   ]
  },
  {
   "cell_type": "markdown",
   "id": "17b23742",
   "metadata": {
    "slideshow": {
     "slide_type": "slide"
    }
   },
   "source": [
    "# Test structure"
   ]
  },
  {
   "cell_type": "markdown",
   "id": "314b961d",
   "metadata": {
    "slideshow": {
     "slide_type": "fragment"
    }
   },
   "source": [
    "### Arrange -> Act -> Assert = Given -> When -> Then"
   ]
  },
  {
   "cell_type": "markdown",
   "id": "56afbcaf",
   "metadata": {
    "slideshow": {
     "slide_type": "fragment"
    }
   },
   "source": [
    "* **Arrange (Given)**\n",
    "    * setup method, fixture, factory pattern"
   ]
  },
  {
   "cell_type": "markdown",
   "id": "9cbd5e1b",
   "metadata": {
    "slideshow": {
     "slide_type": "fragment"
    }
   },
   "source": [
    "* **Act (When)**\n",
    "    * one simple action"
   ]
  },
  {
   "cell_type": "markdown",
   "id": "2b0ef374",
   "metadata": {
    "slideshow": {
     "slide_type": "fragment"
    }
   },
   "source": [
    "* **Assert (Then)**\n",
    "    * one or several (not many) asserts that check the action above"
   ]
  },
  {
   "cell_type": "markdown",
   "id": "4ef3fe0b",
   "metadata": {
    "slideshow": {
     "slide_type": "fragment"
    }
   },
   "source": [
    "* **Cleanup (optional)**\n",
    "    * for convenience, not precondition!"
   ]
  },
  {
   "cell_type": "markdown",
   "id": "4f7b3387",
   "metadata": {
    "slideshow": {
     "slide_type": "slide"
    }
   },
   "source": [
    "# Tests best practices"
   ]
  },
  {
   "cell_type": "markdown",
   "id": "1c9dd6c5",
   "metadata": {
    "slideshow": {
     "slide_type": "fragment"
    }
   },
   "source": [
    "* ***Tests MUST be independent***"
   ]
  },
  {
   "cell_type": "markdown",
   "id": "ff17ea4c",
   "metadata": {
    "slideshow": {
     "slide_type": "fragment"
    }
   },
   "source": [
    "* Tests must be informative\n",
    "    * name\n",
    "    * assert"
   ]
  },
  {
   "cell_type": "markdown",
   "id": "76c8e8d0",
   "metadata": {
    "slideshow": {
     "slide_type": "fragment"
    }
   },
   "source": [
    "* Tests must be simple\n",
    "    * check one thing at a time"
   ]
  },
  {
   "cell_type": "markdown",
   "id": "530f3a52",
   "metadata": {
    "slideshow": {
     "slide_type": "fragment"
    }
   },
   "source": [
    "* Tests must not have:\n",
    "    * inner logic (ifs, loops...)\n",
    "    * access by indexes"
   ]
  },
  {
   "cell_type": "markdown",
   "id": "6f3925d8",
   "metadata": {
    "slideshow": {
     "slide_type": "fragment"
    }
   },
   "source": [
    "* Tests must be easily readable\n",
    "    * follow Arrange/Act/Assert (Given/When/Then) approach\n",
    "    * group steps in needed"
   ]
  },
  {
   "cell_type": "markdown",
   "id": "cdd572a6",
   "metadata": {
    "slideshow": {
     "slide_type": "slide"
    }
   },
   "source": [
    "# Unittest"
   ]
  },
  {
   "cell_type": "markdown",
   "id": "edf94a24",
   "metadata": {
    "slideshow": {
     "slide_type": "fragment"
    }
   },
   "source": [
    "* a spiritual successor of JUnit"
   ]
  },
  {
   "cell_type": "markdown",
   "id": "0d36757c",
   "metadata": {
    "slideshow": {
     "slide_type": "fragment"
    }
   },
   "source": [
    "* built around **unittest.TestCase** class"
   ]
  },
  {
   "cell_type": "markdown",
   "id": "ee7bf85c",
   "metadata": {
    "slideshow": {
     "slide_type": "fragment"
    }
   },
   "source": [
    "* can be run from the module, but preferably to be run from a separate file"
   ]
  },
  {
   "cell_type": "markdown",
   "id": "1070fc41",
   "metadata": {
    "slideshow": {
     "slide_type": "fragment"
    }
   },
   "source": [
    "* tests are methods in a class and must start with test_"
   ]
  },
  {
   "cell_type": "markdown",
   "id": "4a75e9b6",
   "metadata": {
    "slideshow": {
     "slide_type": "slide"
    }
   },
   "source": [
    "# A simple example"
   ]
  },
  {
   "cell_type": "code",
   "execution_count": null,
   "id": "3f445473",
   "metadata": {
    "slideshow": {
     "slide_type": "fragment"
    }
   },
   "outputs": [],
   "source": [
    "import unittest\n",
    "\n",
    "class SampleTestCase(unittest.TestCase):                      # Must inherit from unittest.TestCase, any class name\n",
    "     \n",
    "    def test_first_test(self):                                # Must start with test_\n",
    "        number = 42\n",
    "        self.assertEqual(number, 42)\n",
    "    \n",
    "if __name__ == '__main__':\n",
    "    unittest.main(argv=['first-arg-is-ignored'], exit=False)  # Just for Jupyter Notebook\n",
    "    # unittest.main()                                         # Please, use this instead"
   ]
  },
  {
   "cell_type": "markdown",
   "id": "51825b40",
   "metadata": {
    "slideshow": {
     "slide_type": "slide"
    }
   },
   "source": [
    "# test_filename vs filename_test"
   ]
  },
  {
   "cell_type": "code",
   "execution_count": null,
   "id": "973a89da",
   "metadata": {
    "slideshow": {
     "slide_type": "fragment"
    }
   },
   "outputs": [],
   "source": [
    "!dir unittest_folder"
   ]
  },
  {
   "cell_type": "markdown",
   "id": "8c815ec0",
   "metadata": {
    "slideshow": {
     "slide_type": "slide"
    }
   },
   "source": [
    "# Writing unit tests for a module"
   ]
  },
  {
   "cell_type": "code",
   "execution_count": null,
   "id": "df9901fe",
   "metadata": {
    "slideshow": {
     "slide_type": "fragment"
    }
   },
   "outputs": [],
   "source": [
    "# unittest_folder/some_code.py\n",
    "\n",
    "def get_square(number):\n",
    "    square = number ** 2\n",
    "    \n",
    "    return square"
   ]
  },
  {
   "cell_type": "code",
   "execution_count": null,
   "id": "32cf9a37",
   "metadata": {
    "slideshow": {
     "slide_type": "fragment"
    }
   },
   "outputs": [],
   "source": [
    "# unittestfolder/test_some_code.py\n",
    "\n",
    "import unittest\n",
    "import some_code\n",
    "\n",
    "class TestSomeCode(unittest.TestCase):\n",
    "    \n",
    "    def test_square_positive_number(self):\n",
    "        square = some_code.get_square(2)\n",
    "        \n",
    "        self.assertEqual(square, 4)\n",
    "    \n",
    "if __name__ == '__main__':\n",
    "    unittest.main()"
   ]
  },
  {
   "cell_type": "code",
   "execution_count": null,
   "id": "a171e2d7",
   "metadata": {
    "slideshow": {
     "slide_type": "fragment"
    }
   },
   "outputs": [],
   "source": [
    "!py unittest_folder/test_some_code.py"
   ]
  },
  {
   "cell_type": "markdown",
   "id": "2fa1144e",
   "metadata": {
    "slideshow": {
     "slide_type": "slide"
    }
   },
   "source": [
    "# unittest is a runner"
   ]
  },
  {
   "cell_type": "code",
   "execution_count": null,
   "id": "d21b9f85",
   "metadata": {
    "slideshow": {
     "slide_type": "fragment"
    }
   },
   "outputs": [],
   "source": [
    "!py -m unittest --help"
   ]
  },
  {
   "cell_type": "markdown",
   "id": "c416310c",
   "metadata": {
    "slideshow": {
     "slide_type": "slide"
    }
   },
   "source": [
    "# Verbose mode"
   ]
  },
  {
   "cell_type": "code",
   "execution_count": null,
   "id": "b474edbe",
   "metadata": {
    "slideshow": {
     "slide_type": "fragment"
    }
   },
   "outputs": [],
   "source": [
    "!py -m unittest discover -v -s unittest_folder"
   ]
  },
  {
   "cell_type": "markdown",
   "id": "0cb105b5",
   "metadata": {
    "slideshow": {
     "slide_type": "slide"
    }
   },
   "source": [
    "# Setup and teardown for a test/a class"
   ]
  },
  {
   "cell_type": "code",
   "execution_count": null,
   "id": "c5fbc042",
   "metadata": {
    "slideshow": {
     "slide_type": "fragment"
    }
   },
   "outputs": [],
   "source": [
    "import unittest\n",
    "\n",
    "class SampleTestCase(unittest.TestCase):\n",
    "     \n",
    "    def setUp(self):                                          # Must be cameCase\n",
    "        print(\"This is a test setup.\")\n",
    "        self.number1 = 42\n",
    "    \n",
    "    def tearDown(self):                                       # Must be cameCase\n",
    "        print(\"This is a test teardown.\")\n",
    "        self.number1 = 0\n",
    "        \n",
    "    @classmethod                                              # Must have this decorator\n",
    "    def setUpClass(cls):                                      # Must be cameCase\n",
    "        print(\"This is a class setup.\")\n",
    "        \n",
    "    @classmethod                                              # Must have this decorator\n",
    "    def tearDownClass(cls):                                   # Must be cameCase\n",
    "        print(\"This is a class teardown.\")\n",
    "\n",
    "    def test_answer_is_42(self):\n",
    "        print(\"This is Test #1\")\n",
    "        self.assertEqual(self.number1, 42)\n",
    "        \n",
    "    def test_answer_is_not_666(self):\n",
    "        print(\"This is Test #2\")\n",
    "        self.assertNotEqual(self.number1, 666)\n",
    "    \n",
    "if __name__ == '__main__':\n",
    "    unittest.main(argv=['first-arg-is-ignored'], exit=False)  # Just for Jupyter Notebook"
   ]
  },
  {
   "cell_type": "markdown",
   "id": "8f23d5fc",
   "metadata": {
    "slideshow": {
     "slide_type": "slide"
    }
   },
   "source": [
    "# Failed tests and skipped tests"
   ]
  },
  {
   "cell_type": "code",
   "execution_count": null,
   "id": "74297693",
   "metadata": {
    "slideshow": {
     "slide_type": "fragment"
    }
   },
   "outputs": [],
   "source": [
    "import unittest\n",
    "\n",
    "class SampleTestCase(unittest.TestCase):\n",
    "     \n",
    "    def setUp(self):\n",
    "        self.number1 = 42\n",
    "\n",
    "    def test_answer_is_666(self):\n",
    "        self.assertEqual(self.number1, 666)\n",
    "        \n",
    "    @unittest.skip(\"I don't like this test\")\n",
    "    def test_answer_is_not_666(self):\n",
    "        number2 = 666\n",
    "        self.assertNotEqual(self.number1, number2)\n",
    "    \n",
    "if __name__ == '__main__':\n",
    "    unittest.main(argv=['first-arg-is-ignored'], exit=False)  # Just for Jupyter Notebook\n",
    "    # unittest.main()                                         # Please, use this instead"
   ]
  },
  {
   "cell_type": "markdown",
   "id": "5f6e4862",
   "metadata": {
    "slideshow": {
     "slide_type": "slide"
    }
   },
   "source": [
    "# Unittest summary\n",
    "\n"
   ]
  },
  {
   "cell_type": "markdown",
   "id": "1b07b1be",
   "metadata": {
    "slideshow": {
     "slide_type": "fragment"
    }
   },
   "source": [
    "* **Advantages**:\n",
    "    * in-build Python module, i.e. no installation needed\n",
    "    * setup/teardown fixtures for tests/classes are supported\n",
    "    * easy to write and to start\n",
    "    * mocks are available"
   ]
  },
  {
   "cell_type": "markdown",
   "id": "979cc201",
   "metadata": {
    "slideshow": {
     "slide_type": "fragment"
    }
   },
   "source": [
    "* **Disadvantages**:\n",
    "    * no test/fixture parametrization\n",
    "    * no data driven testing\n",
    "    * no reports out-of-the-box"
   ]
  },
  {
   "cell_type": "markdown",
   "id": "d5713b81",
   "metadata": {
    "slideshow": {
     "slide_type": "slide"
    }
   },
   "source": [
    "# Pytest\n",
    "\n"
   ]
  },
  {
   "cell_type": "markdown",
   "id": "5fc2fc62",
   "metadata": {
    "slideshow": {
     "slide_type": "fragment"
    }
   },
   "source": [
    "* A third-party solution, developed since 2007"
   ]
  },
  {
   "cell_type": "markdown",
   "id": "d86b501d",
   "metadata": {
    "slideshow": {
     "slide_type": "fragment"
    }
   },
   "source": [
    "* Can be run via commandline or from IDE"
   ]
  },
  {
   "cell_type": "markdown",
   "id": "700ceb6e",
   "metadata": {
    "slideshow": {
     "slide_type": "fragment"
    }
   },
   "source": [
    "* A test is any function that starts with test_ in a file that starts with test_"
   ]
  },
  {
   "cell_type": "markdown",
   "id": "b0bf1003",
   "metadata": {
    "slideshow": {
     "slide_type": "fragment"
    }
   },
   "source": [
    "* Flexible, customizable, well documented and supported"
   ]
  },
  {
   "cell_type": "markdown",
   "id": "e0cef8b6",
   "metadata": {
    "slideshow": {
     "slide_type": "slide"
    }
   },
   "source": [
    "# Pytest is a runner"
   ]
  },
  {
   "cell_type": "code",
   "execution_count": null,
   "id": "bae2e9b9",
   "metadata": {
    "slideshow": {
     "slide_type": "fragment"
    }
   },
   "outputs": [],
   "source": [
    "# pip install pytest\n",
    "!pytest --help"
   ]
  },
  {
   "cell_type": "markdown",
   "id": "810eae41",
   "metadata": {
    "slideshow": {
     "slide_type": "slide"
    }
   },
   "source": [
    "# Simple test"
   ]
  },
  {
   "cell_type": "code",
   "execution_count": null,
   "id": "0459a13b",
   "metadata": {
    "slideshow": {
     "slide_type": "fragment"
    }
   },
   "outputs": [],
   "source": [
    "#pytest/SimpleTest/test_pytest_simple.py\n",
    "\n",
    "import requests\n",
    "from hamcrest import assert_that, equal_to\n",
    "\n",
    "def test_google_is_ok():\n",
    "    response = requests.get(\"https://www.google.com\")\n",
    "    \n",
    "    assert_that(response.status_code, equal_to(200))"
   ]
  },
  {
   "cell_type": "code",
   "execution_count": null,
   "id": "c040bc08",
   "metadata": {
    "slideshow": {
     "slide_type": "fragment"
    }
   },
   "outputs": [],
   "source": [
    "!pytest -v pytest/SimpleTest/"
   ]
  },
  {
   "cell_type": "markdown",
   "id": "de07ea12",
   "metadata": {
    "slideshow": {
     "slide_type": "slide"
    }
   },
   "source": [
    "# Parametrization"
   ]
  },
  {
   "cell_type": "code",
   "execution_count": null,
   "id": "125af892",
   "metadata": {
    "slideshow": {
     "slide_type": "fragment"
    }
   },
   "outputs": [],
   "source": [
    "# pytest/Parametrization/test_pytest_parametrization.py\n",
    "\n",
    "import requests\n",
    "import pytest\n",
    "\n",
    "from hamcrest import assert_that, equal_to\n",
    "\n",
    "@pytest.mark.parametrize(\"url\", [\"https://www.google.com\", \"https://www.facebook.com\"])\n",
    "def test_website_is_ok(url):\n",
    "    response = requests.get(url)\n",
    "    \n",
    "    assert_that(response.status_code, equal_to(200))"
   ]
  },
  {
   "cell_type": "code",
   "execution_count": null,
   "id": "a2317c8a",
   "metadata": {
    "slideshow": {
     "slide_type": "fragment"
    }
   },
   "outputs": [],
   "source": [
    "!pytest -v pytest/Parametrization/"
   ]
  },
  {
   "cell_type": "markdown",
   "id": "a7dea911",
   "metadata": {
    "slideshow": {
     "slide_type": "slide"
    }
   },
   "source": [
    "# Conftest and fixtures"
   ]
  },
  {
   "cell_type": "code",
   "execution_count": null,
   "id": "3841fa5d",
   "metadata": {
    "slideshow": {
     "slide_type": "fragment"
    }
   },
   "outputs": [],
   "source": [
    "# pytest/Conftest/conftest.py\n",
    "\n",
    "import random\n",
    "import pytest\n",
    "\n",
    "\n",
    "@pytest.fixture\n",
    "def random_url():\n",
    "    random_website = random.choice([\"google\", \"HELLO WORLD\"])\n",
    "    \n",
    "    return f\"https://www.{random_website}.com\""
   ]
  },
  {
   "cell_type": "code",
   "execution_count": null,
   "id": "5dacf6a6",
   "metadata": {
    "slideshow": {
     "slide_type": "fragment"
    }
   },
   "outputs": [],
   "source": [
    "# pytest/Conftest/test_random_url.py\n",
    "\n",
    "import requests\n",
    "from hamcrest import assert_that, equal_to\n",
    "\n",
    "def test_random_website_is_ok(random_url):\n",
    "    response = requests.get(random_url)\n",
    "    \n",
    "    assert_that(response.status_code, equal_to(200))"
   ]
  },
  {
   "cell_type": "code",
   "execution_count": null,
   "id": "392f4f72",
   "metadata": {
    "slideshow": {
     "slide_type": "fragment"
    }
   },
   "outputs": [],
   "source": [
    "!pytest -v --tb=line pytest/Conftest/"
   ]
  },
  {
   "cell_type": "markdown",
   "id": "ed85f49c",
   "metadata": {
    "slideshow": {
     "slide_type": "slide"
    }
   },
   "source": [
    "# Setup/teardown fixtures + autouse + scope"
   ]
  },
  {
   "cell_type": "code",
   "execution_count": null,
   "id": "52d88c12",
   "metadata": {
    "slideshow": {
     "slide_type": "fragment"
    }
   },
   "outputs": [],
   "source": [
    "# pytest/SetupTeardown/conftest.py\n",
    "\n",
    "import random\n",
    "import pytest\n",
    "\n",
    "\n",
    "@pytest.fixture(autouse=True)\n",
    "def setup():\n",
    "    print(\"\\nThis is the setup fixture\")\n",
    "    \n",
    "\n",
    "@pytest.fixture(autouse=True)\n",
    "def clean_up():\n",
    "    yield\n",
    "    print(\"\\nThis is the teardown fixture\")\n",
    "    \n",
    "    \n",
    "@pytest.fixture(autouse=True, scope=\"session\")\n",
    "def setup_session():\n",
    "    print(\"\\nThis is the session setup fixture\")\n",
    "    \n",
    "\n",
    "@pytest.fixture(autouse=True, scope=\"session\")\n",
    "def clean_up_session():\n",
    "    yield\n",
    "    print(\"\\nThis is the session teardown fixture\")"
   ]
  },
  {
   "cell_type": "code",
   "execution_count": null,
   "id": "981d75ba",
   "metadata": {
    "slideshow": {
     "slide_type": "slide"
    }
   },
   "outputs": [],
   "source": [
    "!pytest -v -s pytest/SetupTeardown/"
   ]
  },
  {
   "cell_type": "markdown",
   "id": "7e52d9e3",
   "metadata": {
    "slideshow": {
     "slide_type": "slide"
    }
   },
   "source": [
    "# Marks vs keywords"
   ]
  },
  {
   "cell_type": "markdown",
   "id": "78e92a86",
   "metadata": {
    "slideshow": {
     "slide_type": "fragment"
    }
   },
   "source": [
    "* A ***mark*** is a special decorator that we add to a test"
   ]
  },
  {
   "cell_type": "markdown",
   "id": "973085a6",
   "metadata": {
    "slideshow": {
     "slide_type": "fragment"
    }
   },
   "source": [
    "* A ***keyword*** is a part of the test name"
   ]
  },
  {
   "cell_type": "markdown",
   "id": "1117d6e5",
   "metadata": {
    "slideshow": {
     "slide_type": "fragment"
    }
   },
   "source": [
    "* Both be used as arguments when starting pytest"
   ]
  },
  {
   "cell_type": "markdown",
   "id": "00a5c0d7",
   "metadata": {
    "slideshow": {
     "slide_type": "fragment"
    }
   },
   "source": [
    "* You can look for NOT mark/keyword"
   ]
  },
  {
   "cell_type": "code",
   "execution_count": null,
   "id": "fc66c36a",
   "metadata": {
    "slideshow": {
     "slide_type": "slide"
    }
   },
   "outputs": [],
   "source": [
    "# pytest/MarksKeywords/test/marks/keywords.py \n",
    "\n",
    "import pytest \n",
    "import requests\n",
    "\n",
    "from requests.exceptions import ConnectionError\n",
    "from hamcrest import assert_that, equal_to, is_in\n",
    "\n",
    "@pytest.mark.foobar                                               # A mark with a custom name\n",
    "def test_google_is_ok():\n",
    "    response = requests.get(\"https://www.google.com\")\n",
    "    \n",
    "    assert_that(response.status_code, equal_to(200))\n",
    "    \n",
    "    \n",
    "def test_facebook_is_ok():                                       # is_ok is repeated in several tests\n",
    "    response = requests.get(\"https://www.facebook.com\")\n",
    "    \n",
    "    assert_that(response.status_code, equal_to(200))\n",
    "    \n",
    "\n",
    "def test_hello_world_is_not_ok():\n",
    "    try:\n",
    "        response = requests.get(\"https://www.hello world.com\")\n",
    "    except ConnectionError:\n",
    "        pass"
   ]
  },
  {
   "cell_type": "code",
   "execution_count": null,
   "id": "2217e7ef",
   "metadata": {
    "slideshow": {
     "slide_type": "slide"
    }
   },
   "outputs": [],
   "source": [
    "!pytest -v -m foobar pytest/MarksKeywords/"
   ]
  },
  {
   "cell_type": "code",
   "execution_count": null,
   "id": "01ecb382",
   "metadata": {
    "slideshow": {
     "slide_type": "fragment"
    }
   },
   "outputs": [],
   "source": [
    "!pytest -v -k is_ok pytest/MarksKeywords/"
   ]
  },
  {
   "cell_type": "code",
   "execution_count": null,
   "id": "c172f47a",
   "metadata": {
    "slideshow": {
     "slide_type": "fragment"
    }
   },
   "outputs": [],
   "source": [
    "!pytest -v -m \"not foobar\" pytest/MarksKeywords/"
   ]
  },
  {
   "cell_type": "markdown",
   "id": "9805a346",
   "metadata": {
    "slideshow": {
     "slide_type": "slide"
    }
   },
   "source": [
    "# Html report"
   ]
  },
  {
   "cell_type": "markdown",
   "id": "c51194c0",
   "metadata": {
    "slideshow": {
     "slide_type": "fragment"
    }
   },
   "source": [
    "* Install with `pip install pytest-html`\n"
   ]
  },
  {
   "cell_type": "markdown",
   "id": "7251b06e",
   "metadata": {
    "slideshow": {
     "slide_type": "fragment"
    }
   },
   "source": [
    "* Provides all relevant metrics, can contain a screenshot\n"
   ]
  },
  {
   "cell_type": "markdown",
   "id": "d0ee9f9e",
   "metadata": {
    "slideshow": {
     "slide_type": "fragment"
    }
   },
   "source": [
    "* Highly customizable via html"
   ]
  },
  {
   "cell_type": "markdown",
   "id": "7b57173b",
   "metadata": {
    "slideshow": {
     "slide_type": "fragment"
    }
   },
   "source": [
    "* Can be reduced to a single file"
   ]
  },
  {
   "cell_type": "code",
   "execution_count": null,
   "id": "653faa27",
   "metadata": {
    "slideshow": {
     "slide_type": "slide"
    }
   },
   "outputs": [],
   "source": [
    "!pytest pytest/HTMLreport --tb=short --html=pytest/HTMLreport/report.html --self-contained-html & pytest\\HTMLreport\\report.html"
   ]
  },
  {
   "cell_type": "code",
   "execution_count": null,
   "id": "0f97119a",
   "metadata": {
    "slideshow": {
     "slide_type": "fragment"
    }
   },
   "outputs": [],
   "source": [
    "!pytest pytest/HTMLreport --tb=short --html=pytest/HTMLreport/report.html --css=pytest/HTMLreport/custom_style.css --self-contained-html & pytest\\HTMLreport\\report.html"
   ]
  },
  {
   "cell_type": "markdown",
   "id": "777249c2",
   "metadata": {
    "slideshow": {
     "slide_type": "slide"
    }
   },
   "source": [
    "# Customized html report "
   ]
  },
  {
   "cell_type": "markdown",
   "id": "995b58f8",
   "metadata": {
    "slideshow": {
     "slide_type": "fragment"
    }
   },
   "source": [
    "![html_report.png](images/html_report.png)"
   ]
  },
  {
   "cell_type": "markdown",
   "id": "6b5529b3",
   "metadata": {
    "slideshow": {
     "slide_type": "slide"
    }
   },
   "source": [
    "# Pytest summary"
   ]
  },
  {
   "cell_type": "markdown",
   "id": "92240469",
   "metadata": {
    "slideshow": {
     "slide_type": "fragment"
    }
   },
   "source": [
    "* **Advantages**\n",
    "    * supports ALL options of a good runner\n",
    "    * highly customizable due to plugins (e.g. reruns)\n",
    "    * has a way to report results\n",
    "    * good documentation and community"
   ]
  },
  {
   "cell_type": "markdown",
   "id": "32498619",
   "metadata": {
    "slideshow": {
     "slide_type": "fragment"
    }
   },
   "source": [
    "* **Disadvantages**\n",
    "    * none"
   ]
  },
  {
   "cell_type": "markdown",
   "id": "c76462e8",
   "metadata": {
    "slideshow": {
     "slide_type": "slide"
    }
   },
   "source": [
    "# Robot Framework"
   ]
  },
  {
   "cell_type": "markdown",
   "id": "fe313478",
   "metadata": {
    "slideshow": {
     "slide_type": "fragment"
    }
   },
   "source": [
    "* developed since 2008 (a continuation of a PhD by Pekka Klärck from 2005)"
   ]
  },
  {
   "cell_type": "markdown",
   "id": "51afdcee",
   "metadata": {
    "slideshow": {
     "slide_type": "fragment"
    }
   },
   "source": [
    "* designed to facilitate acceptance testing driven development (ATDD)"
   ]
  },
  {
   "cell_type": "markdown",
   "id": "0bb158db",
   "metadata": {
    "slideshow": {
     "slide_type": "fragment"
    }
   },
   "source": [
    "* focuses on keyword driven development (KDD)"
   ]
  },
  {
   "cell_type": "markdown",
   "id": "d3628f89",
   "metadata": {
    "slideshow": {
     "slide_type": "fragment"
    }
   },
   "source": [
    "* uses tablular form of code organization"
   ]
  },
  {
   "cell_type": "markdown",
   "id": "3892ad35",
   "metadata": {
    "slideshow": {
     "slide_type": "fragment"
    }
   },
   "source": [
    "* is based on Python, but offers own syntax"
   ]
  },
  {
   "cell_type": "markdown",
   "id": "84046d2e",
   "metadata": {
    "slideshow": {
     "slide_type": "slide"
    }
   },
   "source": [
    "# Robot Framework IDEs?"
   ]
  },
  {
   "cell_type": "markdown",
   "id": "846eb636",
   "metadata": {
    "slideshow": {
     "slide_type": "fragment"
    }
   },
   "source": [
    "* no officially supported/created IDE"
   ]
  },
  {
   "cell_type": "markdown",
   "id": "195d4540",
   "metadata": {
    "slideshow": {
     "slide_type": "fragment"
    }
   },
   "source": [
    "* **RIDE (RobotFramework IDE)**\n",
    "    * a community driven project\n",
    "    * no longer supported"
   ]
  },
  {
   "cell_type": "markdown",
   "id": "7418de25",
   "metadata": {
    "slideshow": {
     "slide_type": "fragment"
    }
   },
   "source": [
    "* **RED (RobotFramework EDitor)**\n",
    "    * a plugin for Eclipse IDE\n",
    "    * requires additional software and dependencies"
   ]
  },
  {
   "cell_type": "markdown",
   "id": "7227b044",
   "metadata": {
    "slideshow": {
     "slide_type": "fragment"
    }
   },
   "source": [
    "* **PyCharm + IntelliBot/Hyper RobotFramework Support**\n",
    "    * a plugin for PyCharm\n",
    "    * the most optimal solution"
   ]
  },
  {
   "cell_type": "markdown",
   "id": "7a294c68",
   "metadata": {
    "slideshow": {
     "slide_type": "fragment"
    }
   },
   "source": [
    "* Neither IDE supports:\n",
    "    * ***breakpoints***\n",
    "    * running tests from IDE"
   ]
  },
  {
   "cell_type": "markdown",
   "id": "4cf2aa34",
   "metadata": {
    "slideshow": {
     "slide_type": "slide"
    }
   },
   "source": [
    "# Simple test"
   ]
  },
  {
   "cell_type": "code",
   "execution_count": null,
   "id": "44617f13",
   "metadata": {
    "slideshow": {
     "slide_type": "fragment"
    }
   },
   "outputs": [],
   "source": [
    "*** Settings ***\n",
    "\n",
    "*** Variables ***\n",
    "${MY_TEXT}    Hello world\n",
    "\n",
    "*** Test Cases ***\n",
    "Simple Test\n",
    "    [Documentation]    This is a sample test\n",
    "    Show My Text    ${MY_TEXT}\n",
    "\n",
    "*** Keywords ***\n",
    "Show My Text\n",
    "    [Arguments]    ${text}\n",
    "    Log    ${text}"
   ]
  },
  {
   "cell_type": "markdown",
   "id": "9cc13e21",
   "metadata": {
    "slideshow": {
     "slide_type": "slide"
    }
   },
   "source": [
    "# Setup/teardown for a test/suite"
   ]
  },
  {
   "cell_type": "code",
   "execution_count": null,
   "id": "7b66ac45",
   "metadata": {
    "slideshow": {
     "slide_type": "fragment"
    }
   },
   "outputs": [],
   "source": [
    "*** Settings ***\n",
    "Suite Setup    Prepare Everything\n",
    "Test Setup    Prepare Something\n",
    "Test Teardown    Clean Up Something\n",
    "Suite Teardown    Clean Up Everything\n",
    "\n",
    "*** Variables ***\n",
    "${MY_TEXT}    Hello world\n",
    "\n",
    "*** Test Cases ***\n",
    "Simple Test\n",
    "    [Documentation]    This is a sample test\n",
    "    Show My Text    ${MY_TEXT}\n",
    "\n",
    "*** Keywords ***\n",
    "Show My Text\n",
    "    [Arguments]    ${text}\n",
    "    Log    ${text}\n",
    "    \n",
    "Prepare Everything\n",
    "    [Documentation] This is a suite setup\n",
    "    Log    This is a suite setup\n",
    "    \n",
    "Prepare Something\n",
    "    [Documentation] This is a test setup\n",
    "    Log    This is a test setup\n",
    "\n",
    "Clean Up Something\n",
    "    [Documentation] This is a test teardown\n",
    "    Log    This is a test teardown\n",
    "\n",
    "Clean Up Everything\n",
    "    [Documentation] This is a suite teardown\n",
    "    Log    This is a suite teardown\n"
   ]
  },
  {
   "cell_type": "markdown",
   "id": "621d2aff",
   "metadata": {
    "slideshow": {
     "slide_type": "slide"
    }
   },
   "source": [
    "# Tags"
   ]
  },
  {
   "cell_type": "code",
   "execution_count": null,
   "id": "91e743c7",
   "metadata": {
    "slideshow": {
     "slide_type": "fragment"
    }
   },
   "outputs": [],
   "source": [
    "*** Settings ***\n",
    "\n",
    "*** Variables ***\n",
    "${MY_TEXT}    Hello world\n",
    "${MY_TEXT2}    Bye world\n",
    "\n",
    "*** Test Cases ***\n",
    "Simple Test\n",
    "    [Documentation]    This is a sample test\n",
    "    [Tags]    regression\n",
    "    Show My Text    ${MY_TEXT}\n",
    "    \n",
    "Simple Test Two\n",
    "    [Documentation]    This is a sample test two\n",
    "    [Tags]    smoke    regression\n",
    "    Show My Text    ${MY_TEXT2}\n",
    "\n",
    "*** Keywords ***\n",
    "Show My Text\n",
    "    [Arguments]    ${text}\n",
    "    Log    ${text}"
   ]
  },
  {
   "cell_type": "code",
   "execution_count": null,
   "id": "cc92d3f6",
   "metadata": {
    "slideshow": {
     "slide_type": "fragment"
    }
   },
   "outputs": [],
   "source": [
    "robot -i smoke"
   ]
  },
  {
   "cell_type": "code",
   "execution_count": null,
   "id": "6a56573f",
   "metadata": {
    "slideshow": {
     "slide_type": "fragment"
    }
   },
   "outputs": [],
   "source": [
    "robot -e regression"
   ]
  },
  {
   "cell_type": "markdown",
   "id": "cdd29cca",
   "metadata": {
    "slideshow": {
     "slide_type": "slide"
    }
   },
   "source": [
    "# Reporting"
   ]
  },
  {
   "cell_type": "markdown",
   "id": "24da2c75",
   "metadata": {
    "slideshow": {
     "slide_type": "fragment"
    }
   },
   "source": [
    "![robotframework_report.png](images/robotframework_report.png)"
   ]
  },
  {
   "cell_type": "markdown",
   "id": "de9f768e",
   "metadata": {
    "slideshow": {
     "slide_type": "slide"
    }
   },
   "source": [
    "# Robot Framework summary"
   ]
  },
  {
   "cell_type": "markdown",
   "id": "09f09b26",
   "metadata": {
    "slideshow": {
     "slide_type": "fragment"
    }
   },
   "source": [
    "* **Advantages**\n",
    "    * nice looking and informative reporting out-of-the-box\n",
    "    * easy-to-understand test code for people without coding background"
   ]
  },
  {
   "cell_type": "markdown",
   "id": "b0854fa2",
   "metadata": {
    "slideshow": {
     "slide_type": "fragment"
    }
   },
   "source": [
    "* **Disadvantages**\n",
    "    * an uncalled for wrapper for Python\n",
    "    * no way to set a breakpoint\n",
    "    * does everything that others do, but more difficult\n",
    "    * no dedicated IDE\n",
    "    * doesn't live up to its expectations"
   ]
  },
  {
   "cell_type": "markdown",
   "id": "c330d980",
   "metadata": {
    "slideshow": {
     "slide_type": "slide"
    }
   },
   "source": [
    "# Questions :)"
   ]
  },
  {
   "cell_type": "markdown",
   "id": "5f6a3cf6",
   "metadata": {
    "slideshow": {
     "slide_type": "slide"
    }
   },
   "source": [
    "# Thank you for your attention!"
   ]
  }
 ],
 "metadata": {
  "celltoolbar": "Slideshow",
  "kernelspec": {
   "display_name": "badger",
   "language": "python",
   "name": "badger"
  },
  "language_info": {
   "codemirror_mode": {
    "name": "ipython",
    "version": 3
   },
   "file_extension": ".py",
   "mimetype": "text/x-python",
   "name": "python",
   "nbconvert_exporter": "python",
   "pygments_lexer": "ipython3",
   "version": "3.9.6"
  }
 },
 "nbformat": 4,
 "nbformat_minor": 5
}
