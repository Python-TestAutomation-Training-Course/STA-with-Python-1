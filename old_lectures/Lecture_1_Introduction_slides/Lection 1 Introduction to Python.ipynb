{
 "cells": [
  {
   "cell_type": "markdown",
   "id": "initial-spotlight",
   "metadata": {},
   "source": [
    "**Definition**\n",
    "> Python is an interpreted, high-level and general-purpose programming language. Python's design philosophy emphasizes code readability with its notable use of significant whitespace. Its language constructs and object-oriented approach aim to help programmers write clear, logical code for small and large-scale projects.\n",
    "\n",
    "> Python is developed by Guido van Rossum\n",
    "\n",
    "> First version was delivered in 1991"
   ]
  },
  {
   "cell_type": "markdown",
   "id": "historic-honor",
   "metadata": {},
   "source": [
    "**Python is pretty popular**\n",
    "![chart](images\\svg.svg)"
   ]
  },
  {
   "cell_type": "markdown",
   "id": "constitutional-armor",
   "metadata": {},
   "source": [
    "**Why people use Python?**\n",
    "- Software Quality (readability, easy to understand)\n",
    "- Developer productivity (smaller codebase, without lengthy compile)\n",
    "- Portability (all major computer platforms)\n",
    "- Support libraries (standard library + third-party domain)\n",
    "- Component integration (C, C++, C#, ...)\n",
    "- Enjoyment"
   ]
  },
  {
   "cell_type": "markdown",
   "id": "apparent-dominant",
   "metadata": {},
   "source": [
    "**Where can I use Python?**\n",
    " - System programming (files, sockets, process, threads, re, command-line arguments, shell-command launchers, CSV, XML, JSON, etc.)\n",
    " - GUI (Tkinter, Qt, Kivy, etc.)\n",
    " - Web (Django, Flask, web2py, etc.)\n",
    " - Component Integration (SWIG for C-like code, Jython for Java, IronPython for C#)\n",
    " - Database Programming (SQLAlchemy, all modern databases)\n",
    " - Rapid prototyping\n",
    " - Numeric and Scientific programming, Data Analysis, ML (NumPy, pandas, SciPy, matplotlib, etc.)\n",
    " - Testing (pytest + requests)\n",
    " - And many more..."
   ]
  },
  {
   "cell_type": "markdown",
   "id": "spiritual-notebook",
   "metadata": {},
   "source": [
    "# **Syntax crash course**"
   ]
  },
  {
   "cell_type": "code",
   "execution_count": 23,
   "id": "understood-despite",
   "metadata": {},
   "outputs": [
    {
     "name": "stdout",
     "output_type": "stream",
     "text": [
      "Hello world!\n"
     ]
    }
   ],
   "source": [
    "print(\"Hello world!\")"
   ]
  },
  {
   "cell_type": "code",
   "execution_count": 24,
   "id": "starting-language",
   "metadata": {},
   "outputs": [
    {
     "data": {
      "text/plain": [
       "(1, 2, 3, 4)"
      ]
     },
     "execution_count": 24,
     "metadata": {},
     "output_type": "execute_result"
    }
   ],
   "source": [
    "# Assignment\n",
    "a = 1\n",
    "b = 2\n",
    "c, d = 3, 4\n",
    "a, b, c , d"
   ]
  },
  {
   "cell_type": "code",
   "execution_count": 25,
   "id": "large-rugby",
   "metadata": {},
   "outputs": [
    {
     "data": {
      "text/plain": [
       "8.0"
      ]
     },
     "execution_count": 25,
     "metadata": {},
     "output_type": "execute_result"
    }
   ],
   "source": [
    "# Function calls\n",
    "import math\n",
    "\n",
    "math.pow(2, 3)"
   ]
  },
  {
   "cell_type": "code",
   "execution_count": 24,
   "id": "mediterranean-refund",
   "metadata": {},
   "outputs": [
    {
     "name": "stdout",
     "output_type": "stream",
     "text": [
      "2\n"
     ]
    }
   ],
   "source": [
    "# if/elif/else\n",
    "case = 2\n",
    "if case == 1:\n",
    "    print(\"1\")\n",
    "elif case == 2:\n",
    "    print(\"2\")\n",
    "else:\n",
    "    print(\"Other\")"
   ]
  },
  {
   "cell_type": "code",
   "execution_count": 28,
   "id": "widespread-thursday",
   "metadata": {},
   "outputs": [
    {
     "name": "stdout",
     "output_type": "stream",
     "text": [
      "1 2 "
     ]
    }
   ],
   "source": [
    "# For iteration\n",
    "for i in range(1, 3):\n",
    "    print(i, end=\" \")"
   ]
  },
  {
   "cell_type": "code",
   "execution_count": 29,
   "id": "confirmed-messenger",
   "metadata": {},
   "outputs": [
    {
     "name": "stdout",
     "output_type": "stream",
     "text": [
      "Hello\n",
      "Hello\n",
      "Finish\n"
     ]
    }
   ],
   "source": [
    "# Loop\n",
    "a, b = 1, 3\n",
    "while b > a:\n",
    "    print(\"Hello\")\n",
    "    a += 1\n",
    "else:\n",
    "    print(\"Finish\")"
   ]
  },
  {
   "cell_type": "code",
   "execution_count": 2,
   "id": "complex-sussex",
   "metadata": {},
   "outputs": [
    {
     "name": "stdout",
     "output_type": "stream",
     "text": [
      "1\n",
      "3\n"
     ]
    }
   ],
   "source": [
    "# Break, continue\n",
    "a = 0\n",
    "while True:\n",
    "    a += 1\n",
    "    if a % 2 == 0:\n",
    "        continue\n",
    "    if a > 3:\n",
    "        break\n",
    "    print(a)\n",
    "    "
   ]
  },
  {
   "cell_type": "code",
   "execution_count": 2,
   "id": "friendly-tower",
   "metadata": {},
   "outputs": [],
   "source": [
    "# Function definition, return, pass placeholder\n",
    "def myfunc():\n",
    "    pass\n",
    "\n",
    "def none_func():\n",
    "    print(\"Just printing\")\n",
    "\n",
    "def super_func():\n",
    "    return 1"
   ]
  },
  {
   "cell_type": "code",
   "execution_count": 35,
   "id": "alert-samuel",
   "metadata": {},
   "outputs": [
    {
     "ename": "StopIteration",
     "evalue": "",
     "output_type": "error",
     "traceback": [
      "\u001b[1;31m---------------------------------------------------------------------------\u001b[0m",
      "\u001b[1;31mStopIteration\u001b[0m                             Traceback (most recent call last)",
      "\u001b[1;32m<ipython-input-35-dae63d8fc29e>\u001b[0m in \u001b[0;36m<module>\u001b[1;34m\u001b[0m\n\u001b[0;32m      5\u001b[0m \u001b[0mg\u001b[0m \u001b[1;33m=\u001b[0m \u001b[0mmy_gen\u001b[0m\u001b[1;33m(\u001b[0m\u001b[1;33m)\u001b[0m\u001b[1;33m\u001b[0m\u001b[1;33m\u001b[0m\u001b[0m\n\u001b[0;32m      6\u001b[0m \u001b[0mnext\u001b[0m\u001b[1;33m(\u001b[0m\u001b[0mg\u001b[0m\u001b[1;33m)\u001b[0m\u001b[1;33m\u001b[0m\u001b[1;33m\u001b[0m\u001b[0m\n\u001b[1;32m----> 7\u001b[1;33m \u001b[0mnext\u001b[0m\u001b[1;33m(\u001b[0m\u001b[0mg\u001b[0m\u001b[1;33m)\u001b[0m\u001b[1;33m\u001b[0m\u001b[1;33m\u001b[0m\u001b[0m\n\u001b[0m\u001b[0;32m      8\u001b[0m \u001b[1;31m# print(list(my_gen()))\u001b[0m\u001b[1;33m\u001b[0m\u001b[1;33m\u001b[0m\u001b[1;33m\u001b[0m\u001b[0m\n",
      "\u001b[1;31mStopIteration\u001b[0m: "
     ]
    }
   ],
   "source": [
    "# yield\n",
    "def my_gen():\n",
    "    for i in range(1):\n",
    "        yield i * 3\n",
    "g = my_gen()\n",
    "next(g)\n",
    "next(g)\n",
    "# print(list(my_gen()))"
   ]
  },
  {
   "cell_type": "code",
   "execution_count": 66,
   "id": "sexual-increase",
   "metadata": {},
   "outputs": [
    {
     "name": "stdout",
     "output_type": "stream",
     "text": [
      "3.9.1 (tags/v3.9.1:1e5d33e, Dec  7 2020, 17:08:21) [MSC v.1927 64 bit (AMD64)]\n",
      "3.9.1 (tags/v3.9.1:1e5d33e, Dec  7 2020, 17:08:21) [MSC v.1927 64 bit (AMD64)]\n",
      "\n",
      "C:\\Users\\Andrei_Zhidelev\\projects\\lectures\\Lecture_1_Introduction\n",
      "3.141592653589793\n",
      "0.0747772141476386\n"
     ]
    }
   ],
   "source": [
    "# import, from\n",
    "import sys\n",
    "from sys import version\n",
    "# from sys import *\n",
    "import os\n",
    "import math\n",
    "import random\n",
    "\n",
    "print(sys.version)\n",
    "print(version)\n",
    "print()\n",
    "print(os.getcwd())\n",
    "print(math.pi)\n",
    "print(random.random())"
   ]
  },
  {
   "cell_type": "code",
   "execution_count": 30,
   "id": "minus-attendance",
   "metadata": {},
   "outputs": [
    {
     "name": "stdout",
     "output_type": "stream",
     "text": [
      "<__main__.A object at 0x00000233F5828D60>\n"
     ]
    }
   ],
   "source": [
    "# Class\n",
    "class A:\n",
    "    pass\n",
    "\n",
    "a = A()\n",
    "print(a)"
   ]
  },
  {
   "cell_type": "code",
   "execution_count": 31,
   "id": "federal-number",
   "metadata": {},
   "outputs": [
    {
     "name": "stdout",
     "output_type": "stream",
     "text": [
      "message\n",
      "I am a final block!\n"
     ]
    }
   ],
   "source": [
    "# Exceptions (try/except/finally, raise)\n",
    "\n",
    "try:\n",
    "    raise ValueError(\"message\")\n",
    "except Exception as e:\n",
    "    print(e)\n",
    "finally:\n",
    "    print(\"I am a final block!\")"
   ]
  },
  {
   "cell_type": "code",
   "execution_count": 63,
   "id": "determined-wallet",
   "metadata": {},
   "outputs": [
    {
     "name": "stdout",
     "output_type": "stream",
     "text": [
      "I am a file with some text!\n"
     ]
    }
   ],
   "source": [
    "# Context manager\n",
    "with open(\"text.txt\") as f:\n",
    "    print(f.read())"
   ]
  },
  {
   "cell_type": "markdown",
   "id": "threaded-nurse",
   "metadata": {},
   "source": [
    "**Builtin objects**\n",
    "- Numbers 123,3.14,3+4j,0xef,Decimal,Fraction\n",
    "- Strings ‘spam’,”Bob’s”,b’ax01c’,u’spxc4m’\n",
    "- Lists [1,[2,’Three’],4.5], list(range(10))\n",
    "- Dictionaries {‘food’:’spam’,’taste’:’yum’},dict(hours=10)\n",
    "- Tuples (1,’spam’,4,’U’),tuple(‘spam’), namedtuple\n",
    "- Files open(‘eggs.txt’)\n",
    "- Sets {1,’a’,’bc’}, set(‘abc’)\n",
    "- Other core types\n",
    "- Program unit types\n",
    "- Implementation-related types (compiled code, stack tracebacks)"
   ]
  },
  {
   "cell_type": "markdown",
   "id": "affiliated-indian",
   "metadata": {},
   "source": [
    "**Data**\n",
    "\n",
    "facts representation, terms or instructions in format suitable for processing.\n",
    "\n",
    "**Data structures**\n",
    "\n",
    "is a data organization, management, and storage format that enables efficient access and modification\n",
    "\n",
    "A mutable object can be changed after it's created, and an immutable object can't."
   ]
  },
  {
   "cell_type": "markdown",
   "id": "normal-microwave",
   "metadata": {},
   "source": [
    "![types](images\\datatypes.png)"
   ]
  },
  {
   "cell_type": "markdown",
   "id": "excessive-geography",
   "metadata": {},
   "source": [
    "# Strings\n",
    "Ordered chars sequence, used to store and represent text information.\n",
    "\n",
    "Starting from Python 3.x strings Unicode chars sequence."
   ]
  },
  {
   "cell_type": "markdown",
   "id": "assumed-small",
   "metadata": {},
   "source": [
    "**String literals**"
   ]
  },
  {
   "cell_type": "code",
   "execution_count": 36,
   "id": "upper-lawyer",
   "metadata": {},
   "outputs": [
    {
     "name": "stdout",
     "output_type": "stream",
     "text": [
      "True\n",
      "we don't miss Python lectures\n",
      "we don't miss Python lectures\n"
     ]
    }
   ],
   "source": [
    "print(\"python\" == 'python')\n",
    "\n",
    "print(\"we don't miss Python lectures\")\n",
    "print('we don\\'t miss Python lectures')"
   ]
  },
  {
   "cell_type": "code",
   "execution_count": 11,
   "id": "disciplinary-paradise",
   "metadata": {},
   "outputs": [
    {
     "name": "stdout",
     "output_type": "stream",
     "text": [
      "Guido van Rossum: \"Python is an experiment in how much freedom programmers need.\"\n"
     ]
    }
   ],
   "source": [
    "print('Guido van Rossum: \"Python is an experiment in how much freedom programmers need.\"')"
   ]
  },
  {
   "cell_type": "code",
   "execution_count": 37,
   "id": "earned-modification",
   "metadata": {},
   "outputs": [
    {
     "name": "stdout",
     "output_type": "stream",
     "text": [
      "cat dog\n",
      "cat dog\n",
      "cat dog\n",
      "cat dog\n"
     ]
    }
   ],
   "source": [
    "# valid, but prone to mistakes\n",
    "a = \"cat \" \\\n",
    "    \"dog\"\n",
    "\n",
    "# better version, black will format your code (almost) like this\n",
    "b = (\"cat \"\n",
    "    \"dog\")\n",
    "\n",
    "print(a)\n",
    "print(b)\n",
    "print(\"cat\"\" dog\")\n",
    "print(\"cat\"                                      \" dog\")"
   ]
  },
  {
   "cell_type": "markdown",
   "id": "listed-tomorrow",
   "metadata": {},
   "source": [
    "## Multiline strings"
   ]
  },
  {
   "cell_type": "code",
   "execution_count": 38,
   "id": "taken-spray",
   "metadata": {},
   "outputs": [
    {
     "name": "stdout",
     "output_type": "stream",
     "text": [
      "\n",
      "a very very\n",
      "much bigger\n",
      "than normal one\n",
      "\n"
     ]
    }
   ],
   "source": [
    "big = \"\"\"\n",
    "a very very\n",
    "much bigger\n",
    "than normal one\n",
    "\"\"\"\n",
    "\n",
    "print(big)"
   ]
  },
  {
   "cell_type": "markdown",
   "id": "vietnamese-student",
   "metadata": {},
   "source": [
    "**Escape Characters**\n",
    "\n",
    "To insert characters that are illegal in a string, use an escape character."
   ]
  },
  {
   "cell_type": "code",
   "execution_count": 39,
   "id": "excessive-reynolds",
   "metadata": {},
   "outputs": [
    {
     "name": "stdout",
     "output_type": "stream",
     "text": [
      "C:\teeeeeeext.txt\n",
      "C:\\teeeeeeext.txt\n",
      "C:\\teeeeeeext.txt\n"
     ]
    }
   ],
   "source": [
    "problem = 'C:\\teeeeeeext.txt'\n",
    "no_problem = r'C:\\teeeeeeext.txt'\n",
    "no_problem_2 = 'C:\\\\teeeeeeext.txt'\n",
    "\n",
    "print(problem, no_problem, no_problem_2, sep='\\n')"
   ]
  },
  {
   "cell_type": "markdown",
   "id": "anonymous-liverpool",
   "metadata": {},
   "source": [
    "# Character encoding"
   ]
  },
  {
   "cell_type": "markdown",
   "id": "neutral-details",
   "metadata": {},
   "source": [
    "**ASCII** (American Standard Code for Information Interchange) - a 7-bit character code where every single bit represents a unique character.\n",
    "\n",
    "**Unicode** - is a specification that aims to list every character used by human languages and give each character its own unique code.\n",
    "\n",
    "**Byte char representation**\n",
    "\n",
    "- Unicode Transformation Format (UTF-8, UTF-16, UTF-32) - N bit for each char\n",
    "- Universal Character Set (UCS-2, UCS-4) - N byte for each char\n",
    "\n",
    "**Flexible String Representation**\n",
    "\n",
    "Python 3.3 (PEP-393)\n",
    "\n",
    "- If string contains only ASCII, each char is represented by 1 byte. (UCS-1)\n",
    "- If max code of any string char is more than 2^16, use UCS-2.\n",
    "- In other cases - UCS-4.\n",
    "\n",
    "https://www.python.org/dev/peps/pep-0393/\n"
   ]
  },
  {
   "cell_type": "code",
   "execution_count": 40,
   "id": "informal-aerospace",
   "metadata": {},
   "outputs": [
    {
     "name": "stdout",
     "output_type": "stream",
     "text": [
      "1067\n",
      "Ы\n"
     ]
    }
   ],
   "source": [
    "var = \"Ы\"\n",
    "\n",
    "print(ord(var))\n",
    "print(chr(ord(var)))"
   ]
  },
  {
   "cell_type": "code",
   "execution_count": 18,
   "id": "anonymous-bobby",
   "metadata": {},
   "outputs": [
    {
     "data": {
      "text/plain": [
       "'ß'"
      ]
     },
     "execution_count": 18,
     "metadata": {},
     "output_type": "execute_result"
    }
   ],
   "source": [
    "# the letter, ß, called Eszett (IPA: [ɛsˈtsɛt]) or scharfes S (IPA: [ˈʃaʁfəs ˈʔɛs], lit. \"sharp S\"), \n",
    "# represents the /s/ phoneme in Standard German when following long vowels and diphthongs\n",
    "char = \"\\N{LATIN SMALL LETTER SHARP S}\"\n",
    "char"
   ]
  },
  {
   "cell_type": "code",
   "execution_count": 41,
   "id": "pharmaceutical-choir",
   "metadata": {},
   "outputs": [
    {
     "name": "stdout",
     "output_type": "stream",
     "text": [
      "S\n",
      "s\n"
     ]
    }
   ],
   "source": [
    "print('s'.upper())\n",
    "print('S'.lower())"
   ]
  },
  {
   "cell_type": "code",
   "execution_count": 22,
   "id": "liberal-marble",
   "metadata": {},
   "outputs": [
    {
     "name": "stdout",
     "output_type": "stream",
     "text": [
      "False\n",
      "True\n",
      "1 2\n"
     ]
    }
   ],
   "source": [
    "print('ß'.lower() == 'SS'.lower())\n",
    "print('ß'.casefold() == 'SS'.casefold())\n",
    "print(len('ß'.lower()), len('ß'.casefold()))"
   ]
  },
  {
   "cell_type": "markdown",
   "id": "reliable-philadelphia",
   "metadata": {},
   "source": [
    "**ascii(), str(), repr()**\n",
    "\n",
    "**Common**\n",
    "\n",
    "Methods to get objects string representation\n",
    "\n",
    "**What's the difference**\n",
    "\n",
    "**repr** - “official” string representation of an object\n",
    "\n",
    "**str** - nicely printable string representation of an object -- humanreadable\n",
    "\n",
    "**ascii** - like repr, but change non-ASCII symbols to escape characters"
   ]
  },
  {
   "cell_type": "code",
   "execution_count": 42,
   "id": "micro-monkey",
   "metadata": {},
   "outputs": [
    {
     "name": "stdout",
     "output_type": "stream",
     "text": [
      "str() - 2021-03-17 10:35:47.200950 \n",
      "repr() - datetime.datetime(2021, 3, 17, 10, 35, 47, 200950)\n",
      "\n",
      "repr() - 'Les garçons' \n",
      "ascii() - 'Les gar\\xe7ons'\n"
     ]
    },
    {
     "data": {
      "text/plain": [
       "datetime.datetime(2019, 11, 7, 18, 33, 17, 341678)"
      ]
     },
     "execution_count": 42,
     "metadata": {},
     "output_type": "execute_result"
    }
   ],
   "source": [
    "import datetime\n",
    "today = datetime.datetime.now() \n",
    "\n",
    "print(\"str() -\", str(today),\n",
    "      \"\\nrepr() -\", repr(today))\n",
    "\n",
    "mot = \"Les garçons\"\n",
    "print(\"\\nrepr() -\", repr(mot),\n",
    "      \"\\nascii() -\", ascii(mot)) \n",
    "datetime.datetime(2019, 11, 7, 18, 33, 17, 341678)"
   ]
  },
  {
   "cell_type": "markdown",
   "id": "advanced-panel",
   "metadata": {},
   "source": [
    "**Method - is an function associated with object and giving access to manipulate him**"
   ]
  },
  {
   "cell_type": "code",
   "execution_count": 24,
   "id": "martial-message",
   "metadata": {},
   "outputs": [
    {
     "name": "stdout",
     "output_type": "stream",
     "text": [
      "['Python ', ' awesome']\n",
      "['Python', 'is', 'awesome']\n"
     ]
    }
   ],
   "source": [
    "example = \"Python is awesome\" \n",
    "print(example.split('is'))\n",
    "print(example.split())"
   ]
  },
  {
   "cell_type": "markdown",
   "id": "chemical-motivation",
   "metadata": {},
   "source": [
    "**find() - to get substring index**"
   ]
  },
  {
   "cell_type": "code",
   "execution_count": 43,
   "id": "absolute-increase",
   "metadata": {},
   "outputs": [
    {
     "data": {
      "text/plain": [
       "10"
      ]
     },
     "execution_count": 43,
     "metadata": {},
     "output_type": "execute_result"
    }
   ],
   "source": [
    "\"Python is awesome\".find(\"aw\")"
   ]
  },
  {
   "cell_type": "markdown",
   "id": "radio-translator",
   "metadata": {},
   "source": [
    "**If no match return -1**"
   ]
  },
  {
   "cell_type": "code",
   "execution_count": 44,
   "id": "computational-timeline",
   "metadata": {},
   "outputs": [
    {
     "data": {
      "text/plain": [
       "-1"
      ]
     },
     "execution_count": 44,
     "metadata": {},
     "output_type": "execute_result"
    }
   ],
   "source": [
    "\"Python is awesome\".find(\"laaaaaaaa\")"
   ]
  },
  {
   "cell_type": "markdown",
   "id": "mysterious-multimedia",
   "metadata": {},
   "source": [
    "**Find beginning from right end**"
   ]
  },
  {
   "cell_type": "code",
   "execution_count": 29,
   "id": "black-hartford",
   "metadata": {},
   "outputs": [
    {
     "data": {
      "text/plain": [
       "13"
      ]
     },
     "execution_count": 29,
     "metadata": {},
     "output_type": "execute_result"
    }
   ],
   "source": [
    "\"Python is awesome\".rfind(\"some\")"
   ]
  },
  {
   "cell_type": "markdown",
   "id": "infectious-decimal",
   "metadata": {},
   "source": [
    "**Another options to find substring index**"
   ]
  },
  {
   "cell_type": "code",
   "execution_count": 34,
   "id": "accepting-acting",
   "metadata": {},
   "outputs": [
    {
     "data": {
      "text/plain": [
       "0"
      ]
     },
     "execution_count": 34,
     "metadata": {},
     "output_type": "execute_result"
    }
   ],
   "source": [
    "\"Python is awesome\".index(\"Py\")"
   ]
  },
  {
   "cell_type": "code",
   "execution_count": 35,
   "id": "jewish-craft",
   "metadata": {},
   "outputs": [
    {
     "data": {
      "text/plain": [
       "14"
      ]
     },
     "execution_count": 35,
     "metadata": {},
     "output_type": "execute_result"
    }
   ],
   "source": [
    "\"Python is awesome\".rindex(\"o\")"
   ]
  },
  {
   "cell_type": "markdown",
   "id": "uniform-smart",
   "metadata": {},
   "source": [
    "**But what's the difference between index and find?**"
   ]
  },
  {
   "cell_type": "code",
   "execution_count": 36,
   "id": "polish-junior",
   "metadata": {},
   "outputs": [
    {
     "ename": "ValueError",
     "evalue": "substring not found",
     "output_type": "error",
     "traceback": [
      "\u001b[1;31m---------------------------------------------------------------------------\u001b[0m",
      "\u001b[1;31mValueError\u001b[0m                                Traceback (most recent call last)",
      "\u001b[1;32m<ipython-input-36-71cd05ae63c6>\u001b[0m in \u001b[0;36m<module>\u001b[1;34m\u001b[0m\n\u001b[1;32m----> 1\u001b[1;33m \u001b[1;34m\"Python is awesome\"\u001b[0m\u001b[1;33m.\u001b[0m\u001b[0mindex\u001b[0m\u001b[1;33m(\u001b[0m\u001b[1;34m\"Snake\"\u001b[0m\u001b[1;33m)\u001b[0m\u001b[1;33m\u001b[0m\u001b[1;33m\u001b[0m\u001b[0m\n\u001b[0m",
      "\u001b[1;31mValueError\u001b[0m: substring not found"
     ]
    }
   ],
   "source": [
    "\"Python is awesome\".index(\"Snake\")"
   ]
  },
  {
   "cell_type": "markdown",
   "id": "primary-terrorism",
   "metadata": {},
   "source": [
    "**Beginning and end of search**"
   ]
  },
  {
   "cell_type": "code",
   "execution_count": 37,
   "id": "spare-definition",
   "metadata": {},
   "outputs": [
    {
     "name": "stdout",
     "output_type": "stream",
     "text": [
      "5\n",
      "5\n"
     ]
    }
   ],
   "source": [
    "foo = \"some something\"\n",
    "print(foo.find(\"some\", 1))\n",
    "print(foo.index(\"some\", 1, 9))"
   ]
  },
  {
   "cell_type": "markdown",
   "id": "inner-stone",
   "metadata": {},
   "source": [
    "**Count number of occurences in string**"
   ]
  },
  {
   "cell_type": "code",
   "execution_count": 46,
   "id": "compatible-apartment",
   "metadata": {},
   "outputs": [
    {
     "data": {
      "text/plain": [
       "1"
      ]
     },
     "execution_count": 46,
     "metadata": {},
     "output_type": "execute_result"
    }
   ],
   "source": [
    "\"some something\".count(\"some \")"
   ]
  },
  {
   "cell_type": "markdown",
   "id": "concerned-leave",
   "metadata": {},
   "source": [
    "**Membership testing**"
   ]
  },
  {
   "cell_type": "code",
   "execution_count": 39,
   "id": "broken-coating",
   "metadata": {},
   "outputs": [
    {
     "data": {
      "text/plain": [
       "True"
      ]
     },
     "execution_count": 39,
     "metadata": {},
     "output_type": "execute_result"
    }
   ],
   "source": [
    "\"abra\" in \"abracadabra\""
   ]
  },
  {
   "cell_type": "code",
   "execution_count": 40,
   "id": "refined-agriculture",
   "metadata": {},
   "outputs": [
    {
     "name": "stdout",
     "output_type": "stream",
     "text": [
      "True\n",
      "11\n",
      "0\n"
     ]
    }
   ],
   "source": [
    "print(\"\" in \"abracadabra\")\n",
    "print(\"abracadabra\".rfind(\"\"))\n",
    "print(\"abracadabra\".index(\"\"))"
   ]
  },
  {
   "cell_type": "markdown",
   "id": "acute-rubber",
   "metadata": {},
   "source": [
    "**Strings could be concatenated**"
   ]
  },
  {
   "cell_type": "code",
   "execution_count": 50,
   "id": "silent-climb",
   "metadata": {},
   "outputs": [
    {
     "name": "stdout",
     "output_type": "stream",
     "text": [
      "lenin grib \n"
     ]
    },
    {
     "data": {
      "text/plain": [
       "'lenin grib'"
      ]
     },
     "execution_count": 50,
     "metadata": {},
     "output_type": "execute_result"
    }
   ],
   "source": [
    "first = \"lenin\"\n",
    "second = \"grib\"\n",
    "third = first + \" \" + second + \" \"\n",
    "print(third)\n",
    "\n",
    "# merge using given symbol\n",
    "\n",
    "\" \".join([first, second])"
   ]
  },
  {
   "cell_type": "markdown",
   "id": "contemporary-spider",
   "metadata": {},
   "source": [
    "**And duplicated**"
   ]
  },
  {
   "cell_type": "code",
   "execution_count": 43,
   "id": "settled-vitamin",
   "metadata": {},
   "outputs": [
    {
     "name": "stdout",
     "output_type": "stream",
     "text": [
      "hello hello hello hello hello hello hello hello hello hello \n"
     ]
    }
   ],
   "source": [
    "print(\"hello \" * 10)"
   ]
  },
  {
   "cell_type": "markdown",
   "id": "noticed-printing",
   "metadata": {},
   "source": [
    "**String slicing**"
   ]
  },
  {
   "cell_type": "code",
   "execution_count": 51,
   "id": "acceptable-preview",
   "metadata": {
    "scrolled": true
   },
   "outputs": [
    {
     "name": "stdout",
     "output_type": "stream",
     "text": [
      "01\n",
      "012345\n",
      "2\n",
      "345\n",
      "0246\n"
     ]
    }
   ],
   "source": [
    "example = '0123456'\n",
    "\n",
    "print(example[:2])\n",
    "print(example[:-1])\n",
    "print(example[2:3])\n",
    "print(example[3:-1])\n",
    "print(example[::2])"
   ]
  },
  {
   "cell_type": "markdown",
   "id": "refined-block",
   "metadata": {},
   "source": [
    "**Can we mutate string?**"
   ]
  },
  {
   "cell_type": "code",
   "execution_count": 52,
   "id": "happy-running",
   "metadata": {},
   "outputs": [
    {
     "data": {
      "text/plain": [
       "'lenin molodec!!'"
      ]
     },
     "execution_count": 52,
     "metadata": {},
     "output_type": "execute_result"
    }
   ],
   "source": [
    "# Nope. Only create new object\n",
    "\"lenin grib !\".replace(\"grib \", \"molodec!\")"
   ]
  },
  {
   "cell_type": "markdown",
   "id": "outstanding-tiffany",
   "metadata": {},
   "source": [
    "**Trim whitespace chars from the beginning and the end**\n",
    "\n",
    "S.lstrip([chars]) - from begging\n",
    "\n",
    "S.rstrip([chars]) - from end\n",
    "\n",
    "S.strip([chars]) - both"
   ]
  },
  {
   "cell_type": "code",
   "execution_count": 53,
   "id": "innocent-driving",
   "metadata": {
    "scrolled": true
   },
   "outputs": [
    {
     "data": {
      "text/plain": [
       "'My name is \\t Vasya'"
      ]
     },
     "execution_count": 53,
     "metadata": {},
     "output_type": "execute_result"
    }
   ],
   "source": [
    "user_input = '   \\t My name is \\t Vasya \\n\\n\\n'\n",
    "\n",
    "user_input.strip()"
   ]
  },
  {
   "cell_type": "markdown",
   "id": "marine-heading",
   "metadata": {},
   "source": [
    "**Change cases**"
   ]
  },
  {
   "cell_type": "code",
   "execution_count": 54,
   "id": "respected-retro",
   "metadata": {},
   "outputs": [
    {
     "name": "stdout",
     "output_type": "stream",
     "text": [
      "\n",
      "Upper case - TEST\n",
      "Title - Test\n",
      "Lower case - test\n",
      "Capitalize - Test\n",
      "Swapcase - TEST\n"
     ]
    }
   ],
   "source": [
    "example = \"test\"\n",
    "print()\n",
    "print(\n",
    "    \"Upper case - \" + example.upper(),\n",
    "    \"Title - \" + example.title(),\n",
    "    \"Lower case - \" + example.lower(),\n",
    "    \"Capitalize - \" + example.capitalize(),\n",
    "    \"Swapcase - \" + example.swapcase(),\n",
    "    sep=\"\\n\",\n",
    ")"
   ]
  },
  {
   "cell_type": "markdown",
   "id": "taken-juvenile",
   "metadata": {},
   "source": [
    "**Strings are immutable**"
   ]
  },
  {
   "cell_type": "markdown",
   "id": "sized-break",
   "metadata": {},
   "source": [
    "**Get some information about string**\n",
    "\n",
    "*S.isdigit()* - consist only from digits\n",
    "\n",
    "*S.isalpha()* - consist only from letter\n",
    "\n",
    "*S.isalnum()* - consist both from letters and digits\n",
    "\n",
    "*S.islower()* - consist from chars in lowercase\n",
    "\n",
    "*S.isupper()* - consist from chars in uppercase\n",
    "\n",
    "*S.istitle()* - begins from capitalized char\n",
    "\n",
    "*S.isspace()* - Check if all the characters in the text are whitespaces:\n",
    "\n",
    "*S.startswith(pattern)* - begins from pattern\n",
    "\n",
    "*S.endswith(pattern)* - ends with pattern\n"
   ]
  },
  {
   "cell_type": "code",
   "execution_count": 55,
   "id": "cheap-portable",
   "metadata": {},
   "outputs": [
    {
     "ename": "TypeError",
     "evalue": "'str' object does not support item assignment",
     "output_type": "error",
     "traceback": [
      "\u001b[1;31m---------------------------------------------------------------------------\u001b[0m",
      "\u001b[1;31mTypeError\u001b[0m                                 Traceback (most recent call last)",
      "\u001b[1;32m<ipython-input-55-f4ca9c12eb8d>\u001b[0m in \u001b[0;36m<module>\u001b[1;34m\u001b[0m\n\u001b[0;32m      1\u001b[0m \u001b[0ms\u001b[0m \u001b[1;33m=\u001b[0m \u001b[1;34m'blah blah'\u001b[0m\u001b[1;33m\u001b[0m\u001b[1;33m\u001b[0m\u001b[0m\n\u001b[1;32m----> 2\u001b[1;33m \u001b[0ms\u001b[0m\u001b[1;33m[\u001b[0m\u001b[1;36m2\u001b[0m\u001b[1;33m]\u001b[0m \u001b[1;33m=\u001b[0m \u001b[1;34m\"A\"\u001b[0m\u001b[1;33m\u001b[0m\u001b[1;33m\u001b[0m\u001b[0m\n\u001b[0m",
      "\u001b[1;31mTypeError\u001b[0m: 'str' object does not support item assignment"
     ]
    }
   ],
   "source": [
    "s = 'blah blah'\n",
    "s[2] = \"A\""
   ]
  },
  {
   "cell_type": "markdown",
   "id": "angry-width",
   "metadata": {},
   "source": [
    "**but we can create new objects**"
   ]
  },
  {
   "cell_type": "code",
   "execution_count": 56,
   "id": "convertible-massage",
   "metadata": {},
   "outputs": [
    {
     "name": "stdout",
     "output_type": "stream",
     "text": [
      "2422187534512 2422187532592\n",
      "blah blah blAh blAh\n"
     ]
    }
   ],
   "source": [
    "replace_result = s.replace(\"a\", \"A\")\n",
    "\n",
    "print(id(replace_result), id(s))\n",
    "print(s, replace_result)"
   ]
  },
  {
   "cell_type": "markdown",
   "id": "unauthorized-chocolate",
   "metadata": {},
   "source": [
    "## String formatting"
   ]
  },
  {
   "cell_type": "markdown",
   "id": "marine-treasury",
   "metadata": {},
   "source": [
    "**Approach 1 - real oldschool % (printf-style)**\n",
    "\n",
    "https://docs.python.org/3/library/stdtypes.html#old-string-formatting\n",
    "\n",
    "- difficult to read on big strings\n",
    "- could lead to bugs"
   ]
  },
  {
   "cell_type": "code",
   "execution_count": 57,
   "id": "adolescent-porter",
   "metadata": {},
   "outputs": [
    {
     "data": {
      "text/plain": [
       "\"'Talk is cheap. Show me the code.' ― Linus Torvalds\""
      ]
     },
     "execution_count": 57,
     "metadata": {},
     "output_type": "execute_result"
    }
   ],
   "source": [
    "price = \"cheap\"\n",
    "name = \"Linus Torvalds\"\n",
    "\"'Talk is %s. Show me the code.' ― %s\" % (price, name)"
   ]
  },
  {
   "cell_type": "markdown",
   "id": "answering-wonder",
   "metadata": {},
   "source": [
    "**Approach 2 - .format()**\n",
    "\n",
    "- from Python 2.6\n",
    "- much readable than %-formatting"
   ]
  },
  {
   "cell_type": "code",
   "execution_count": 58,
   "id": "accredited-divorce",
   "metadata": {},
   "outputs": [
    {
     "data": {
      "text/plain": [
       "\"'Talk is cheap. Show me the code.' ― Linus Torvalds\""
      ]
     },
     "execution_count": 58,
     "metadata": {},
     "output_type": "execute_result"
    }
   ],
   "source": [
    "price = \"cheap\"\n",
    "name = \"Linus Torvalds\"\n",
    "\n",
    "\"'Talk is {}. Show me the code.' ― {}\".format(price, name)"
   ]
  },
  {
   "cell_type": "code",
   "execution_count": 59,
   "id": "civic-wallpaper",
   "metadata": {},
   "outputs": [
    {
     "data": {
      "text/plain": [
       "\"'Talk is cheap. Show me the code.' ― Linus Torvalds\""
      ]
     },
     "execution_count": 59,
     "metadata": {},
     "output_type": "execute_result"
    }
   ],
   "source": [
    "price = \"cheap\"\n",
    "name = \"Linus Torvalds\"\n",
    "\n",
    "\"'Talk is {1}. Show me the code.' ― {0}\".format(name, price)"
   ]
  },
  {
   "cell_type": "code",
   "execution_count": 61,
   "id": "decreased-sampling",
   "metadata": {},
   "outputs": [
    {
     "data": {
      "text/plain": [
       "\"'Talk is cheap. Show me the code.' ― Linus Torvalds\""
      ]
     },
     "execution_count": 61,
     "metadata": {},
     "output_type": "execute_result"
    }
   ],
   "source": [
    "data = {\"price\": \"cheap\", \"name\": \"Linus Torvalds\"}\n",
    "\"'Talk is {price}. Show me the code.' ― {name}\".format(**data)"
   ]
  },
  {
   "cell_type": "markdown",
   "id": "improving-albuquerque",
   "metadata": {},
   "source": [
    "**Approach 3 - just one simple.. great magnificent f**\n",
    "\n",
    "- from Python 3.6\n",
    "- fastest approach (1.4 times faster than .format())\n",
    "- PEP 498 "
   ]
  },
  {
   "cell_type": "code",
   "execution_count": 62,
   "id": "interim-compromise",
   "metadata": {},
   "outputs": [
    {
     "data": {
      "text/plain": [
       "\"'Talk is cheap. Show me the code.' ― Linus Torvalds\""
      ]
     },
     "execution_count": 62,
     "metadata": {},
     "output_type": "execute_result"
    }
   ],
   "source": [
    "price = \"cheap\"\n",
    "name = \"Linus Torvalds\"\n",
    "\n",
    "f\"'Talk is {price}. Show me the code.' ― {name}\""
   ]
  },
  {
   "cell_type": "markdown",
   "id": "solar-mechanics",
   "metadata": {},
   "source": [
    "**Place expression into format brackets**"
   ]
  },
  {
   "cell_type": "code",
   "execution_count": 63,
   "id": "lightweight-bloom",
   "metadata": {},
   "outputs": [
    {
     "data": {
      "text/plain": [
       "'ddddddddddddddddd92'"
      ]
     },
     "execution_count": 63,
     "metadata": {},
     "output_type": "execute_result"
    }
   ],
   "source": [
    "f\"ddddddddddddddddd{2 * 46}\""
   ]
  },
  {
   "cell_type": "markdown",
   "id": "atomic-rogers",
   "metadata": {},
   "source": [
    "Specify how item should be converted to string:\n",
    "\n",
    "https://docs.python.org/3/library/string.html#formatexamples"
   ]
  },
  {
   "cell_type": "code",
   "execution_count": 62,
   "id": "saving-occurrence",
   "metadata": {},
   "outputs": [
    {
     "name": "stdout",
     "output_type": "stream",
     "text": [
      "0.12\n",
      "*********very niiice**********\n"
     ]
    }
   ],
   "source": [
    "print(f'{0.123456789:.2f}')\n",
    "data = 'very niiice'\n",
    "print(f'{data:*^30}')"
   ]
  },
  {
   "cell_type": "markdown",
   "id": "through-requirement",
   "metadata": {},
   "source": [
    "And never ever call str() on object passed to format methods"
   ]
  },
  {
   "cell_type": "code",
   "execution_count": 65,
   "id": "dense-cache",
   "metadata": {},
   "outputs": [
    {
     "name": "stdout",
     "output_type": "stream",
     "text": [
      "[1, 2, 3, 4] -- 1234567\n",
      "[1, 2, 3, 4] -- 1234567\n"
     ]
    }
   ],
   "source": [
    "obj_1 = [1, 2, 3, 4,]\n",
    "obj_2 = 1234567\n",
    "\n",
    "# bad\n",
    "print('{} -- {}'.format(str(obj_1), str(obj_2)))\n",
    "\n",
    "# better\n",
    "print('{} -- {}'.format(obj_1, obj_2))"
   ]
  },
  {
   "cell_type": "code",
   "execution_count": 66,
   "id": "enclosed-stomach",
   "metadata": {},
   "outputs": [],
   "source": [
    "import logging\n",
    "\n",
    "logger = logging.getLogger(__name__)\n",
    "\n",
    "# https://docs.python.org/3/howto/logging.html#optimization\n",
    "# lazy, string will only be interpolated if the message is actually emitted\n",
    "logger.info(\"%s occured while doing %s\", \"error\", \"action\")\n",
    "\n",
    "# Use lazy % formatting in logging functions pylint\n",
    "logger.info(\"{} occured while doing {}\".format(\"error\", \"action\"))\n",
    "logger.info(\"%s occured while doing %s\" % (\"error\", \"action\"))\n",
    "a, b = \"error\", \"action\"\n",
    "logger.info(f\"{a} occured while doing {b}\")"
   ]
  },
  {
   "cell_type": "code",
   "execution_count": 67,
   "id": "soviet-isolation",
   "metadata": {},
   "outputs": [
    {
     "name": "stdout",
     "output_type": "stream",
     "text": [
      "__add__ ,__class__ ,__contains__ ,__delattr__ ,__dir__ ,__doc__ ,__eq__ ,__format__ ,__ge__ ,__getattribute__ ,__getitem__ ,__getnewargs__ ,__gt__ ,__hash__ ,__init__ ,__init_subclass__ ,__iter__ ,__le__ ,__len__ ,__lt__ ,__mod__ ,__mul__ ,__ne__ ,__new__ ,__reduce__ ,__reduce_ex__ ,__repr__ ,__rmod__ ,__rmul__ ,__setattr__ ,__sizeof__ ,__str__ ,__subclasshook__ ,capitalize ,casefold ,center ,count ,encode ,endswith ,expandtabs ,find ,format ,format_map ,index ,isalnum ,isalpha ,isascii ,isdecimal ,isdigit ,isidentifier ,islower ,isnumeric ,isprintable ,isspace ,istitle ,isupper ,join ,ljust ,lower ,lstrip ,maketrans ,partition ,removeprefix ,removesuffix ,replace ,rfind ,rindex ,rjust ,rpartition ,rsplit ,rstrip ,split ,splitlines ,startswith ,strip ,swapcase ,title ,translate ,upper ,zfill\n",
      "Help on built-in function replace:\n",
      "\n",
      "replace(old, new, count=-1, /) method of builtins.str instance\n",
      "    Return a copy with all occurrences of substring old replaced by new.\n",
      "    \n",
      "      count\n",
      "        Maximum number of occurrences to replace.\n",
      "        -1 (the default value) means replace all occurrences.\n",
      "    \n",
      "    If the optional argument count is given, only the first count occurrences are\n",
      "    replaced.\n",
      "\n",
      "None\n"
     ]
    }
   ],
   "source": [
    "# Getting help\n",
    "s = \"Some object to check\"\n",
    "print(\" ,\".join(dir(s)))\n",
    "print(help(s.replace))"
   ]
  },
  {
   "cell_type": "markdown",
   "id": "listed-south",
   "metadata": {},
   "source": [
    "**Popular IDEs**\n",
    " - PyCharm https://www.jetbrains.com/pycharm/\n",
    " - VSCode https://code.visualstudio.com/"
   ]
  },
  {
   "cell_type": "markdown",
   "id": "editorial-snowboard",
   "metadata": {},
   "source": [
    "**Useful links**\n",
    "\n",
    "VSCode Python tutorial [https://code.visualstudio.com/docs/python/python-tutorial](https://code.visualstudio.com/docs/python/python-tutorial)\n",
    "\n",
    "Python official documentation [https://docs.python.org/3/](https://docs.python.org/3/)\n",
    "\n",
    "How to run python scripts [https://realpython.com/run-python-scripts/](https://realpython.com/run-python-scripts/)\n",
    "\n",
    "Book \"Python 3 Module of the Week\" - stdlib with examples [https://pymotw.com/3/](https://pymotw.com/3/)\n",
    "\n",
    "Virtual Environment [https://realpython.com/python-virtual-environments-a-primer/](https://realpython.com/python-virtual-environments-a-primer/)"
   ]
  },
  {
   "cell_type": "markdown",
   "id": "utility-cradle",
   "metadata": {},
   "source": [
    "**Homework**\n",
    "- Install the last version of Python\n",
    "- Create a repo on a Github\n",
    "- Copy ```https://github.com/Python-TestAutomation-Training-Course/STA-with-Python-1/Lecture_1_Introduction_homework``` to your repo\n",
    "- Commit files\n",
    "- Create a virtual environment\n",
    "- Install dependencies from requirements.txt with command `pip install -r requirements.txt`\n",
    "- Run tests with command ```pytest``` (1 should pass and 5 fail)\n",
    "- Create a new branch\n",
    "- Implement `get_length` and `remove_spaces` functions to fix tests\n",
    "- Push your changes and make a Pull Request for your repo\n",
    "- Assign PR to https://github.com/zhidelev"
   ]
  },
  {
   "cell_type": "code",
   "execution_count": null,
   "id": "adverse-criterion",
   "metadata": {},
   "outputs": [],
   "source": []
  }
 ],
 "metadata": {
  "kernelspec": {
   "display_name": "Python 3",
   "language": "python",
   "name": "python3"
  },
  "language_info": {
   "codemirror_mode": {
    "name": "ipython",
    "version": 3
   },
   "file_extension": ".py",
   "mimetype": "text/x-python",
   "name": "python",
   "nbconvert_exporter": "python",
   "pygments_lexer": "ipython3",
   "version": "3.9.1"
  }
 },
 "nbformat": 4,
 "nbformat_minor": 5
}
