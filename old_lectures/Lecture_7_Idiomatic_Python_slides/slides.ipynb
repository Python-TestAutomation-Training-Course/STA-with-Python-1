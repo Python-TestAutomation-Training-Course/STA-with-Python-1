{
 "cells": [
  {
   "cell_type": "markdown",
   "metadata": {
    "slideshow": {
     "slide_type": "slide"
    }
   },
   "source": [
    "# Idiomatic python"
   ]
  },
  {
   "cell_type": "markdown",
   "metadata": {
    "slideshow": {
     "slide_type": "subslide"
    }
   },
   "source": [
    "### PEP 20\n",
    "Zen of Python"
   ]
  },
  {
   "cell_type": "code",
   "execution_count": 1,
   "metadata": {},
   "outputs": [
    {
     "name": "stdout",
     "output_type": "stream",
     "text": [
      "The Zen of Python, by Tim Peters\n",
      "\n",
      "Beautiful is better than ugly.\n",
      "Explicit is better than implicit.\n",
      "Simple is better than complex.\n",
      "Complex is better than complicated.\n",
      "Flat is better than nested.\n",
      "Sparse is better than dense.\n",
      "Readability counts.\n",
      "Special cases aren't special enough to break the rules.\n",
      "Although practicality beats purity.\n",
      "Errors should never pass silently.\n",
      "Unless explicitly silenced.\n",
      "In the face of ambiguity, refuse the temptation to guess.\n",
      "There should be one-- and preferably only one --obvious way to do it.\n",
      "Although that way may not be obvious at first unless you're Dutch.\n",
      "Now is better than never.\n",
      "Although never is often better than *right* now.\n",
      "If the implementation is hard to explain, it's a bad idea.\n",
      "If the implementation is easy to explain, it may be a good idea.\n",
      "Namespaces are one honking great idea -- let's do more of those!\n"
     ]
    }
   ],
   "source": [
    "import this"
   ]
  },
  {
   "cell_type": "markdown",
   "metadata": {
    "slideshow": {
     "slide_type": "subslide"
    }
   },
   "source": [
    "> **Idiomatic Python** is what you write when the only thing you’re struggling with is the right way to solve your \n",
    "> problem, and you’re not struggling with the programming language or some weird library error or a nasty data \n",
    "> retrieval issue or something else extraneous to your real problem. The idioms you prefer may differ from the \n",
    "> idioms I prefer, but with Python there will be a fair amount of overlap, because there is usually at most one \n",
    "> obvious way to do every task. (A caveat: “obvious” is unfortunately the eye of the beholder, to some extent.)\n",
    "\n",
    "#### A programming idiom is the usual way to code a task in a specific language\n",
    "\n",
    "Using a given languages set of idioms makes it easier for other developers to read and understand your code. Furthermore, if other people use the same set of idioms, it's easier for you to understand their code! "
   ]
  },
  {
   "cell_type": "markdown",
   "metadata": {
    "slideshow": {
     "slide_type": "subslide"
    }
   },
   "source": [
    "[\"Transforming Code into Beautiful, Idiomatic Python\"](https://www.youtube.com/watch?v=OSGv2VnC0go) by Raymond Hettinger  \n",
    "[\"Loop like a native: while, for, iterators, generators\"](https://www.youtube.com/watch?v=EnSu9hHGq5o) by Ned Batchelder  \n",
    "[\"Pragmatic Unicode, or, How do I stop the pain?\"](https://www.youtube.com/watch?v=sgHbC6udIqc) by Ned Batchelder  \n",
    "[\"Beyond PEP 8 -- Best practices for beautiful intelligible code - PyCon 2015\"](https://www.youtube.com/watch?v=wf-BqAjZb8M) by Raymond Hettinger  \n",
    "[\"Python's Class Development Toolkit\"](https://www.youtube.com/watch?v=HTLu2DFOdTg) by Raymond Hettinger  "
   ]
  },
  {
   "cell_type": "markdown",
   "metadata": {
    "slideshow": {
     "slide_type": "slide"
    }
   },
   "source": [
    "### Looping idioms"
   ]
  },
  {
   "cell_type": "markdown",
   "metadata": {
    "slideshow": {
     "slide_type": "slide"
    }
   },
   "source": [
    "#### looping over a range of numbers"
   ]
  },
  {
   "cell_type": "code",
   "execution_count": 4,
   "metadata": {
    "slideshow": {
     "slide_type": "fragment"
    }
   },
   "outputs": [
    {
     "name": "stdout",
     "output_type": "stream",
     "text": [
      "0 2 4 6 8 0 2 4 6 8 "
     ]
    }
   ],
   "source": [
    "# bad\n",
    "for i in [0, 1, 2, 3, 4]:\n",
    "    print(i * 2, end=\" \")"
   ]
  },
  {
   "cell_type": "code",
   "execution_count": null,
   "metadata": {
    "slideshow": {
     "slide_type": "fragment"
    }
   },
   "outputs": [],
   "source": [
    "# good\n",
    "for i in range(5):\n",
    "    print(i * 2, end=\" \")"
   ]
  },
  {
   "cell_type": "markdown",
   "metadata": {
    "slideshow": {
     "slide_type": "slide"
    }
   },
   "source": [
    "#### iterating over a collection"
   ]
  },
  {
   "cell_type": "code",
   "execution_count": 5,
   "metadata": {
    "slideshow": {
     "slide_type": "fragment"
    }
   },
   "outputs": [
    {
     "name": "stdout",
     "output_type": "stream",
     "text": [
      "spaniel\n",
      "collie\n",
      "greyhound\n"
     ]
    }
   ],
   "source": [
    "# bad\n",
    "dogs = ['spaniel', 'collie', 'greyhound']\n",
    "for i in range(len(dogs)):\n",
    "    print(dogs[i])"
   ]
  },
  {
   "cell_type": "markdown",
   "metadata": {
    "slideshow": {
     "slide_type": "fragment"
    }
   },
   "source": [
    ">\"every time you see range(len(something)) - there probably is a better way to do it\"\n"
   ]
  },
  {
   "cell_type": "code",
   "execution_count": 6,
   "metadata": {
    "slideshow": {
     "slide_type": "fragment"
    }
   },
   "outputs": [
    {
     "name": "stdout",
     "output_type": "stream",
     "text": [
      "spaniel\n",
      "collie\n",
      "greyhound\n"
     ]
    }
   ],
   "source": [
    "# good\n",
    "for dog in dogs:\n",
    "    print(dog)"
   ]
  },
  {
   "cell_type": "markdown",
   "metadata": {
    "slideshow": {
     "slide_type": "slide"
    }
   },
   "source": [
    "#### iterating backwards"
   ]
  },
  {
   "cell_type": "code",
   "execution_count": 7,
   "metadata": {
    "scrolled": false,
    "slideshow": {
     "slide_type": "fragment"
    }
   },
   "outputs": [
    {
     "name": "stdout",
     "output_type": "stream",
     "text": [
      "greyhound\n",
      "collie\n",
      "spaniel\n"
     ]
    }
   ],
   "source": [
    "# bad\n",
    "dogs = ['spaniel', 'collie', 'greyhound']\n",
    "for i in range(len(dogs) - 1, -1, -1):\n",
    "    print(dogs[i])"
   ]
  },
  {
   "cell_type": "code",
   "execution_count": 9,
   "metadata": {
    "collapsed": true,
    "slideshow": {
     "slide_type": "fragment"
    }
   },
   "outputs": [
    {
     "name": "stdout",
     "output_type": "stream",
     "text": [
      "greyhound\n",
      "collie\n",
      "spaniel\n"
     ]
    }
   ],
   "source": [
    "# better, but still not really good\n",
    "for dog in dogs[::-1]:\n",
    "    print(dog)"
   ]
  },
  {
   "cell_type": "code",
   "execution_count": 8,
   "metadata": {
    "collapsed": true,
    "slideshow": {
     "slide_type": "fragment"
    }
   },
   "outputs": [
    {
     "name": "stdout",
     "output_type": "stream",
     "text": [
      "greyhound\n",
      "collie\n",
      "spaniel\n"
     ]
    }
   ],
   "source": [
    "# good\n",
    "for dog in reversed(dogs):\n",
    "    print(dog)"
   ]
  },
  {
   "cell_type": "code",
   "execution_count": 11,
   "metadata": {
    "slideshow": {
     "slide_type": "fragment"
    }
   },
   "outputs": [
    {
     "name": "stdout",
     "output_type": "stream",
     "text": [
      "<class 'list_reverseiterator'>\n",
      "80\n",
      "48\n"
     ]
    }
   ],
   "source": [
    "import sys\n",
    "\n",
    "print(type(reversed(dogs)))\n",
    "\n",
    "print(sys.getsizeof(dogs[::-1]))\n",
    "print(sys.getsizeof(reversed(dogs)))"
   ]
  },
  {
   "cell_type": "markdown",
   "metadata": {
    "slideshow": {
     "slide_type": "slide"
    }
   },
   "source": [
    "#### iterating over a collection with indecies"
   ]
  },
  {
   "cell_type": "markdown",
   "metadata": {
    "slideshow": {
     "slide_type": "fragment"
    }
   },
   "source": [
    ">\"whenever you manipulate indeces directly, you probably doing it wrong\"\n",
    ">\n",
    "> -- <cite>Raymond Hettinger</cite>"
   ]
  },
  {
   "cell_type": "code",
   "execution_count": 16,
   "metadata": {
    "slideshow": {
     "slide_type": "fragment"
    }
   },
   "outputs": [
    {
     "name": "stdout",
     "output_type": "stream",
     "text": [
      "1. spaniel\n",
      "2. collie\n",
      "3. greyhound\n"
     ]
    }
   ],
   "source": [
    "# bad\n",
    "dogs = ['spaniel', 'collie', 'greyhound']\n",
    "for i in range(len(dogs)):\n",
    "    print(f\"{i + 1}. {dogs[i]}\")"
   ]
  },
  {
   "cell_type": "code",
   "execution_count": 19,
   "metadata": {
    "slideshow": {
     "slide_type": "fragment"
    }
   },
   "outputs": [
    {
     "name": "stdout",
     "output_type": "stream",
     "text": [
      "1. spaniel\n",
      "2. collie\n",
      "3. greyhound\n"
     ]
    }
   ],
   "source": [
    "# good\n",
    "for num, dog in enumerate(dogs, start=1):\n",
    "    print(f\"{num}. {dog}\")"
   ]
  },
  {
   "cell_type": "markdown",
   "metadata": {
    "slideshow": {
     "slide_type": "slide"
    }
   },
   "source": [
    "### Looping over two (or more) collections"
   ]
  },
  {
   "cell_type": "markdown",
   "metadata": {
    "slideshow": {
     "slide_type": "subslide"
    }
   },
   "source": [
    "__Same length__"
   ]
  },
  {
   "cell_type": "code",
   "execution_count": 1,
   "metadata": {
    "slideshow": {
     "slide_type": "fragment"
    }
   },
   "outputs": [
    {
     "name": "stdout",
     "output_type": "stream",
     "text": [
      "spaniel small\n",
      "collie mid-sized\n",
      "greyhound big\n"
     ]
    }
   ],
   "source": [
    "# Not pythonic at all\n",
    "dogs = ['spaniel', 'collie', 'mastiff']\n",
    "dog_size = ['small', 'mid-sized', 'big']\n",
    "for i in range(len(dogs)):\n",
    "    print(dogs[i], dog_size[i])"
   ]
  },
  {
   "cell_type": "code",
   "execution_count": 2,
   "metadata": {
    "slideshow": {
     "slide_type": "fragment"
    }
   },
   "outputs": [
    {
     "name": "stdout",
     "output_type": "stream",
     "text": [
      "spaniel small\n",
      "collie mid-sized\n",
      "greyhound big\n"
     ]
    }
   ],
   "source": [
    "# Pythonic way\n",
    "dogs = ['spaniel', 'collie', 'mastiff']\n",
    "dog_size = ['small', 'mid-sized', 'big']\n",
    "for dog, size in zip(dogs, dog_size):\n",
    "    print(dog, size)"
   ]
  },
  {
   "cell_type": "markdown",
   "metadata": {
    "slideshow": {
     "slide_type": "slide"
    }
   },
   "source": [
    "__Different length__"
   ]
  },
  {
   "cell_type": "code",
   "execution_count": 5,
   "metadata": {
    "scrolled": true,
    "slideshow": {
     "slide_type": "fragment"
    }
   },
   "outputs": [
    {
     "name": "stdout",
     "output_type": "stream",
     "text": [
      "spaniel small\n",
      "collie mid-sized\n"
     ]
    }
   ],
   "source": [
    "dogs = ['spaniel', 'collie', 'mastiff', 'greyhound']\n",
    "dog_size = ['small', 'mid-sized']\n",
    "for dog, size in zip(dogs, dog_size):\n",
    "    print(dog, size)"
   ]
  },
  {
   "cell_type": "code",
   "execution_count": 9,
   "metadata": {
    "slideshow": {
     "slide_type": "fragment"
    }
   },
   "outputs": [
    {
     "name": "stdout",
     "output_type": "stream",
     "text": [
      "spaniel small\n",
      "collie mid-sized\n",
      "mastiff not specified\n",
      "greyhound not specified\n"
     ]
    }
   ],
   "source": [
    "from itertools import zip_longest\n",
    "\n",
    "dogs = ['spaniel', 'collie', 'mastiff', 'greyhound']\n",
    "dog_size = ['small', 'mid-sized']\n",
    "for dog, size in zip_longest(dogs, dog_size, fillvalue='not specified'):\n",
    "    print(dog, size)"
   ]
  },
  {
   "cell_type": "markdown",
   "metadata": {
    "slideshow": {
     "slide_type": "slide"
    }
   },
   "source": [
    "### Mutating while looping"
   ]
  },
  {
   "cell_type": "code",
   "execution_count": null,
   "metadata": {
    "slideshow": {
     "slide_type": "fragment"
    }
   },
   "outputs": [],
   "source": [
    "numbers = [1, 2, 3]\n",
    "for number in numbers:\n",
    "    square = number ** number\n",
    "    numbers.append(square)"
   ]
  },
  {
   "cell_type": "markdown",
   "metadata": {
    "pycharm": {
     "name": "#%% md\n"
    },
    "slideshow": {
     "slide_type": "subslide"
    }
   },
   "source": [
    "__Make a copy__\n",
    "\n",
    ">\"if you mutate something while you iterating over it, you are living in a state of sin and you deserve whatever happens to you\"\n",
    ">\n",
    "> -- <cite>Raymond Hettinger</cite>"
   ]
  },
  {
   "cell_type": "code",
   "execution_count": null,
   "metadata": {
    "pycharm": {
     "name": "#%%\n"
    },
    "slideshow": {
     "slide_type": "fragment"
    }
   },
   "outputs": [],
   "source": [
    "# bad\n",
    "numbers = [1, 2, 3]\n",
    "numbers_copy = numbers\n",
    "for number in numbers_copy:\n",
    "    square = number ** number\n",
    "    numbers_copy.append(square)"
   ]
  },
  {
   "cell_type": "code",
   "execution_count": 1,
   "metadata": {
    "slideshow": {
     "slide_type": "fragment"
    }
   },
   "outputs": [
    {
     "name": "stdout",
     "output_type": "stream",
     "text": [
      "[1, 2, 3, 1, 4, 27]\n"
     ]
    }
   ],
   "source": [
    "numbers = [1, 2, 3]\n",
    "for number in numbers.copy():\n",
    "    square = number ** number\n",
    "    numbers.append(square)\n",
    "print(numbers)"
   ]
  },
  {
   "cell_type": "markdown",
   "metadata": {
    "pycharm": {
     "name": "#%% md\n"
    },
    "slideshow": {
     "slide_type": "slide"
    }
   },
   "source": [
    "### Copying"
   ]
  },
  {
   "cell_type": "code",
   "execution_count": 13,
   "metadata": {
    "pycharm": {
     "name": "#%%\n"
    },
    "slideshow": {
     "slide_type": "fragment"
    }
   },
   "outputs": [
    {
     "name": "stdout",
     "output_type": "stream",
     "text": [
      "[[1, 2, 3], [4, 5, 6]] 4513440128\n",
      "[[1, 2, 3], [4, 5, 6]] 4513440320\n",
      "[[1, 2, 3], [4, 5, 6]] 4513478336\n",
      "[[1, 2, 3], [4, 5, 6]] 4513429440\n",
      "[[1, 2, 3], [4, 5, 6]] 4513477888\n"
     ]
    }
   ],
   "source": [
    "from copy import copy\n",
    "\n",
    "list_of_lists = [[1, 2, 3], [4, 5, 6]]\n",
    "\n",
    "copy1 = list_of_lists[:]\n",
    "copy2 = copy(list_of_lists)\n",
    "copy3 = list(list_of_lists)\n",
    "\n",
    "copy4 = list_of_lists.copy()\n",
    "\n",
    "print(list_of_lists, id(list_of_lists))\n",
    "print(copy1, id(copy1))\n",
    "print(copy2, id(copy2))\n",
    "print(copy3, id(copy3))\n",
    "print(copy4, id(copy4))"
   ]
  },
  {
   "cell_type": "code",
   "execution_count": 14,
   "metadata": {
    "slideshow": {
     "slide_type": "fragment"
    }
   },
   "outputs": [
    {
     "name": "stdout",
     "output_type": "stream",
     "text": [
      "[[1, 2, 3, 42], [4, 5, 6]]\n",
      "[[1, 2, 3, 42], [4, 5, 6]]\n",
      "[[1, 2, 3, 42], [4, 5, 6]]\n",
      "[[1, 2, 3, 42], [4, 5, 6]]\n",
      "[[1, 2, 3, 42], [4, 5, 6]]\n"
     ]
    }
   ],
   "source": [
    "list_of_lists[0].append(42)\n",
    "print(list_of_lists, copy1, copy2, copy3, copy4, sep='\\n')"
   ]
  },
  {
   "cell_type": "markdown",
   "metadata": {
    "pycharm": {
     "name": "#%% md\n"
    },
    "slideshow": {
     "slide_type": "slide"
    }
   },
   "source": [
    "### Deepcopy"
   ]
  },
  {
   "cell_type": "code",
   "execution_count": 12,
   "metadata": {
    "slideshow": {
     "slide_type": "fragment"
    }
   },
   "outputs": [
    {
     "name": "stdout",
     "output_type": "stream",
     "text": [
      "[[1, 2, 3, 42], [4, 5, 6]]\n",
      "[[1, 2, 3], [4, 5, 6]]\n"
     ]
    }
   ],
   "source": [
    "from copy import deepcopy\n",
    "\n",
    "list_of_lists = [[1, 2, 3], [4, 5, 6]]\n",
    "\n",
    "copy1 = deepcopy(list_of_lists)\n",
    "\n",
    "list_of_lists[0].append(42)\n",
    "\n",
    "print(list_of_lists, copy1, sep=\"\\n\")"
   ]
  },
  {
   "cell_type": "markdown",
   "metadata": {
    "slideshow": {
     "slide_type": "slide"
    }
   },
   "source": [
    "### Sorting"
   ]
  },
  {
   "cell_type": "code",
   "execution_count": 16,
   "metadata": {
    "slideshow": {
     "slide_type": "slide"
    }
   },
   "outputs": [
    {
     "name": "stdout",
     "output_type": "stream",
     "text": [
      "['collie', 'greyhound', 'mastiff', 'spaniel']\n",
      "['spaniel', 'collie', 'mastiff', 'greyhound']\n"
     ]
    }
   ],
   "source": [
    "# Without mutating\n",
    "dogs = ['spaniel', 'collie', 'mastiff', 'greyhound']\n",
    "print(sorted(dogs))\n",
    "print(dogs)"
   ]
  },
  {
   "cell_type": "code",
   "execution_count": 18,
   "metadata": {
    "pycharm": {
     "name": "#%%\n"
    },
    "slideshow": {
     "slide_type": "fragment"
    }
   },
   "outputs": [
    {
     "name": "stdout",
     "output_type": "stream",
     "text": [
      "['collie', 'greyhound', 'mastiff', 'spaniel']\n"
     ]
    }
   ],
   "source": [
    "# With mutating\n",
    "dogs = ['spaniel', 'collie', 'mastiff', 'greyhound']\n",
    "dogs.sort()\n",
    "print(dogs)"
   ]
  },
  {
   "cell_type": "markdown",
   "metadata": {
    "slideshow": {
     "slide_type": "subslide"
    }
   },
   "source": [
    "#### pass a key function to sort"
   ]
  },
  {
   "cell_type": "code",
   "execution_count": 19,
   "metadata": {
    "slideshow": {
     "slide_type": "fragment"
    }
   },
   "outputs": [
    {
     "name": "stdout",
     "output_type": "stream",
     "text": [
      "['collie', 'spaniel', 'mastiff', 'greyhound']\n"
     ]
    }
   ],
   "source": [
    "dogs = ['spaniel', 'collie', 'mastiff', 'greyhound']\n",
    "\n",
    "# Bad\n",
    "def compare_len(item):\n",
    "    return len(item)\n",
    "print(sorted(dogs, key=compare_len))"
   ]
  },
  {
   "cell_type": "code",
   "execution_count": 20,
   "metadata": {
    "pycharm": {
     "name": "#%%\n"
    },
    "slideshow": {
     "slide_type": "fragment"
    }
   },
   "outputs": [
    {
     "name": "stdout",
     "output_type": "stream",
     "text": [
      "['collie', 'spaniel', 'mastiff', 'greyhound']\n"
     ]
    }
   ],
   "source": [
    "# Good\n",
    "print(sorted(dogs, key=len))"
   ]
  },
  {
   "cell_type": "markdown",
   "metadata": {
    "pycharm": {
     "name": "#%% md\n"
    },
    "slideshow": {
     "slide_type": "slide"
    }
   },
   "source": [
    "### dictionary idioms"
   ]
  },
  {
   "cell_type": "code",
   "execution_count": 42,
   "metadata": {
    "slideshow": {
     "slide_type": "fragment"
    }
   },
   "outputs": [
    {
     "name": "stdout",
     "output_type": "stream",
     "text": [
      "spaniel small\n",
      "collie mid-sized\n",
      "mastiff big\n"
     ]
    }
   ],
   "source": [
    "# bad\n",
    "dogs = {'spaniel': 'small', 'collie': 'mid-sized', 'mastiff': 'big'}\n",
    "for dog in dogs:\n",
    "    print(dog, dogs[dog])"
   ]
  },
  {
   "cell_type": "code",
   "execution_count": 24,
   "metadata": {
    "slideshow": {
     "slide_type": "fragment"
    }
   },
   "outputs": [
    {
     "name": "stdout",
     "output_type": "stream",
     "text": [
      "spaniel small\n",
      "collie mid-sized\n",
      "mastiff big\n"
     ]
    }
   ],
   "source": [
    "# good\n",
    "for dog, size in dogs.items():\n",
    "    print(dog, size)"
   ]
  },
  {
   "cell_type": "markdown",
   "metadata": {
    "pycharm": {
     "name": "#%% md\n"
    },
    "slideshow": {
     "slide_type": "slide"
    }
   },
   "source": [
    "__construct a dictionary from pairs__"
   ]
  },
  {
   "cell_type": "code",
   "execution_count": 26,
   "metadata": {
    "slideshow": {
     "slide_type": "fragment"
    }
   },
   "outputs": [
    {
     "name": "stdout",
     "output_type": "stream",
     "text": [
      "{'spaniel': 'small', 'collie': 'mid-sized', 'mastiff': 'big'}\n"
     ]
    }
   ],
   "source": [
    "# bad\n",
    "dogs = ['spaniel', 'collie', 'mastiff']\n",
    "dog_size = ['small', 'mid-sized', 'big']\n",
    "dogs_with_size = {}\n",
    "for i in range(len(dogs)):\n",
    "    dogs_with_size[dogs[i]] = dog_size[i]\n",
    "print(dogs_with_size)"
   ]
  },
  {
   "cell_type": "code",
   "execution_count": 27,
   "metadata": {
    "pycharm": {
     "name": "#%%\n"
    },
    "slideshow": {
     "slide_type": "fragment"
    }
   },
   "outputs": [
    {
     "name": "stdout",
     "output_type": "stream",
     "text": [
      "{'spaniel': 'small', 'collie': 'mid-sized', 'mastiff': 'big'}\n"
     ]
    }
   ],
   "source": [
    "# better\n",
    "dogs_with_size = {dog: size for dog, size in zip(dogs, dog_size)}\n",
    "print(dogs_with_size)"
   ]
  },
  {
   "cell_type": "code",
   "execution_count": 28,
   "metadata": {
    "slideshow": {
     "slide_type": "fragment"
    }
   },
   "outputs": [
    {
     "name": "stdout",
     "output_type": "stream",
     "text": [
      "{'spaniel': 'small', 'collie': 'mid-sized', 'mastiff': 'big'}\n"
     ]
    }
   ],
   "source": [
    "# good\n",
    "dogs_with_size = dict(zip(dogs, dog_size))\n",
    "print(dogs_with_size)"
   ]
  },
  {
   "cell_type": "code",
   "execution_count": 31,
   "metadata": {
    "slideshow": {
     "slide_type": "fragment"
    }
   },
   "outputs": [
    {
     "name": "stdout",
     "output_type": "stream",
     "text": [
      "{0: 'spaniel', 1: 'collie', 2: 'mastiff'}\n"
     ]
    }
   ],
   "source": [
    "# want a key to be a serial number?\n",
    "enumerated_dogs = dict(enumerate(dogs))\n",
    "print(enumerated_dogs)"
   ]
  },
  {
   "cell_type": "markdown",
   "metadata": {
    "pycharm": {
     "name": "#%% md\n"
    },
    "slideshow": {
     "slide_type": "slide"
    }
   },
   "source": [
    "#### Merging dictionaries"
   ]
  },
  {
   "cell_type": "code",
   "execution_count": null,
   "metadata": {
    "pycharm": {
     "name": "#%%\n"
    },
    "slideshow": {
     "slide_type": "fragment"
    }
   },
   "outputs": [],
   "source": [
    "first = {1: \"one\", 2: \"two\", 3: \"three\"}\n",
    "second = {4: \"four\", 5: \"five\", 6: \"six\"}\n",
    "third = {7: \"seven\", 8: \"eight\", 9: \"nine\"}"
   ]
  },
  {
   "cell_type": "code",
   "execution_count": null,
   "metadata": {
    "slideshow": {
     "slide_type": "fragment"
    }
   },
   "outputs": [],
   "source": [
    "# not so easy to read\n",
    "new_dict = dict(first) # or first.copy()\n",
    "new_dict.update(second)\n",
    "new_dict.update(third)\n",
    "print(new_dict)"
   ]
  },
  {
   "cell_type": "code",
   "execution_count": null,
   "metadata": {
    "slideshow": {
     "slide_type": "fragment"
    }
   },
   "outputs": [],
   "source": [
    "# better, python 3.5+\n",
    "new_dict = {**first, **second, **third}\n",
    "print(new_dict)"
   ]
  },
  {
   "cell_type": "code",
   "execution_count": 32,
   "metadata": {
    "collapsed": true,
    "slideshow": {
     "slide_type": "fragment"
    }
   },
   "outputs": [
    {
     "ename": "NameError",
     "evalue": "name 'first' is not defined",
     "output_type": "error",
     "traceback": [
      "\u001b[0;31m---------------------------------------------------------------------------\u001b[0m",
      "\u001b[0;31mNameError\u001b[0m                                 Traceback (most recent call last)",
      "\u001b[0;32m<ipython-input-32-a7fbb0daf5e6>\u001b[0m in \u001b[0;36m<module>\u001b[0;34m\u001b[0m\n\u001b[1;32m      1\u001b[0m \u001b[0;31m# python 3.9\u001b[0m\u001b[0;34m\u001b[0m\u001b[0;34m\u001b[0m\u001b[0;34m\u001b[0m\u001b[0m\n\u001b[0;32m----> 2\u001b[0;31m \u001b[0mnew_dict\u001b[0m \u001b[0;34m=\u001b[0m \u001b[0mfirst\u001b[0m \u001b[0;34m|\u001b[0m \u001b[0msecond\u001b[0m \u001b[0;34m|\u001b[0m \u001b[0mthird\u001b[0m\u001b[0;34m\u001b[0m\u001b[0;34m\u001b[0m\u001b[0m\n\u001b[0m\u001b[1;32m      3\u001b[0m \u001b[0mprint\u001b[0m\u001b[0;34m(\u001b[0m\u001b[0mnew_dict\u001b[0m\u001b[0;34m)\u001b[0m\u001b[0;34m\u001b[0m\u001b[0;34m\u001b[0m\u001b[0m\n",
      "\u001b[0;31mNameError\u001b[0m: name 'first' is not defined"
     ]
    }
   ],
   "source": [
    "# python 3.9\n",
    "new_dict = first | second | third\n",
    "print(new_dict)"
   ]
  },
  {
   "cell_type": "markdown",
   "metadata": {
    "slideshow": {
     "slide_type": "slide"
    }
   },
   "source": [
    "#### counting with dictionaries"
   ]
  },
  {
   "cell_type": "code",
   "execution_count": 5,
   "metadata": {
    "slideshow": {
     "slide_type": "fragment"
    }
   },
   "outputs": [
    {
     "name": "stdout",
     "output_type": "stream",
     "text": [
      "{'Madrid': 1, 'Oslo': 2, 'Berlin': 1}\n"
     ]
    }
   ],
   "source": [
    "cities = ['Madrid', 'Oslo', 'Berlin', 'Oslo']\n",
    "\n",
    "freq_dict = {}\n",
    "for city in cities:\n",
    "    if city not in freq_dict:\n",
    "        freq_dict[city] = 0\n",
    "    freq_dict[city] += 1\n",
    "\n",
    "print(freq_dict)"
   ]
  },
  {
   "cell_type": "code",
   "execution_count": 7,
   "metadata": {
    "slideshow": {
     "slide_type": "fragment"
    }
   },
   "outputs": [
    {
     "name": "stdout",
     "output_type": "stream",
     "text": [
      "{'Madrid': 1, 'Oslo': 2, 'Berlin': 1}\n"
     ]
    }
   ],
   "source": [
    "# better\n",
    "freq_dict = {}\n",
    "for city in cities:\n",
    "    freq_dict[city] = freq_dict.get(city, 0) + 1\n",
    "    \n",
    "print(freq_dict)"
   ]
  },
  {
   "cell_type": "markdown",
   "metadata": {
    "pycharm": {
     "name": "#%% md\n"
    },
    "slideshow": {
     "slide_type": "slide"
    }
   },
   "source": [
    "### more idioms"
   ]
  },
  {
   "cell_type": "markdown",
   "metadata": {
    "slideshow": {
     "slide_type": "subslide"
    }
   },
   "source": [
    "#### unpacking"
   ]
  },
  {
   "cell_type": "code",
   "execution_count": 35,
   "metadata": {
    "pycharm": {
     "name": "#%%\n"
    },
    "slideshow": {
     "slide_type": "fragment"
    }
   },
   "outputs": [],
   "source": [
    "# bad\n",
    "person = \"Alex\", \"Black\", 22, \"fake_mail@gmail.com\"\n",
    "name = person[0]\n",
    "sname = person[1]\n",
    "age = person[2]\n",
    "email = person[3]"
   ]
  },
  {
   "cell_type": "code",
   "execution_count": 36,
   "metadata": {
    "slideshow": {
     "slide_type": "fragment"
    }
   },
   "outputs": [
    {
     "name": "stdout",
     "output_type": "stream",
     "text": [
      "Alex Black 22 fake_mail@gmail.com\n"
     ]
    }
   ],
   "source": [
    "# good\n",
    "name, sname, age, email = person\n",
    "print(name, sname, age, email)"
   ]
  },
  {
   "cell_type": "code",
   "execution_count": 33,
   "metadata": {
    "slideshow": {
     "slide_type": "fragment"
    }
   },
   "outputs": [
    {
     "name": "stdout",
     "output_type": "stream",
     "text": [
      "0 [1, 2, 3, 4, 5, 6, 7, 8] 9\n"
     ]
    }
   ],
   "source": [
    "a, *b, c = range(10)\n",
    "print(a, b, c)"
   ]
  },
  {
   "cell_type": "code",
   "execution_count": 37,
   "metadata": {
    "slideshow": {
     "slide_type": "fragment"
    }
   },
   "outputs": [
    {
     "name": "stdout",
     "output_type": "stream",
     "text": [
      "Alex Black\n"
     ]
    }
   ],
   "source": [
    "name, sname, *_ = person\n",
    "print(name, sname)"
   ]
  },
  {
   "cell_type": "markdown",
   "metadata": {
    "pycharm": {
     "name": "#%% md\n"
    },
    "slideshow": {
     "slide_type": "slide"
    }
   },
   "source": [
    "#### string concatenation"
   ]
  },
  {
   "cell_type": "code",
   "execution_count": 38,
   "metadata": {
    "pycharm": {
     "name": "#%%\n"
    },
    "slideshow": {
     "slide_type": "fragment"
    }
   },
   "outputs": [
    {
     "name": "stdout",
     "output_type": "stream",
     "text": [
      "this list contains so many strings \n"
     ]
    }
   ],
   "source": [
    "# bad\n",
    "strings = [\"this\", \"list\", \"contains\", \"so\", \"many\", \"strings\"]\n",
    "s = \"\"\n",
    "for string in strings:\n",
    "    s += string + \" \"\n",
    "print(s)"
   ]
  },
  {
   "cell_type": "code",
   "execution_count": 41,
   "metadata": {
    "slideshow": {
     "slide_type": "fragment"
    }
   },
   "outputs": [
    {
     "data": {
      "text/plain": [
       "'this list contains so many strings'"
      ]
     },
     "execution_count": 41,
     "metadata": {},
     "output_type": "execute_result"
    }
   ],
   "source": [
    "\" \".join(strings)"
   ]
  },
  {
   "cell_type": "markdown",
   "metadata": {
    "slideshow": {
     "slide_type": "slide"
    }
   },
   "source": [
    "#### membership testing"
   ]
  },
  {
   "cell_type": "code",
   "execution_count": 1,
   "metadata": {
    "slideshow": {
     "slide_type": "fragment"
    }
   },
   "outputs": [
    {
     "data": {
      "text/plain": [
       "True"
      ]
     },
     "execution_count": 1,
     "metadata": {},
     "output_type": "execute_result"
    }
   ],
   "source": [
    "# bad\n",
    "'abc'.find('a')\n",
    "\n",
    "# good\n",
    "'a' in 'abc'"
   ]
  },
  {
   "cell_type": "markdown",
   "metadata": {
    "pycharm": {
     "name": "#%% md\n"
    },
    "slideshow": {
     "slide_type": "slide"
    }
   },
   "source": [
    "### `else` idioms"
   ]
  },
  {
   "cell_type": "code",
   "execution_count": 45,
   "metadata": {
    "pycharm": {
     "name": "#%%\n"
    },
    "slideshow": {
     "slide_type": "fragment"
    }
   },
   "outputs": [
    {
     "name": "stdout",
     "output_type": "stream",
     "text": [
      "it is true\n"
     ]
    }
   ],
   "source": [
    "if True is True:\n",
    "    print('it is true')\n",
    "else:\n",
    "    print('it is false')"
   ]
  },
  {
   "cell_type": "code",
   "execution_count": 2,
   "metadata": {
    "slideshow": {
     "slide_type": "fragment"
    }
   },
   "outputs": [
    {
     "name": "stdout",
     "output_type": "stream",
     "text": [
      "1\n",
      "2\n",
      "3\n",
      "else clause\n"
     ]
    }
   ],
   "source": [
    "for n in [1, 2, 3]:\n",
    "    print(n)\n",
    "    if n == 4:\n",
    "        print('n is 4')\n",
    "        break\n",
    "else:\n",
    "    print('else clause')"
   ]
  },
  {
   "cell_type": "markdown",
   "metadata": {
    "slideshow": {
     "slide_type": "fragment"
    }
   },
   "source": [
    "> `else` in `for` should've been called 'no break'"
   ]
  },
  {
   "cell_type": "code",
   "execution_count": 54,
   "metadata": {
    "slideshow": {
     "slide_type": "subslide"
    }
   },
   "outputs": [
    {
     "name": "stdout",
     "output_type": "stream",
     "text": [
      "else clause\n"
     ]
    }
   ],
   "source": [
    "a = 10\n",
    "while a:\n",
    "    a -= 1\n",
    "    if a > 10:\n",
    "        print('if clause')\n",
    "        break\n",
    "else:\n",
    "    print('else clause')"
   ]
  },
  {
   "cell_type": "code",
   "execution_count": 55,
   "metadata": {
    "slideshow": {
     "slide_type": "subslide"
    }
   },
   "outputs": [
    {
     "name": "stdout",
     "output_type": "stream",
     "text": [
      "That's fine\n"
     ]
    }
   ],
   "source": [
    "import requests\n",
    "\n",
    "try:\n",
    "    recieved_data = requests.get(\"https://google.com\").content\n",
    "except Exception as e:\n",
    "    recieved_data = None\n",
    "    print(f\"Ooops. We got some problems here: {e}\")\n",
    "\n",
    "if recieved_data:\n",
    "    # some actions with data\n",
    "    print(\"That's fine\")"
   ]
  },
  {
   "cell_type": "code",
   "execution_count": 57,
   "metadata": {
    "slideshow": {
     "slide_type": "fragment"
    }
   },
   "outputs": [
    {
     "name": "stdout",
     "output_type": "stream",
     "text": [
      "17729\n",
      "That block is always executed\n"
     ]
    }
   ],
   "source": [
    "try:\n",
    "    recieved_data = requests.get(\"https://google.com\").content\n",
    "except Exception as e:\n",
    "    print(f\"Ooops. We got some problems here: {e}\")\n",
    "else:\n",
    "    # only when no exception was raised\n",
    "    print(len(recieved_data))\n",
    "finally:\n",
    "    print(\"That block is always executed\")"
   ]
  },
  {
   "cell_type": "markdown",
   "metadata": {
    "slideshow": {
     "slide_type": "subslide"
    }
   },
   "source": [
    "#### a little bit more on try/except"
   ]
  },
  {
   "cell_type": "code",
   "execution_count": null,
   "metadata": {
    "slideshow": {
     "slide_type": "fragment"
    }
   },
   "outputs": [],
   "source": [
    "# want to delete a file, but not sure if it exists?\n",
    "import os\n",
    "\n",
    "try:\n",
    "    os.remove('file')\n",
    "except FileNotFoundError:\n",
    "    pass"
   ]
  },
  {
   "cell_type": "code",
   "execution_count": 78,
   "metadata": {
    "collapsed": true,
    "slideshow": {
     "slide_type": "fragment"
    }
   },
   "outputs": [
    {
     "ename": "NameError",
     "evalue": "name 'os' is not defined",
     "output_type": "error",
     "traceback": [
      "\u001b[0;31m---------------------------------------------------------------------------\u001b[0m",
      "\u001b[0;31mNameError\u001b[0m                                 Traceback (most recent call last)",
      "\u001b[0;32m<ipython-input-78-58808cb59f17>\u001b[0m in \u001b[0;36m<module>\u001b[0;34m\u001b[0m\n\u001b[1;32m      3\u001b[0m \u001b[0;34m\u001b[0m\u001b[0m\n\u001b[1;32m      4\u001b[0m \u001b[0;32mwith\u001b[0m \u001b[0msuppress\u001b[0m\u001b[0;34m(\u001b[0m\u001b[0mFileNotFoundError\u001b[0m\u001b[0;34m)\u001b[0m\u001b[0;34m:\u001b[0m\u001b[0;34m\u001b[0m\u001b[0;34m\u001b[0m\u001b[0m\n\u001b[0;32m----> 5\u001b[0;31m     \u001b[0mos\u001b[0m\u001b[0;34m.\u001b[0m\u001b[0mremove\u001b[0m\u001b[0;34m(\u001b[0m\u001b[0;34m'file'\u001b[0m\u001b[0;34m)\u001b[0m\u001b[0;34m\u001b[0m\u001b[0;34m\u001b[0m\u001b[0m\n\u001b[0m",
      "\u001b[0;31mNameError\u001b[0m: name 'os' is not defined"
     ]
    }
   ],
   "source": [
    "# suppresses any of the specified exceptions if they occur in the body of a with statement\n",
    "from contextlib import suppress\n",
    "\n",
    "with suppress(FileNotFoundError):\n",
    "    os.remove('file')"
   ]
  },
  {
   "cell_type": "markdown",
   "metadata": {
    "slideshow": {
     "slide_type": "slide"
    }
   },
   "source": [
    "### Excessive nesting"
   ]
  },
  {
   "cell_type": "code",
   "execution_count": 59,
   "metadata": {
    "slideshow": {
     "slide_type": "fragment"
    }
   },
   "outputs": [
    {
     "name": "stdout",
     "output_type": "stream",
     "text": [
      "1 and 2\n",
      "1 and 3\n"
     ]
    }
   ],
   "source": [
    "# Bad\n",
    "expr1, expr2, expr3 = True, True, True\n",
    "if expr1:\n",
    "    if expr2:\n",
    "        print(\"1 and 2\")\n",
    "    if expr3:\n",
    "        print(\"1 and 3\")"
   ]
  },
  {
   "cell_type": "code",
   "execution_count": 60,
   "metadata": {
    "slideshow": {
     "slide_type": "fragment"
    }
   },
   "outputs": [
    {
     "name": "stdout",
     "output_type": "stream",
     "text": [
      "1 and 2\n",
      "1 and 3\n"
     ]
    }
   ],
   "source": [
    "# Flat is better than nested.\n",
    "if expr1 and expr2:\n",
    "    print(\"1 and 2\")\n",
    "if expr1 and expr3:\n",
    "    print(\"1 and 3\")"
   ]
  },
  {
   "cell_type": "markdown",
   "metadata": {
    "pycharm": {
     "name": "#%% md\n"
    },
    "slideshow": {
     "slide_type": "subslide"
    }
   },
   "source": [
    "### if else one liner"
   ]
  },
  {
   "cell_type": "code",
   "execution_count": 66,
   "metadata": {
    "pycharm": {
     "name": "#%%\n"
    },
    "slideshow": {
     "slide_type": "fragment"
    }
   },
   "outputs": [
    {
     "name": "stdout",
     "output_type": "stream",
     "text": [
      "anything\n"
     ]
    }
   ],
   "source": [
    "foo = 'something'\n",
    "bar = 'anything'\n",
    "baz = foo if foo == bar else bar\n",
    "print(baz)"
   ]
  },
  {
   "cell_type": "code",
   "execution_count": 2,
   "metadata": {
    "slideshow": {
     "slide_type": "fragment"
    }
   },
   "outputs": [
    {
     "name": "stdout",
     "output_type": "stream",
     "text": [
      "1\n"
     ]
    }
   ],
   "source": [
    "a, b, c = 1, 2, 3\n",
    "\n",
    "# bad\n",
    "if a < b and b < c:\n",
    "    print(a)"
   ]
  },
  {
   "cell_type": "code",
   "execution_count": 3,
   "metadata": {
    "scrolled": true,
    "slideshow": {
     "slide_type": "fragment"
    }
   },
   "outputs": [
    {
     "name": "stdout",
     "output_type": "stream",
     "text": [
      "1\n"
     ]
    }
   ],
   "source": [
    "# good\n",
    "if a < b < c:\n",
    "    print(a)"
   ]
  },
  {
   "cell_type": "code",
   "execution_count": null,
   "metadata": {
    "slideshow": {
     "slide_type": "subslide"
    }
   },
   "outputs": [],
   "source": [
    "# bad\n",
    "if city == 'Oslo' or city == 'Berlin' or city == 'Madrid':\n",
    "    ..."
   ]
  },
  {
   "cell_type": "code",
   "execution_count": null,
   "metadata": {
    "slideshow": {
     "slide_type": "fragment"
    }
   },
   "outputs": [],
   "source": [
    "# good\n",
    "if city in ('Oslo', 'Berlin', 'Madrid'):\n",
    "    ..."
   ]
  },
  {
   "cell_type": "code",
   "execution_count": 1,
   "metadata": {
    "collapsed": true,
    "slideshow": {
     "slide_type": "fragment"
    }
   },
   "outputs": [
    {
     "ename": "NameError",
     "evalue": "name 'number' is not defined",
     "output_type": "error",
     "traceback": [
      "\u001b[0;31m---------------------------------------------------------------------------\u001b[0m",
      "\u001b[0;31mNameError\u001b[0m                                 Traceback (most recent call last)",
      "\u001b[0;32m<ipython-input-1-8bf0afbb8049>\u001b[0m in \u001b[0;36m<module>\u001b[0;34m\u001b[0m\n\u001b[1;32m      2\u001b[0m \u001b[0;34m\u001b[0m\u001b[0m\n\u001b[1;32m      3\u001b[0m \u001b[0;31m#bad\u001b[0m\u001b[0;34m\u001b[0m\u001b[0;34m\u001b[0m\u001b[0;34m\u001b[0m\u001b[0m\n\u001b[0;32m----> 4\u001b[0;31m \u001b[0;32mif\u001b[0m \u001b[0misinstance\u001b[0m\u001b[0;34m(\u001b[0m\u001b[0mnumber\u001b[0m\u001b[0;34m,\u001b[0m \u001b[0mint\u001b[0m\u001b[0;34m)\u001b[0m \u001b[0;32mor\u001b[0m \u001b[0misinstance\u001b[0m\u001b[0;34m(\u001b[0m\u001b[0mnumber\u001b[0m\u001b[0;34m,\u001b[0m \u001b[0mfloat\u001b[0m\u001b[0;34m)\u001b[0m\u001b[0;34m:\u001b[0m\u001b[0;34m\u001b[0m\u001b[0;34m\u001b[0m\u001b[0m\n\u001b[0m\u001b[1;32m      5\u001b[0m     \u001b[0;34m...\u001b[0m\u001b[0;34m\u001b[0m\u001b[0;34m\u001b[0m\u001b[0m\n",
      "\u001b[0;31mNameError\u001b[0m: name 'number' is not defined"
     ]
    }
   ],
   "source": [
    "# isinstance\n",
    "\n",
    "#bad\n",
    "if isinstance(number, int) or isinstance(number, float):\n",
    "    ..."
   ]
  },
  {
   "cell_type": "code",
   "execution_count": null,
   "metadata": {
    "slideshow": {
     "slide_type": "fragment"
    }
   },
   "outputs": [],
   "source": [
    "# good\n",
    "if isinstance(number, (int, float)):\n",
    "    ..."
   ]
  },
  {
   "cell_type": "markdown",
   "metadata": {
    "slideshow": {
     "slide_type": "slide"
    }
   },
   "source": [
    "### truth value testing\n",
    "https://docs.python.org/3/library/stdtypes.html#truth-value-testing"
   ]
  },
  {
   "cell_type": "markdown",
   "metadata": {
    "slideshow": {
     "slide_type": "fragment"
    }
   },
   "source": [
    "Falsy values\n",
    "- constants defined to be false: None and False.\n",
    "- zero of any numeric type: 0, 0.0, 0j, Decimal(0), Fraction(0, 1)\n",
    "- empty sequences and collections: '', (), [], {}, set(), range(0)\n",
    "\n",
    "By default, an object is considered true unless its class defines either a __bool__() method that returns False or a __len__() method that returns zero.  \n",
    "If a class defines neither __len__() nor __bool__(), all its instances are considered true."
   ]
  },
  {
   "cell_type": "code",
   "execution_count": 77,
   "metadata": {
    "slideshow": {
     "slide_type": "subslide"
    }
   },
   "outputs": [
    {
     "name": "stdout",
     "output_type": "stream",
     "text": [
      "127\n"
     ]
    }
   ],
   "source": [
    "import re\n",
    "\n",
    "addr = '127.0.0.1'\n",
    "m = re.match(r'^(\\d{3})\\.', addr)\n",
    "\n",
    "# bad\n",
    "if bool(m):\n",
    "    print(m.group(1))"
   ]
  },
  {
   "cell_type": "code",
   "execution_count": 76,
   "metadata": {
    "slideshow": {
     "slide_type": "fragment"
    }
   },
   "outputs": [],
   "source": [
    "# good\n",
    "if m:\n",
    "    print(m.group(1))"
   ]
  },
  {
   "cell_type": "markdown",
   "metadata": {
    "slideshow": {
     "slide_type": "slide"
    }
   },
   "source": [
    "### generator expressions"
   ]
  },
  {
   "cell_type": "code",
   "execution_count": 81,
   "metadata": {
    "slideshow": {
     "slide_type": "fragment"
    }
   },
   "outputs": [
    {
     "name": "stdout",
     "output_type": "stream",
     "text": [
      "14\n",
      "14\n"
     ]
    }
   ],
   "source": [
    "foo = [1, 2, 3]\n",
    "\n",
    "# don't use unnecessary brakets; use generator expressions instead of lists\n",
    "print(sum([n ** 2 for n in foo]))\n",
    "print(sum(n ** 2 for n in foo))"
   ]
  },
  {
   "cell_type": "markdown",
   "metadata": {
    "slideshow": {
     "slide_type": "slide"
    }
   },
   "source": [
    "### files and encoding"
   ]
  },
  {
   "cell_type": "markdown",
   "metadata": {
    "slideshow": {
     "slide_type": "fragment"
    }
   },
   "source": [
    "> there is no such thing as store text/unicode, you are storing bytes\n",
    ">\n",
    "> -- <cite>Ned Batchelder</cite>"
   ]
  },
  {
   "cell_type": "code",
   "execution_count": null,
   "metadata": {
    "slideshow": {
     "slide_type": "fragment"
    }
   },
   "outputs": [],
   "source": [
    "with open('filename', encoding='utf-8') as f:\n",
    "    do_stuff\n",
    "    \n",
    "# if encoding is not specified the encoding used is platform dependent\n",
    "# that could lead to bugs when running your code on a different computer"
   ]
  },
  {
   "cell_type": "markdown",
   "metadata": {
    "slideshow": {
     "slide_type": "slide"
    }
   },
   "source": [
    "#### read a file line by line"
   ]
  },
  {
   "cell_type": "code",
   "execution_count": null,
   "metadata": {
    "slideshow": {
     "slide_type": "fragment"
    }
   },
   "outputs": [],
   "source": [
    "# this will read all file into memory\n",
    "with open('file', encoding='utf-8') as f:\n",
    "    lines = f.readlines()\n",
    "    for line in lines:\n",
    "        ..."
   ]
  },
  {
   "cell_type": "code",
   "execution_count": null,
   "metadata": {
    "slideshow": {
     "slide_type": "fragment"
    }
   },
   "outputs": [],
   "source": [
    "# this will read only one line at a time\n",
    "with open('file', encoding='utf-8') as f:\n",
    "    for line in f:\n",
    "        ..."
   ]
  },
  {
   "cell_type": "markdown",
   "metadata": {
    "slideshow": {
     "slide_type": "slide"
    }
   },
   "source": [
    "### classes"
   ]
  },
  {
   "cell_type": "markdown",
   "metadata": {
    "slideshow": {
     "slide_type": "subslide"
    }
   },
   "source": [
    "#### Avoid unnecessary packaging in favor of simpler imports"
   ]
  },
  {
   "cell_type": "code",
   "execution_count": null,
   "metadata": {
    "slideshow": {
     "slide_type": "fragment"
    }
   },
   "outputs": [],
   "source": [
    "import foo.tools.elements.NetworkElement  # bad\n",
    "from tools import NetworkElement  # structure your packages so that import will be simple"
   ]
  },
  {
   "cell_type": "markdown",
   "metadata": {
    "slideshow": {
     "slide_type": "fragment"
    }
   },
   "source": [
    "#### Use properties instead of getter methods"
   ]
  },
  {
   "cell_type": "code",
   "execution_count": null,
   "metadata": {
    "slideshow": {
     "slide_type": "fragment"
    }
   },
   "outputs": [],
   "source": [
    "def get_attr(self)  # non-pythonic\n",
    "\n",
    "@property  \n",
    "def my_attr(self)  # pythonic"
   ]
  },
  {
   "cell_type": "markdown",
   "metadata": {
    "slideshow": {
     "slide_type": "subslide"
    }
   },
   "source": [
    "#### Create a context manager for recurring set-up and teardown logic"
   ]
  },
  {
   "cell_type": "code",
   "execution_count": null,
   "metadata": {
    "slideshow": {
     "slide_type": "fragment"
    }
   },
   "outputs": [],
   "source": [
    "class FooContext(object):\n",
    "    \n",
    "    def __init__(self, f):\n",
    "        self.f = f\n",
    "        \n",
    "    def __enter__(self):\n",
    "        return self.f\n",
    "    \n",
    "    # The parameters describe the exception that caused the context to be exited.\n",
    "    # If the context was exited without an exception, all three arguments will be None.\n",
    "    def __exit__(self, exc_type, exc_value, traceback):\n",
    "        self.f.close()\n",
    "        \n",
    "with FooContext(f) as foo:\n",
    "    do_stuff"
   ]
  },
  {
   "cell_type": "code",
   "execution_count": null,
   "metadata": {
    "slideshow": {
     "slide_type": "fragment"
    }
   },
   "outputs": [],
   "source": [
    "from contextlib import contextmanager\n",
    "\n",
    "@contextmanager\n",
    "def custom_context(f):\n",
    "    f.open()\n",
    "    try:\n",
    "        yield f\n",
    "    finally:\n",
    "        f.close()\n",
    "        \n",
    "with custom_context(f) as foo:\n",
    "    do_stuff"
   ]
  },
  {
   "cell_type": "markdown",
   "metadata": {
    "slideshow": {
     "slide_type": "subslide"
    }
   },
   "source": [
    "#### use magic methods"
   ]
  },
  {
   "cell_type": "code",
   "execution_count": 3,
   "metadata": {
    "slideshow": {
     "slide_type": "fragment"
    }
   },
   "outputs": [
    {
     "name": "stdout",
     "output_type": "stream",
     "text": [
      "3 2\n"
     ]
    }
   ],
   "source": [
    "class Foo:\n",
    "    def __init__(self, numbers):\n",
    "        self.numbers = numbers\n",
    "        \n",
    "    # __len__ instead of getSize()\n",
    "    def __len__(self):\n",
    "        return len(self.numbers)\n",
    "    \n",
    "    # __getitem__ instead of getRouteByIndex()\n",
    "    def __getitem__(self, index):\n",
    "        return self.numbers[index]\n",
    "    \n",
    "a = [1, 2, 3]\n",
    "b = Foo(a)\n",
    "print(len(b), b[1])"
   ]
  },
  {
   "cell_type": "markdown",
   "metadata": {
    "slideshow": {
     "slide_type": "subslide"
    }
   },
   "source": [
    "#### clarify function calls with keyword arguments"
   ]
  },
  {
   "cell_type": "code",
   "execution_count": 8,
   "metadata": {
    "collapsed": true,
    "slideshow": {
     "slide_type": "fragment"
    }
   },
   "outputs": [
    {
     "ename": "NameError",
     "evalue": "name 'twitter_search' is not defined",
     "output_type": "error",
     "traceback": [
      "\u001b[0;31m---------------------------------------------------------------------------\u001b[0m",
      "\u001b[0;31mNameError\u001b[0m                                 Traceback (most recent call last)",
      "\u001b[0;32m<ipython-input-8-dc38da0c4d0a>\u001b[0m in \u001b[0;36m<module>\u001b[0;34m\u001b[0m\n\u001b[0;32m----> 1\u001b[0;31m \u001b[0mtwitter_search\u001b[0m\u001b[0;34m(\u001b[0m\u001b[0;34m'@obama'\u001b[0m\u001b[0;34m,\u001b[0m \u001b[0;32mFalse\u001b[0m\u001b[0;34m,\u001b[0m \u001b[0;36m20\u001b[0m\u001b[0;34m,\u001b[0m \u001b[0;32mTrue\u001b[0m\u001b[0;34m)\u001b[0m\u001b[0;34m\u001b[0m\u001b[0;34m\u001b[0m\u001b[0m\n\u001b[0m\u001b[1;32m      2\u001b[0m \u001b[0mtwitter_search\u001b[0m\u001b[0;34m(\u001b[0m\u001b[0;34m'@obama'\u001b[0m\u001b[0;34m,\u001b[0m \u001b[0mretweets\u001b[0m\u001b[0;34m=\u001b[0m\u001b[0;32mFalse\u001b[0m\u001b[0;34m,\u001b[0m \u001b[0mnumtweets\u001b[0m\u001b[0;34m=\u001b[0m\u001b[0;36m20\u001b[0m\u001b[0;34m,\u001b[0m \u001b[0mpopular\u001b[0m\u001b[0;34m=\u001b[0m\u001b[0;32mTrue\u001b[0m\u001b[0;34m)\u001b[0m  \u001b[0;31m# better\u001b[0m\u001b[0;34m\u001b[0m\u001b[0;34m\u001b[0m\u001b[0m\n",
      "\u001b[0;31mNameError\u001b[0m: name 'twitter_search' is not defined"
     ]
    }
   ],
   "source": [
    "twitter_search('@obama', False, 20, True)\n",
    "twitter_search('@obama', retweets=False, numtweets=20, popular=True)  # better"
   ]
  },
  {
   "cell_type": "markdown",
   "metadata": {
    "slideshow": {
     "slide_type": "slide"
    }
   },
   "source": [
    "### PEP 8 -- Style Guide for Python Code\n",
    "\n",
    "https://www.python.org/dev/peps/pep-0008/"
   ]
  },
  {
   "cell_type": "markdown",
   "metadata": {
    "slideshow": {
     "slide_type": "subslide"
    }
   },
   "source": [
    "- indentation - 4 spaces\n",
    "- max line length - 79 symbols - arguable\n",
    "- Surround top-level function and class definitions with two blank lines.\n",
    "- Method definitions inside a class are surrounded by a single blank line.\n"
   ]
  },
  {
   "cell_type": "markdown",
   "metadata": {
    "slideshow": {
     "slide_type": "subslide"
    }
   },
   "source": [
    "#### line breaks before binary operators"
   ]
  },
  {
   "cell_type": "code",
   "execution_count": 1,
   "metadata": {
    "collapsed": true,
    "slideshow": {
     "slide_type": "fragment"
    }
   },
   "outputs": [
    {
     "ename": "NameError",
     "evalue": "name 'gross_wages' is not defined",
     "output_type": "error",
     "traceback": [
      "\u001b[0;31m---------------------------------------------------------------------------\u001b[0m",
      "\u001b[0;31mNameError\u001b[0m                                 Traceback (most recent call last)",
      "\u001b[0;32m<ipython-input-1-9d76ab9ee806>\u001b[0m in \u001b[0;36m<module>\u001b[0;34m\u001b[0m\n\u001b[1;32m      1\u001b[0m \u001b[0;31m# Wrong:\u001b[0m\u001b[0;34m\u001b[0m\u001b[0;34m\u001b[0m\u001b[0;34m\u001b[0m\u001b[0m\n\u001b[1;32m      2\u001b[0m \u001b[0;31m# operators sit far away from their operands\u001b[0m\u001b[0;34m\u001b[0m\u001b[0;34m\u001b[0m\u001b[0;34m\u001b[0m\u001b[0m\n\u001b[0;32m----> 3\u001b[0;31m income = (gross_wages +\n\u001b[0m\u001b[1;32m      4\u001b[0m           \u001b[0mtaxable_interest\u001b[0m \u001b[0;34m+\u001b[0m\u001b[0;34m\u001b[0m\u001b[0;34m\u001b[0m\u001b[0m\n\u001b[1;32m      5\u001b[0m           \u001b[0;34m(\u001b[0m\u001b[0mdividends\u001b[0m \u001b[0;34m-\u001b[0m \u001b[0mqualified_dividends\u001b[0m\u001b[0;34m)\u001b[0m \u001b[0;34m-\u001b[0m\u001b[0;34m\u001b[0m\u001b[0;34m\u001b[0m\u001b[0m\n",
      "\u001b[0;31mNameError\u001b[0m: name 'gross_wages' is not defined"
     ]
    }
   ],
   "source": [
    "# Wrong:\n",
    "# operators sit far away from their operands\n",
    "income = (gross_wages +\n",
    "          taxable_interest +\n",
    "          (dividends - qualified_dividends) -\n",
    "          ira_deduction -\n",
    "          student_loan_interest)"
   ]
  },
  {
   "cell_type": "code",
   "execution_count": 2,
   "metadata": {
    "collapsed": true,
    "slideshow": {
     "slide_type": "fragment"
    }
   },
   "outputs": [
    {
     "ename": "NameError",
     "evalue": "name 'gross_wages' is not defined",
     "output_type": "error",
     "traceback": [
      "\u001b[0;31m---------------------------------------------------------------------------\u001b[0m",
      "\u001b[0;31mNameError\u001b[0m                                 Traceback (most recent call last)",
      "\u001b[0;32m<ipython-input-2-7e98e1f42784>\u001b[0m in \u001b[0;36m<module>\u001b[0;34m\u001b[0m\n\u001b[1;32m      1\u001b[0m \u001b[0;31m# Correct:\u001b[0m\u001b[0;34m\u001b[0m\u001b[0;34m\u001b[0m\u001b[0;34m\u001b[0m\u001b[0m\n\u001b[1;32m      2\u001b[0m \u001b[0;31m# easy to match operators with operands\u001b[0m\u001b[0;34m\u001b[0m\u001b[0;34m\u001b[0m\u001b[0;34m\u001b[0m\u001b[0m\n\u001b[0;32m----> 3\u001b[0;31m income = (gross_wages\n\u001b[0m\u001b[1;32m      4\u001b[0m           \u001b[0;34m+\u001b[0m \u001b[0mtaxable_interest\u001b[0m\u001b[0;34m\u001b[0m\u001b[0;34m\u001b[0m\u001b[0m\n\u001b[1;32m      5\u001b[0m           \u001b[0;34m+\u001b[0m \u001b[0;34m(\u001b[0m\u001b[0mdividends\u001b[0m \u001b[0;34m-\u001b[0m \u001b[0mqualified_dividends\u001b[0m\u001b[0;34m)\u001b[0m\u001b[0;34m\u001b[0m\u001b[0;34m\u001b[0m\u001b[0m\n",
      "\u001b[0;31mNameError\u001b[0m: name 'gross_wages' is not defined"
     ]
    }
   ],
   "source": [
    "# Correct:\n",
    "# easy to match operators with operands\n",
    "income = (gross_wages\n",
    "          + taxable_interest\n",
    "          + (dividends - qualified_dividends)\n",
    "          - ira_deduction\n",
    "          - student_loan_interest)"
   ]
  },
  {
   "cell_type": "markdown",
   "metadata": {
    "slideshow": {
     "slide_type": "subslide"
    }
   },
   "source": [
    "#### imports"
   ]
  },
  {
   "cell_type": "code",
   "execution_count": null,
   "metadata": {
    "slideshow": {
     "slide_type": "fragment"
    }
   },
   "outputs": [],
   "source": [
    "# Wrong:\n",
    "import sys, os"
   ]
  },
  {
   "cell_type": "code",
   "execution_count": null,
   "metadata": {
    "slideshow": {
     "slide_type": "fragment"
    }
   },
   "outputs": [],
   "source": [
    "# Correct:\n",
    "import os\n",
    "import sys\n",
    "from subprocess import Popen, PIPE"
   ]
  },
  {
   "cell_type": "markdown",
   "metadata": {
    "slideshow": {
     "slide_type": "fragment"
    }
   },
   "source": [
    "#### Wildcard imports (from <module> import *) should be avoided, as they make it unclear which names are present in the namespace"
   ]
  },
  {
   "cell_type": "markdown",
   "metadata": {
    "slideshow": {
     "slide_type": "subslide"
    }
   },
   "source": [
    "#### comments"
   ]
  },
  {
   "cell_type": "code",
   "execution_count": null,
   "metadata": {
    "slideshow": {
     "slide_type": "fragment"
    }
   },
   "outputs": [],
   "source": [
    "foo = 1   # inline comments should be separated by at least two spaces"
   ]
  },
  {
   "cell_type": "markdown",
   "metadata": {
    "slideshow": {
     "slide_type": "subslide"
    }
   },
   "source": [
    "#### naming conventions\n",
    "- class, types - CapWords\n",
    "- exceptions - they are classes, so follow class naming rules, but use Error suffix if it's an error\n",
    "- method/function, variable - separated_with_underscores\n",
    "- constants - usually defined on a module level - ALL_CAPS_WITH_UNDERSCORES\n"
   ]
  },
  {
   "cell_type": "markdown",
   "metadata": {
    "slideshow": {
     "slide_type": "subslide"
    }
   },
   "source": [
    "<div style='text-align:center;'>\n",
    "    <img src=\"assets/black_logo.png\" width=\"30%\" style='display:inline-block'/>\n",
    "    <img src=\"assets/isort_logo.png\" width=\"30%\" style='display:inline-block'/>\n",
    "</div>\n",
    "\n",
    "<p style=\"text-align: center;\"><a href=\"https://pypi.org/project/black/\">https://pypi.org/project/black/ </a></p>\n",
    "<p style=\"text-align: center;\"><a href=\"https://pypi.org/project/isort/\">https://pypi.org/project/isort/</a></p>"
   ]
  }
 ],
 "metadata": {
  "celltoolbar": "Slideshow",
  "kernelspec": {
   "display_name": "Python 3",
   "language": "python",
   "name": "python3"
  },
  "language_info": {
   "codemirror_mode": {
    "name": "ipython",
    "version": 3
   },
   "file_extension": ".py",
   "mimetype": "text/x-python",
   "name": "python",
   "nbconvert_exporter": "python",
   "pygments_lexer": "ipython3",
   "version": "3.9.1"
  }
 },
 "nbformat": 4,
 "nbformat_minor": 4
}
