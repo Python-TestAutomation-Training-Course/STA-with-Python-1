{
 "cells": [
  {
   "cell_type": "markdown",
   "metadata": {
    "slideshow": {
     "slide_type": "slide"
    }
   },
   "source": [
    "# Python (EPAM, 2020), lecture 11"
   ]
  },
  {
   "cell_type": "code",
   "execution_count": 6,
   "metadata": {
    "slideshow": {
     "slide_type": "slide"
    }
   },
   "outputs": [
    {
     "ename": "Exception",
     "evalue": "Class `ErrorClass` can not have public attributes",
     "output_type": "error",
     "traceback": [
      "\u001b[1;31m---------------------------------------------------------------------------\u001b[0m",
      "\u001b[1;31mException\u001b[0m                                 Traceback (most recent call last)",
      "\u001b[1;32m<ipython-input-6-aab60e8309c5>\u001b[0m in \u001b[0;36m<module>\u001b[1;34m\u001b[0m\n\u001b[0;32m     12\u001b[0m     \u001b[0m__private\u001b[0m \u001b[1;33m=\u001b[0m \u001b[1;34m\"\"\u001b[0m\u001b[1;33m\u001b[0m\u001b[1;33m\u001b[0m\u001b[0m\n\u001b[0;32m     13\u001b[0m \u001b[1;33m\u001b[0m\u001b[0m\n\u001b[1;32m---> 14\u001b[1;33m \u001b[1;32mclass\u001b[0m \u001b[0mErrorClass\u001b[0m\u001b[1;33m(\u001b[0m\u001b[0mmetaclass\u001b[0m\u001b[1;33m=\u001b[0m\u001b[0mDisallowPublicClassAttributes\u001b[0m\u001b[1;33m)\u001b[0m\u001b[1;33m:\u001b[0m\u001b[1;33m\u001b[0m\u001b[1;33m\u001b[0m\u001b[0m\n\u001b[0m\u001b[0;32m     15\u001b[0m     \u001b[0mpublic\u001b[0m \u001b[1;33m=\u001b[0m \u001b[1;34m\"\"\u001b[0m\u001b[1;33m\u001b[0m\u001b[1;33m\u001b[0m\u001b[0m\n\u001b[0;32m     16\u001b[0m \u001b[1;33m\u001b[0m\u001b[0m\n",
      "\u001b[1;32m<ipython-input-6-aab60e8309c5>\u001b[0m in \u001b[0;36m__new__\u001b[1;34m(cls, name, bases, dct)\u001b[0m\n\u001b[0;32m      6\u001b[0m         \u001b[0mcls_instance\u001b[0m \u001b[1;33m=\u001b[0m \u001b[0msuper\u001b[0m\u001b[1;33m(\u001b[0m\u001b[1;33m)\u001b[0m\u001b[1;33m.\u001b[0m\u001b[0m__new__\u001b[0m\u001b[1;33m(\u001b[0m\u001b[0mcls\u001b[0m\u001b[1;33m,\u001b[0m \u001b[0mname\u001b[0m\u001b[1;33m,\u001b[0m \u001b[0mbases\u001b[0m\u001b[1;33m,\u001b[0m \u001b[0mdct\u001b[0m\u001b[1;33m)\u001b[0m\u001b[1;33m\u001b[0m\u001b[1;33m\u001b[0m\u001b[0m\n\u001b[0;32m      7\u001b[0m         \u001b[1;32mif\u001b[0m \u001b[0many\u001b[0m\u001b[1;33m(\u001b[0m\u001b[1;33m[\u001b[0m\u001b[1;32mnot\u001b[0m \u001b[0mkey\u001b[0m\u001b[1;33m.\u001b[0m\u001b[0mstartswith\u001b[0m\u001b[1;33m(\u001b[0m\u001b[1;34m\"_\"\u001b[0m\u001b[1;33m)\u001b[0m \u001b[1;32mfor\u001b[0m \u001b[0mkey\u001b[0m \u001b[1;32min\u001b[0m \u001b[0mdct\u001b[0m\u001b[1;33m.\u001b[0m\u001b[0mkeys\u001b[0m\u001b[1;33m(\u001b[0m\u001b[1;33m)\u001b[0m\u001b[1;33m]\u001b[0m\u001b[1;33m)\u001b[0m\u001b[1;33m:\u001b[0m\u001b[1;33m\u001b[0m\u001b[1;33m\u001b[0m\u001b[0m\n\u001b[1;32m----> 8\u001b[1;33m             \u001b[1;32mraise\u001b[0m \u001b[0mException\u001b[0m\u001b[1;33m(\u001b[0m\u001b[1;34m\"Class `%s` can not have public attributes\"\u001b[0m \u001b[1;33m%\u001b[0m \u001b[0mname\u001b[0m\u001b[1;33m)\u001b[0m\u001b[1;33m\u001b[0m\u001b[1;33m\u001b[0m\u001b[0m\n\u001b[0m\u001b[0;32m      9\u001b[0m         \u001b[1;32mreturn\u001b[0m \u001b[0mcls_instance\u001b[0m\u001b[1;33m\u001b[0m\u001b[1;33m\u001b[0m\u001b[0m\n\u001b[0;32m     10\u001b[0m \u001b[1;33m\u001b[0m\u001b[0m\n",
      "\u001b[1;31mException\u001b[0m: Class `ErrorClass` can not have public attributes"
     ]
    }
   ],
   "source": [
    "# Section 0. Metaclasses one more time\n",
    "\n",
    "\n",
    "class DisallowPublicClassAttributes(type):  # is a metaclass\n",
    "    def __new__(cls, name, bases, dct):\n",
    "        cls_instance = super().__new__(cls, name, bases, dct)\n",
    "        if any([not key.startswith(\"_\") for key in dct.keys()]):\n",
    "            raise Exception(\"Class `%s` can not have public attributes\" % name)\n",
    "        return cls_instance\n",
    "\n",
    "class NoErrorClass(metaclass=DisallowPublicClassAttributes):\n",
    "    __private = \"\"\n",
    "\n",
    "class ErrorClass(metaclass=DisallowPublicClassAttributes):\n",
    "    public = \"\"\n",
    "\n"
   ]
  },
  {
   "cell_type": "markdown",
   "metadata": {
    "slideshow": {
     "slide_type": "slide"
    }
   },
   "source": [
    "# Section 1. OOP Patterns\n",
    "\n",
    "  Three main categories:\n",
    "\n",
    "    - Creational\n",
    "        These patterns provide various object creation mechanisms,\n",
    "        which increase flexibility and reuse of existing code.\n",
    "    - Structural\n",
    "        These patterns explain how to assemble objects and classes\n",
    "        into larger structures while keeping these structures flexible and efficient.\n",
    "    - Behavioral\n",
    "        These patterns are concerned with algorithms and the assignment of\n",
    "        responsibilities between objects.\n"
   ]
  },
  {
   "cell_type": "markdown",
   "metadata": {
    "slideshow": {
     "slide_type": "slide"
    }
   },
   "source": [
    "## Creational patterns\n",
    "\n",
    "    - Singleton\n",
    "        Ensures that a class has just a single instance\n",
    "    - Factory method\n",
    "        Provides an interface for creating objects in\n",
    "        a superclass, but allows subclasses to alter the\n",
    "        type and behaviour of objects that will be created.\n",
    "\n",
    "and others https://refactoring.guru/design-patterns/creational-patterns\n",
    "\n",
    "    "
   ]
  },
  {
   "cell_type": "markdown",
   "metadata": {
    "slideshow": {
     "slide_type": "slide"
    }
   },
   "source": [
    "### 3 most popular ways to implement singleton\n",
    "Decorator\n",
    "\n",
    "```python\n",
    "def singleton(cls):\n",
    "    instances = {}\n",
    "\n",
    "    def getinstance(*args, **kwargs):\n",
    "        if cls not in instances:\n",
    "            instances[cls] = cls(*args, **kwargs)\n",
    "        return instances[cls]\n",
    "    return getinstance\n",
    "\n",
    "@singleton\n",
    "class SingletonClass:\n",
    "    pass\n",
    "```"
   ]
  },
  {
   "cell_type": "markdown",
   "metadata": {
    "slideshow": {
     "slide_type": "slide"
    }
   },
   "source": [
    "A base class\n",
    "\n",
    "```python\n",
    "class Singleton(object):\n",
    "    _instance = None\n",
    "\n",
    "    def __new__(cls, *args, **kwargs):\n",
    "        if not isinstance(cls._instance, type(cls)):\n",
    "            cls._instance = super().__new__(cls, *args, **kwargs)\n",
    "        return cls._instance\n",
    "\n",
    "class SingletonClass(Singleton):\n",
    "    pass\n",
    "```"
   ]
  },
  {
   "cell_type": "markdown",
   "metadata": {
    "slideshow": {
     "slide_type": "slide"
    }
   },
   "source": [
    "A metaclass\n",
    "\n",
    "```python\n",
    "class Singleton(type):\n",
    "    _instances = {}\n",
    "\n",
    "    def __call__(cls, *args, **kwargs):\n",
    "        if cls not in cls._instances:\n",
    "            cls._instances[cls] = super().__call__(*args, **kwargs)\n",
    "        return cls._instances[cls]\n",
    "\n",
    "\n",
    "class SingletonClass(metaclass=Singleton):\n",
    "    pass\n",
    "```"
   ]
  },
  {
   "cell_type": "code",
   "execution_count": 10,
   "metadata": {
    "slideshow": {
     "slide_type": "slide"
    }
   },
   "outputs": [],
   "source": [
    "### Factory method example\n",
    "\n",
    "\n",
    "import abc\n",
    "\n",
    "\n",
    "class AbstractReportDocument(abc.ABC):\n",
    "    @abc.abstractmethod\n",
    "    def draw(self):\n",
    "        pass\n",
    "\n",
    "\n",
    "class ReportApplication(abc.ABC):\n",
    "    @abc.abstractmethod\n",
    "    def create_document(self) -> AbstractReportDocument:\n",
    "        pass\n",
    "    \n",
    "    \n",
    "class HtmlReport(AbstractReportDocument):\n",
    "    def draw(self):\n",
    "        \"\"\"\n",
    "        Specific implementation\n",
    "        \"\"\"\n",
    "\n",
    "class JsonReport(AbstractReportDocument):\n",
    "    def draw(self):\n",
    "        \"\"\"\n",
    "        Specific implementation\n",
    "        \"\"\"\n",
    "\n",
    "class ConcreteReportApp(ReportApplication):\n",
    "    def create_document(self) -> PdfDocument:\n",
    "        return PdfDocument()\n"
   ]
  },
  {
   "cell_type": "markdown",
   "metadata": {
    "slideshow": {
     "slide_type": "slide"
    }
   },
   "source": [
    "## Structural patterns\n",
    "\n",
    "    - Decorator\n",
    "        Lets you attach new behaviors to objects by placing these\n",
    "        objects inside special wrapper objects that contain the behaviors.\n",
    "    - Proxy\n",
    "        Lets you provide a substitute or placeholder for another object.\n",
    "        A proxy controls access to the original object, allowing you to perform\n",
    "        something either before or after the request gets through to the\n",
    "        original object.\n",
    "\n",
    "and others https://refactoring.guru/design-patterns/structural-patterns"
   ]
  },
  {
   "cell_type": "markdown",
   "metadata": {
    "slideshow": {
     "slide_type": "slide"
    }
   },
   "source": [
    "### Proxy pattern simple example\n",
    "\n",
    "```python\n",
    "class Product:\n",
    "    def request(self) -> None:\n",
    "        print(\"RealSubject: Handling request.\")\n",
    "\n",
    "class Proxy:\n",
    "    def __init__(self, real_product: Product) -> None:\n",
    "        self._real_product = real_product\n",
    "\n",
    "    def request(self) -> None:\n",
    "        if self.check_access():\n",
    "            self._real_product.request()\n",
    "            self.log_access()\n",
    "        else:\n",
    "            print(\"Forbidden\")\n",
    "\n",
    "    def check_access(self) -> bool:\n",
    "        print(\"Proxy: Checking access prior to firing a real request.\")\n",
    "        return True\n",
    "\n",
    "    def log_access(self) -> None:\n",
    "        print(\"Proxy: Logging the time of request.\", end=\"\")\n",
    "```\n",
    "\n",
    "Python example:\n",
    "    https://docs.python.org/3/library/types.html#types.MappingProxyType"
   ]
  },
  {
   "cell_type": "markdown",
   "metadata": {
    "slideshow": {
     "slide_type": "slide"
    }
   },
   "source": [
    "## Behavioral patterns\n",
    "\n",
    "    - Iterator\n",
    "        Lets you traverse elements of a collection.\n",
    "    - Observer\n",
    "        Lets you define a subscription mechanism to notify multiple\n",
    "        objects about any events that happen to the object they’re observing.\n",
    "\n",
    "and others https://refactoring.guru/design-patterns/behavioral-patterns"
   ]
  },
  {
   "cell_type": "markdown",
   "metadata": {
    "slideshow": {
     "slide_type": "slide"
    }
   },
   "source": [
    "### Observer simple example\n",
    "\n",
    "```python\n",
    "class Product:\n",
    "    _observers = []\n",
    "    def attach(self, observer):\n",
    "        self._observers.append(observer)\n",
    "\n",
    "    def notify(self) -> None:\n",
    "        for observer in self._observers:\n",
    "            observer.update(self)\n",
    "\n",
    "    def do_some_logic(self) -> None:\n",
    "        self.value = 2\n",
    "        self.notify()\n",
    "\n",
    "\n",
    "class ObserverA:\n",
    "    def update(self, product):\n",
    "        if product.value < 3:\n",
    "            print(\"ObserverA: Reacted to the event\")\n",
    "\n",
    "product = Product()\n",
    "observer_a = ObserverA()\n",
    "product.attach(observer_a)\n",
    "product.do_some_logic()\n",
    "```"
   ]
  },
  {
   "cell_type": "markdown",
   "metadata": {
    "slideshow": {
     "slide_type": "slide"
    }
   },
   "source": [
    "# Section 2. Garbage collection\n",
    "\n",
    "There are two aspects to memory management and garbage collection in CPython:\n",
    "\n",
    "    - Reference counting\n",
    "    - Generational garbage collection\n",
    "\n"
   ]
  },
  {
   "cell_type": "markdown",
   "metadata": {
    "slideshow": {
     "slide_type": "slide"
    }
   },
   "source": [
    "## Reference counting\n",
    "\n",
    "The main garbage collection mechanism in CPython is through reference counts.\n",
    "Whenever you create an object in Python, the underlying C object has both a Python type\n",
    "(such as list, dict, or function) and a reference count.\n",
    "\n",
    "At a very basic level, a Python object’s reference count is incremented whenever\n",
    "the object is referenced, and it’s decremented when an object is dereferenced. If an\n",
    "object’s reference count is 0, the memory for the object is deallocated.\n",
    "\n",
    "Your program’s code can’t disable Python’s reference counting.\n",
    "\n",
    "```python\n",
    "import sys\n",
    "a = 'test stirng'\n",
    "\n",
    "assert sys.getrefcount(a) == 2\n",
    "```\n",
    "\n",
    "```python\n",
    "import sys\n",
    "a = 'test string'\n",
    "b = [a] # Make a list with a as an element.\n",
    "c = {'key': a} # Create a dictionary with a as one of the values.\n",
    "\n",
    "assert sys.getrefcount(a) == 4\n",
    "```"
   ]
  },
  {
   "cell_type": "markdown",
   "metadata": {},
   "source": [
    "## del operator\n",
    "`del` doesn't actually delete the object. Instead of this it deletes the reference to this object. Later the object can be removed by the Garbage Collector (if this was the last reference to the object).\n",
    "\n",
    "You can implement a special method `__del__` \n",
    "\n",
    "```python\n",
    "class Foo:\n",
    "    def __del__(self):\n",
    "        \"\"\"\n",
    "        Release resources here\n",
    "        \"\"\"\n",
    "```\n",
    "\n",
    "But there are a lot of tricky things you have to keep in mind. So better not to implement it at all. `__del__` doesn't remove object. It's called by interpreter before the object is deleted from the memory."
   ]
  },
  {
   "cell_type": "markdown",
   "metadata": {
    "slideshow": {
     "slide_type": "slide"
    }
   },
   "source": [
    "## Generational garbage collection\n",
    "\n",
    "```python\n",
    "class MyClass:\n",
    "    pass\n",
    "\n",
    "a = MyClass()  # refcount: 1\n",
    "a.obj = a  # refcount: 2\n",
    "del a  # refcount: 1\n",
    "```\n",
    "\n",
    "That's why we need a generational garbage collector."
   ]
  },
  {
   "cell_type": "markdown",
   "metadata": {
    "slideshow": {
     "slide_type": "slide"
    }
   },
   "source": [
    "### Generation\n",
    "\n",
    "The garbage collector is keeping track of all objects in memory. A new object\n",
    "starts its life in the first generation of the garbage collector. If Python executes\n",
    "a garbage collection process on a generation and an object survives, it moves up into\n",
    "a second, older generation. The Python garbage collector has three generations in\n",
    "total, and an object moves into an older generation whenever it survives a garbage\n",
    "collection process on its current generation."
   ]
  },
  {
   "cell_type": "markdown",
   "metadata": {
    "slideshow": {
     "slide_type": "slide"
    }
   },
   "source": [
    "### Threshold\n",
    "\n",
    "For each generation, the garbage collector module has a threshold number of objects.\n",
    "If the number of objects exceeds that threshold, the garbage collector will trigger\n",
    "a collection process. For any objects that survive that process, they’re moved into an\n",
    "older generation.\n",
    "\n",
    "Unlike the reference counting mechanism, you may change the behavior of the\n",
    "generational garbage collector in your Python program. This includes changing the\n",
    "thresholds for triggering a garbage collection process in your code, manually\n",
    "triggering a garbage collection process, or disabling the garbage collection process\n",
    "altogether."
   ]
  },
  {
   "cell_type": "markdown",
   "metadata": {
    "slideshow": {
     "slide_type": "slide"
    }
   },
   "source": [
    "### Threshold\n",
    "\n",
    "```python\n",
    "import gc\n",
    "gc.get_threshold()\n",
    "(700, 10, 10)\n",
    "gc.set_threshold(1000, 15, 15)\n",
    "gc.get_threshold()\n",
    "(1000, 15, 15)\n",
    "```\n",
    "\n",
    "```python\n",
    "import gc\n",
    "gc.get_count()\n",
    "\n",
    "(596, 2, 1)\n",
    "```\n",
    "\n",
    "```python\n",
    "import gc\n",
    "\n",
    "gc.get_count()\n",
    "(595, 2, 1)\n",
    "\n",
    "gc.collect()\n",
    "57\n",
    "\n",
    "gc.get_count()\n",
    "(18, 0, 0)\n",
    "```"
   ]
  },
  {
   "cell_type": "markdown",
   "metadata": {
    "slideshow": {
     "slide_type": "slide"
    }
   },
   "source": [
    "# Section 3. Weak references\n",
    "\n",
    "Unlike the references we discussed above, a weak reference is a reference that does\n",
    "not protect the object from getting garbage collected.\n",
    "\n",
    "Why?\n",
    "\n",
    "There are two main applications of weak references:\n",
    "\n",
    "    - implement caches for large objects (weak dictionaries)\n",
    "    - reduction of Pain from circular references\n",
    "\n",
    "To create weak references, Python has provided us with a module named weakref.\n",
    "A point to keep in mind before using weakref is that some builtins such as tuple or int\n",
    "does not support this. list and dict support is either but we can add support through\n",
    "subclassing."
   ]
  },
  {
   "cell_type": "markdown",
   "metadata": {
    "slideshow": {
     "slide_type": "slide"
    }
   },
   "source": [
    "## Weakref module\n",
    "\n",
    "`class weakref.ref(object[, callback])`\n",
    "    This returns a weak reference to the object.\n",
    "\n",
    "`weakref.proxy(object[, callback])`\n",
    "    This returns a proxy to object which uses a weak reference.\n",
    "\n",
    "`weakref.getweakrefcount(object)`\n",
    "    Return the number of weak references and proxies which refer to object.\n",
    "\n",
    "`weakref.getweakrefs(object)`\n",
    "    Return a list of all weak reference and proxy objects which refer to object."
   ]
  },
  {
   "cell_type": "markdown",
   "metadata": {
    "slideshow": {
     "slide_type": "slide"
    }
   },
   "source": [
    "## Usage of weakref\n",
    "\n",
    "```python\n",
    "import weakref\n",
    "\n",
    "class MyClass(list):\n",
    "    pass\n",
    "\n",
    "obj = MyClass(\"TEST\")\n",
    "\n",
    "normal_list = obj\n",
    "print(f\"This is a normal list object: {normal_list}\")\n",
    "\n",
    "weak_list = weakref.ref(obj)\n",
    "weak_list_obj = weak_list()\n",
    "print(f\"This is a object created using weak reference: {weak_list_obj}\")\n",
    "\n",
    "proxy_list = weakref.proxy(obj)\n",
    "print(f\"This is a proxy object: {proxy_list}\")\n",
    "\n",
    "for objects in [normal_list, weak_list_obj, proxy_list]:\n",
    "    print(f\"Number of weak references: {weakref.getweakrefcount(objects)}\")\n",
    "```\n",
    "\n",
    "```\n",
    "This is a normal object: [‘T’, ‘E’, ‘S’, ‘T’]\n",
    "This is a object created using weak reference: [‘T’, ‘E’, ‘S’, ‘T’]\n",
    "This is a proxy object: [‘T’, ‘E’, ‘S’, ‘T’]\n",
    "Number of weak references: 2\n",
    "Number of weak references: 2\n",
    "Number of weak references: 0\n",
    "```"
   ]
  },
  {
   "cell_type": "markdown",
   "metadata": {
    "slideshow": {
     "slide_type": "slide"
    }
   },
   "source": [
    "# Section 4. Lazy objects\n",
    "\n",
    "Lazy evaluation is a programming implementation paradigm that\n",
    "defers evaluating necessary operations until it’s requested to do so.\n",
    "\n",
    "Why?\n",
    "\n",
    "```python\n",
    "class User:\n",
    "    def __init__(self, username):\n",
    "        self.username = username\n",
    "        self.profile_data = self._get_profile_data()\n",
    "        print(f\"{self.__class__.__name__} instance created\")\n",
    "\n",
    "    def _get_profile_data(self):\n",
    "        print(\"Run the expensive operation\")\n",
    "        fetched_data = \"The mock data of a large size\"\n",
    "        return fetched_data\n",
    "\n",
    "def get_followers(username):\n",
    "    usernames_fetched = [\"David\", \"Aaron\", \"Zack\"]\n",
    "    users = [User(username) for username in usernames_fetched]\n",
    "    return users\n",
    "...\n",
    "users = get_followers(\"user0\")\n",
    "```\n",
    "\n",
    "```\n",
    "Run the expensive operation\n",
    "User instance created\n",
    "Run the expensive operation\n",
    "User instance created\n",
    "Run the expensive operation\n",
    "User instance created\n",
    "```"
   ]
  },
  {
   "cell_type": "markdown",
   "metadata": {
    "slideshow": {
     "slide_type": "slide"
    }
   },
   "source": [
    "## __getattr__\n",
    "\n",
    "```python\n",
    "class User2:\n",
    "    def __init__(self, username):\n",
    "        self.username = username\n",
    "        print(f\"{self.__class__.__name__} instance created\")\n",
    "\n",
    "    def __str__(self):\n",
    "        return f\"user {self.username}\"\n",
    "\n",
    "    def __getattr__(self, name):\n",
    "        print(f\"__getattr__ called for {name}\")\n",
    "        if name == \"profile_data\":\n",
    "            profile_data = self._get_profile_data()\n",
    "            setattr(self, name, profile_data)\n",
    "            return profile_data\n",
    "        else:\n",
    "            raise AttributeError(f\"{self} has no attribute called {name}.\")\n",
    "\n",
    "    def _get_profile_data(self):\n",
    "        print(\"Run the expensive operation\")\n",
    "        fetched_data = \"The mock data of a large size\"\n",
    "        return fetched_data\n",
    "```\n",
    "\n",
    "`__getattr__` method doesn’t get called when a particular attribute is in\n",
    "the instance dictionary."
   ]
  },
  {
   "cell_type": "markdown",
   "metadata": {},
   "source": [
    "## property\n",
    "\n",
    "```python\n",
    "class User:\n",
    "    def __init__(self, username):\n",
    "        self.username = username\n",
    "        print(f\"{self.__class__.__name__} instance created\")\n",
    "    \n",
    "    @property\n",
    "    def profile_data(self):\n",
    "        print(\"Run the expensive operation\")\n",
    "        fetched_data = \"The mock data of a large size\"\n",
    "        return fetched_data\n",
    "\n",
    "```"
   ]
  },
  {
   "cell_type": "code",
   "execution_count": null,
   "metadata": {},
   "outputs": [],
   "source": []
  }
 ],
 "metadata": {
  "celltoolbar": "Slideshow",
  "kernelspec": {
   "display_name": "Python 3",
   "language": "python",
   "name": "python3"
  },
  "language_info": {
   "codemirror_mode": {
    "name": "ipython",
    "version": 3
   },
   "file_extension": ".py",
   "mimetype": "text/x-python",
   "name": "python",
   "nbconvert_exporter": "python",
   "pygments_lexer": "ipython3",
   "version": "3.6.8"
  },
  "rise": {
   "scroll": true
  }
 },
 "nbformat": 4,
 "nbformat_minor": 4
}
