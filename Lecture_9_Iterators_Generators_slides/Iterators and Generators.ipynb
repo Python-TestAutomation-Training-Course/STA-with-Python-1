{
 "cells": [
  {
   "cell_type": "markdown",
   "id": "6e1ba8e0",
   "metadata": {
    "slideshow": {
     "slide_type": "slide"
    }
   },
   "source": [
    "# Iterators and generators in Python"
   ]
  },
  {
   "cell_type": "markdown",
   "id": "177ea731",
   "metadata": {
    "slideshow": {
     "slide_type": "slide"
    }
   },
   "source": [
    "# Agenda\n",
    "1. Reverse engineering an iterator\n",
    "2. Creating an iterator\n",
    "3. Creating a generator\n",
    "4. Iterators vs generators\n",
    "5. Why an iterator?\n",
    "6. Range, enumerate, zip are iterators\n",
    "7. List, dict, set, generator comprehension\n",
    "8. Summary"
   ]
  },
  {
   "cell_type": "markdown",
   "id": "79ea5902",
   "metadata": {
    "slideshow": {
     "slide_type": "slide"
    }
   },
   "source": [
    "# Reverse engineering an iterator"
   ]
  },
  {
   "cell_type": "code",
   "execution_count": 64,
   "id": "e13174b6",
   "metadata": {
    "slideshow": {
     "slide_type": "fragment"
    }
   },
   "outputs": [
    {
     "name": "stdout",
     "output_type": "stream",
     "text": [
      "1\n",
      "2\n",
      "3\n",
      "4\n",
      "5\n"
     ]
    }
   ],
   "source": [
    "some_list = [1, 2, 3, 4, 5]\n",
    "for element in some_list:\n",
    "    print(element)"
   ]
  },
  {
   "cell_type": "code",
   "execution_count": 65,
   "id": "c5c9054e",
   "metadata": {
    "slideshow": {
     "slide_type": "fragment"
    }
   },
   "outputs": [
    {
     "name": "stdout",
     "output_type": "stream",
     "text": [
      "1\n"
     ]
    }
   ],
   "source": [
    "iterator = iter(some_list)\n",
    "print(next(iterator))"
   ]
  },
  {
   "cell_type": "code",
   "execution_count": 66,
   "id": "e5197b7b",
   "metadata": {
    "slideshow": {
     "slide_type": "fragment"
    }
   },
   "outputs": [
    {
     "name": "stdout",
     "output_type": "stream",
     "text": [
      "2\n",
      "3\n",
      "4\n",
      "5\n"
     ]
    }
   ],
   "source": [
    "print(next(iterator))\n",
    "print(next(iterator))\n",
    "print(next(iterator))\n",
    "print(next(iterator))"
   ]
  },
  {
   "cell_type": "code",
   "execution_count": 67,
   "id": "d8ddc9be",
   "metadata": {
    "slideshow": {
     "slide_type": "fragment"
    }
   },
   "outputs": [
    {
     "ename": "StopIteration",
     "evalue": "",
     "output_type": "error",
     "traceback": [
      "\u001b[1;31m---------------------------------------------------------------------------\u001b[0m",
      "\u001b[1;31mStopIteration\u001b[0m                             Traceback (most recent call last)",
      "Input \u001b[1;32mIn [67]\u001b[0m, in \u001b[0;36m<module>\u001b[1;34m\u001b[0m\n\u001b[1;32m----> 1\u001b[0m \u001b[38;5;28mprint\u001b[39m(\u001b[38;5;28;43mnext\u001b[39;49m\u001b[43m(\u001b[49m\u001b[43miterator\u001b[49m\u001b[43m)\u001b[49m)\n",
      "\u001b[1;31mStopIteration\u001b[0m: "
     ]
    }
   ],
   "source": [
    "print(next(iterator))"
   ]
  },
  {
   "cell_type": "markdown",
   "id": "417927ff",
   "metadata": {
    "slideshow": {
     "slide_type": "slide"
    }
   },
   "source": [
    "# Creating an iterator"
   ]
  },
  {
   "cell_type": "code",
   "execution_count": 69,
   "id": "d062ddee",
   "metadata": {
    "slideshow": {
     "slide_type": "fragment"
    }
   },
   "outputs": [],
   "source": [
    "class Iterator:\n",
    "    def __init__(self, limit):        # Default values (if any)\n",
    "        self.limit = limit\n",
    "        self.counter = 0\n",
    "        \n",
    "    def __iter__(self):               # Return the iterator\n",
    "        return self\n",
    "\n",
    "    def __next__(self):\n",
    "        if self.counter < self.limit: # Return next value\n",
    "            self.counter += 1\n",
    "            return self.counter\n",
    "        else:\n",
    "            raise StopIteration"
   ]
  },
  {
   "cell_type": "code",
   "execution_count": 73,
   "id": "5f7163ac",
   "metadata": {
    "slideshow": {
     "slide_type": "fragment"
    }
   },
   "outputs": [
    {
     "name": "stdout",
     "output_type": "stream",
     "text": [
      "<__main__.Iterator object at 0x0000014A4AE4F8B0>\n"
     ]
    }
   ],
   "source": [
    "my_iterator = Iterator(5)\n",
    "print(my_iterator)"
   ]
  },
  {
   "cell_type": "code",
   "execution_count": 71,
   "id": "9e0976f3",
   "metadata": {
    "slideshow": {
     "slide_type": "fragment"
    }
   },
   "outputs": [
    {
     "name": "stdout",
     "output_type": "stream",
     "text": [
      "1\n",
      "2\n",
      "3\n",
      "4\n",
      "5\n"
     ]
    }
   ],
   "source": [
    "for element in my_iterator:\n",
    "    print(element)"
   ]
  },
  {
   "cell_type": "code",
   "execution_count": 72,
   "id": "ad6c7c94",
   "metadata": {
    "slideshow": {
     "slide_type": "fragment"
    }
   },
   "outputs": [
    {
     "ename": "StopIteration",
     "evalue": "",
     "output_type": "error",
     "traceback": [
      "\u001b[1;31m---------------------------------------------------------------------------\u001b[0m",
      "\u001b[1;31mStopIteration\u001b[0m                             Traceback (most recent call last)",
      "Input \u001b[1;32mIn [72]\u001b[0m, in \u001b[0;36m<module>\u001b[1;34m\u001b[0m\n\u001b[1;32m----> 1\u001b[0m \u001b[38;5;28mprint\u001b[39m(\u001b[38;5;28;43mnext\u001b[39;49m\u001b[43m(\u001b[49m\u001b[43mmy_iterator\u001b[49m\u001b[43m)\u001b[49m)\n",
      "Input \u001b[1;32mIn [69]\u001b[0m, in \u001b[0;36mIterator.__next__\u001b[1;34m(self)\u001b[0m\n\u001b[0;32m     12\u001b[0m     \u001b[38;5;28;01mreturn\u001b[39;00m \u001b[38;5;28mself\u001b[39m\u001b[38;5;241m.\u001b[39mcounter\n\u001b[0;32m     13\u001b[0m \u001b[38;5;28;01melse\u001b[39;00m:\n\u001b[1;32m---> 14\u001b[0m     \u001b[38;5;28;01mraise\u001b[39;00m \u001b[38;5;167;01mStopIteration\u001b[39;00m\n",
      "\u001b[1;31mStopIteration\u001b[0m: "
     ]
    }
   ],
   "source": [
    "print(next(my_iterator))"
   ]
  },
  {
   "cell_type": "markdown",
   "id": "6822864e",
   "metadata": {
    "slideshow": {
     "slide_type": "slide"
    }
   },
   "source": [
    "# Creating a generator"
   ]
  },
  {
   "cell_type": "code",
   "execution_count": 74,
   "id": "c3a72697",
   "metadata": {
    "slideshow": {
     "slide_type": "fragment"
    }
   },
   "outputs": [
    {
     "name": "stdout",
     "output_type": "stream",
     "text": [
      "<generator object generator at 0x0000014980139F20>\n"
     ]
    }
   ],
   "source": [
    "def generator(limit): \n",
    "    value = 1\n",
    "    while value <= limit:\n",
    "        yield value\n",
    "        value += 1\n",
    "\n",
    "my_generator = generator(5) \n",
    "print(my_generator)"
   ]
  },
  {
   "cell_type": "code",
   "execution_count": 75,
   "id": "f91af164",
   "metadata": {
    "slideshow": {
     "slide_type": "fragment"
    }
   },
   "outputs": [
    {
     "name": "stdout",
     "output_type": "stream",
     "text": [
      "1\n"
     ]
    }
   ],
   "source": [
    "print(next(my_generator))"
   ]
  },
  {
   "cell_type": "code",
   "execution_count": 76,
   "id": "184121d3",
   "metadata": {
    "slideshow": {
     "slide_type": "fragment"
    }
   },
   "outputs": [
    {
     "name": "stdout",
     "output_type": "stream",
     "text": [
      "2\n",
      "3\n",
      "4\n",
      "5\n"
     ]
    }
   ],
   "source": [
    "print(next(my_generator))\n",
    "print(next(my_generator))\n",
    "print(next(my_generator))\n",
    "print(next(my_generator))"
   ]
  },
  {
   "cell_type": "code",
   "execution_count": 77,
   "id": "bd629576",
   "metadata": {
    "slideshow": {
     "slide_type": "fragment"
    }
   },
   "outputs": [
    {
     "ename": "StopIteration",
     "evalue": "",
     "output_type": "error",
     "traceback": [
      "\u001b[1;31m---------------------------------------------------------------------------\u001b[0m",
      "\u001b[1;31mStopIteration\u001b[0m                             Traceback (most recent call last)",
      "Input \u001b[1;32mIn [77]\u001b[0m, in \u001b[0;36m<module>\u001b[1;34m\u001b[0m\n\u001b[1;32m----> 1\u001b[0m \u001b[38;5;28mprint\u001b[39m(\u001b[38;5;28;43mnext\u001b[39;49m\u001b[43m(\u001b[49m\u001b[43mmy_generator\u001b[49m\u001b[43m)\u001b[49m)\n",
      "\u001b[1;31mStopIteration\u001b[0m: "
     ]
    }
   ],
   "source": [
    "print(next(my_generator))"
   ]
  },
  {
   "cell_type": "markdown",
   "id": "ff0decfe",
   "metadata": {
    "slideshow": {
     "slide_type": "slide"
    }
   },
   "source": [
    "# Q: Are generators iterators?"
   ]
  },
  {
   "cell_type": "markdown",
   "id": "a7c19262",
   "metadata": {
    "slideshow": {
     "slide_type": "fragment"
    }
   },
   "source": [
    "# A: Yes, they are!"
   ]
  },
  {
   "cell_type": "markdown",
   "id": "8add6430",
   "metadata": {
    "slideshow": {
     "slide_type": "slide"
    }
   },
   "source": [
    "# Iterators vs generators"
   ]
  },
  {
   "cell_type": "markdown",
   "id": "ac86b63b",
   "metadata": {
    "slideshow": {
     "slide_type": "fragment"
    }
   },
   "source": [
    "* **Iterators** - objects that do not contain the entire sequence, but only the current element and a way to calculate the next element based on some conditions"
   ]
  },
  {
   "cell_type": "markdown",
   "id": "b4f0dc3e",
   "metadata": {
    "slideshow": {
     "slide_type": "fragment"
    }
   },
   "source": [
    "* **Generators** - iterators that are **declared as a function** and **use yield**"
   ]
  },
  {
   "cell_type": "markdown",
   "id": "62e3f5e9",
   "metadata": {
    "slideshow": {
     "slide_type": "fragment"
    }
   },
   "source": [
    "* **Both iterators and generators** have:\n",
    "    * `__iter__` method implemented\n",
    "    * `__next__` method implemented\n",
    "    * `StopIteration` exception"
   ]
  },
  {
   "cell_type": "markdown",
   "id": "85c5f972",
   "metadata": {
    "slideshow": {
     "slide_type": "slide"
    }
   },
   "source": [
    "# Why an iterator?"
   ]
  },
  {
   "cell_type": "code",
   "execution_count": 82,
   "id": "82dd4649",
   "metadata": {
    "slideshow": {
     "slide_type": "fragment"
    }
   },
   "outputs": [
    {
     "name": "stdout",
     "output_type": "stream",
     "text": [
      "iterator - 48 bytes\n",
      "tuple - 64 bytes\n",
      "list - 104 bytes\n",
      "set - 456 bytes\n"
     ]
    }
   ],
   "source": [
    "my_iterator = range(5)\n",
    "my_tuple = (0, 1, 2, 3, 4)\n",
    "my_list = [0, 1, 2, 3, 4]\n",
    "my_set = {0, 1, 2, 3, 4}\n",
    "for name, element in zip([\"iterator\", \"tuple\", \"list\", \"set\"], [my_iterator, my_tuple, my_list, my_set]):\n",
    "    print(f\"{name} - {element.__sizeof__()} bytes\")"
   ]
  },
  {
   "cell_type": "code",
   "execution_count": 88,
   "id": "f82971ed",
   "metadata": {
    "slideshow": {
     "slide_type": "fragment"
    }
   },
   "outputs": [
    {
     "name": "stdout",
     "output_type": "stream",
     "text": [
      "2.0597474575042725\n",
      "0.994987964630127\n"
     ]
    }
   ],
   "source": [
    "from time import time\n",
    "\n",
    "start = time()\n",
    "\n",
    "some_list = []\n",
    "for number in range(20_000_000):\n",
    "    some_list.append(number)\n",
    "\n",
    "end = time()\n",
    "print(end - start)\n",
    "\n",
    "start1 = time()\n",
    "\n",
    "some_list = [number for number in range(20_000_000)]\n",
    "end1 = time()\n",
    "print(end1 - start1)"
   ]
  },
  {
   "cell_type": "markdown",
   "id": "a8999c7f",
   "metadata": {
    "slideshow": {
     "slide_type": "slide"
    }
   },
   "source": [
    "![speed.jpg](images/speed.jpg)"
   ]
  },
  {
   "cell_type": "markdown",
   "id": "3bd71099",
   "metadata": {
    "slideshow": {
     "slide_type": "slide"
    }
   },
   "source": [
    "# Range, enumerate, zip are iterators"
   ]
  },
  {
   "cell_type": "code",
   "execution_count": 15,
   "id": "ecfc5a59",
   "metadata": {
    "slideshow": {
     "slide_type": "fragment"
    }
   },
   "outputs": [
    {
     "name": "stdout",
     "output_type": "stream",
     "text": [
      "0\n",
      "1\n",
      "2\n",
      "3\n",
      "4\n"
     ]
    }
   ],
   "source": [
    "for number in range(5):\n",
    "    print(number)"
   ]
  },
  {
   "cell_type": "code",
   "execution_count": 16,
   "id": "b94c1118",
   "metadata": {
    "slideshow": {
     "slide_type": "fragment"
    }
   },
   "outputs": [
    {
     "name": "stdout",
     "output_type": "stream",
     "text": [
      "0 - b\n",
      "1 - a\n",
      "2 - d\n",
      "3 - g\n",
      "4 - e\n",
      "5 - r\n"
     ]
    }
   ],
   "source": [
    "for index, character in enumerate(\"badger\"):\n",
    "    print(f\"{index} - {character}\")"
   ]
  },
  {
   "cell_type": "code",
   "execution_count": 17,
   "id": "c42939f5",
   "metadata": {
    "slideshow": {
     "slide_type": "fragment"
    }
   },
   "outputs": [
    {
     "name": "stdout",
     "output_type": "stream",
     "text": [
      "1 - a\n",
      "2 - b\n",
      "3 - c\n"
     ]
    }
   ],
   "source": [
    "list1 = [1, 2, 3]\n",
    "list2 = [\"a\", \"b\", \"c\"]\n",
    "for number, letter in zip(list1, list2):\n",
    "    print(f\"{number} - {letter}\")"
   ]
  },
  {
   "cell_type": "markdown",
   "id": "3cc653ee",
   "metadata": {
    "slideshow": {
     "slide_type": "slide"
    }
   },
   "source": [
    "# Comprehensions in Python"
   ]
  },
  {
   "cell_type": "markdown",
   "id": "5209f971",
   "metadata": {
    "slideshow": {
     "slide_type": "fragment"
    }
   },
   "source": [
    "* **List comprehension**\n",
    "    * [element for element in list_of_elements]"
   ]
  },
  {
   "cell_type": "markdown",
   "id": "0512bde8",
   "metadata": {
    "slideshow": {
     "slide_type": "fragment"
    }
   },
   "source": [
    "* **Dict comprehension**\n",
    "    * {key: value for key, value in some_dict.items()}"
   ]
  },
  {
   "cell_type": "markdown",
   "id": "712c2e7d",
   "metadata": {
    "slideshow": {
     "slide_type": "fragment"
    }
   },
   "source": [
    "* **Set comprehension**\n",
    "    * {element for element in list_of_elements}"
   ]
  },
  {
   "cell_type": "markdown",
   "id": "56f75621",
   "metadata": {
    "slideshow": {
     "slide_type": "fragment"
    }
   },
   "source": [
    "* **Generator comprehension?**"
   ]
  },
  {
   "cell_type": "markdown",
   "id": "64ff31b5",
   "metadata": {
    "slideshow": {
     "slide_type": "slide"
    }
   },
   "source": [
    "# Generator compherension"
   ]
  },
  {
   "cell_type": "markdown",
   "id": "e5f26371",
   "metadata": {
    "slideshow": {
     "slide_type": "fragment"
    }
   },
   "source": [
    "* `(element for element in iterable)`"
   ]
  },
  {
   "cell_type": "markdown",
   "id": "5fde0143",
   "metadata": {
    "slideshow": {
     "slide_type": "fragment"
    }
   },
   "source": [
    "* `(element for element in iterable if <condition>)`\n",
    "* `(element for element in iterable if <not> <condition>)`\n",
    "* `(<value1> if <condition1> else <value2> element for element in iterable if <condition2>)`\n",
    "* `(<value1> if <condition1> else <value2> element for element in iterable if <not> <condition2>)`"
   ]
  },
  {
   "cell_type": "markdown",
   "id": "b60d7179",
   "metadata": {
    "slideshow": {
     "slide_type": "slide"
    }
   },
   "source": [
    "# A generator comprehension example"
   ]
  },
  {
   "cell_type": "code",
   "execution_count": 2,
   "id": "327656ad",
   "metadata": {
    "slideshow": {
     "slide_type": "fragment"
    }
   },
   "outputs": [
    {
     "name": "stdout",
     "output_type": "stream",
     "text": [
      "<class 'generator'>\n",
      "xxx\n",
      "3\n",
      "5\n",
      "7\n",
      "9\n"
     ]
    },
    {
     "ename": "StopIteration",
     "evalue": "",
     "output_type": "error",
     "traceback": [
      "\u001b[1;31m---------------------------------------------------------------------------\u001b[0m",
      "\u001b[1;31mStopIteration\u001b[0m                             Traceback (most recent call last)",
      "Input \u001b[1;32mIn [2]\u001b[0m, in \u001b[0;36m<module>\u001b[1;34m\u001b[0m\n\u001b[0;32m      8\u001b[0m     \u001b[38;5;28mprint\u001b[39m(element)\n\u001b[0;32m      9\u001b[0m \u001b[38;5;28;01melse\u001b[39;00m:\n\u001b[1;32m---> 10\u001b[0m     \u001b[38;5;28mprint\u001b[39m(\u001b[38;5;28;43mnext\u001b[39;49m\u001b[43m(\u001b[49m\u001b[43mhello_world\u001b[49m\u001b[43m)\u001b[49m)\n",
      "\u001b[1;31mStopIteration\u001b[0m: "
     ]
    }
   ],
   "source": [
    "hello_world = ('xxx' if value == 1 else value for value in range(1,11) if value % 2)\n",
    "\n",
    "print(hello_world.__class__)\n",
    "\n",
    "for element in hello_world:\n",
    "    print(element)\n",
    "else:\n",
    "    print(next(hello_world))"
   ]
  },
  {
   "cell_type": "markdown",
   "id": "9f136569",
   "metadata": {
    "slideshow": {
     "slide_type": "slide"
    }
   },
   "source": [
    "# Summary"
   ]
  },
  {
   "cell_type": "markdown",
   "id": "d47ccbe2",
   "metadata": {
    "slideshow": {
     "slide_type": "fragment"
    }
   },
   "source": [
    "* **Iterators** are objects that\n",
    "    1. do not provide the entire calculation immediately, but\n",
    "    2. hold the current value and\n",
    "    3. conditions to calculate the next and\n",
    "    4. throw an exception when all its value have been exhausted\n",
    "    "
   ]
  },
  {
   "cell_type": "markdown",
   "id": "658d0763",
   "metadata": {
    "slideshow": {
     "slide_type": "fragment"
    }
   },
   "source": [
    "* **Generators** are iterators that\n",
    "    1. functions that use yield "
   ]
  },
  {
   "cell_type": "markdown",
   "id": "dc751f18",
   "metadata": {
    "slideshow": {
     "slide_type": "fragment"
    }
   },
   "source": [
    "* **Advantages** of iterators:\n",
    "    1. Take up significantly less memory\n",
    "    2. Work much faster"
   ]
  },
  {
   "cell_type": "markdown",
   "id": "77020c0b",
   "metadata": {
    "slideshow": {
     "slide_type": "fragment"
    }
   },
   "source": [
    "* **Disadvantages** of iterators:\n",
    "    1. Specific syntax"
   ]
  },
  {
   "cell_type": "markdown",
   "id": "44f9d3d0",
   "metadata": {
    "slideshow": {
     "slide_type": "slide"
    }
   },
   "source": [
    "# Let's discuss :)"
   ]
  },
  {
   "cell_type": "markdown",
   "id": "ad6e1eb5",
   "metadata": {
    "slideshow": {
     "slide_type": "slide"
    }
   },
   "source": [
    "# Thank you for your attention!"
   ]
  }
 ],
 "metadata": {
  "celltoolbar": "Slideshow",
  "kernelspec": {
   "display_name": "Python 3 (ipykernel)",
   "language": "python",
   "name": "python3"
  },
  "language_info": {
   "codemirror_mode": {
    "name": "ipython",
    "version": 3
   },
   "file_extension": ".py",
   "mimetype": "text/x-python",
   "name": "python",
   "nbconvert_exporter": "python",
   "pygments_lexer": "ipython3",
   "version": "3.9.6"
  }
 },
 "nbformat": 4,
 "nbformat_minor": 5
}
